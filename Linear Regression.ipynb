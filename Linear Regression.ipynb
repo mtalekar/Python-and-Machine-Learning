{
 "cells": [
  {
   "cell_type": "markdown",
   "metadata": {},
   "source": [
    "# Linear Regression\n",
    "Linear Regression, a very simple approach for supervised learning. In particular, linear regression is a useful tool for predicting a **quantitative** response.\n",
    "\n",
    "It may seem somewhat dull(at first) compared to some of the more modern statistical learning approaches already discussed, linear regression is still a useful and widely used statistical learning method. Moreover, it serves as a good jumping-oﬀ point for newer approaches, many fancy statistical learning approaches can be seen as generalizations or extensions of linear regression."
   ]
  },
  {
   "cell_type": "code",
   "execution_count": 5,
   "metadata": {},
   "outputs": [],
   "source": [
    "import pandas as pd\n",
    "import numpy as np\n",
    "import matplotlib.pyplot as plt\n",
    "import seaborn as sns\n",
    "%matplotlib inline"
   ]
  },
  {
   "cell_type": "code",
   "execution_count": 6,
   "metadata": {},
   "outputs": [
    {
     "data": {
      "text/html": [
       "<div>\n",
       "<style scoped>\n",
       "    .dataframe tbody tr th:only-of-type {\n",
       "        vertical-align: middle;\n",
       "    }\n",
       "\n",
       "    .dataframe tbody tr th {\n",
       "        vertical-align: top;\n",
       "    }\n",
       "\n",
       "    .dataframe thead th {\n",
       "        text-align: right;\n",
       "    }\n",
       "</style>\n",
       "<table border=\"1\" class=\"dataframe\">\n",
       "  <thead>\n",
       "    <tr style=\"text-align: right;\">\n",
       "      <th></th>\n",
       "      <th>Experience</th>\n",
       "      <th>Salary</th>\n",
       "    </tr>\n",
       "  </thead>\n",
       "  <tbody>\n",
       "    <tr>\n",
       "      <th>0</th>\n",
       "      <td>2</td>\n",
       "      <td>15</td>\n",
       "    </tr>\n",
       "    <tr>\n",
       "      <th>1</th>\n",
       "      <td>3</td>\n",
       "      <td>28</td>\n",
       "    </tr>\n",
       "    <tr>\n",
       "      <th>2</th>\n",
       "      <td>5</td>\n",
       "      <td>42</td>\n",
       "    </tr>\n",
       "    <tr>\n",
       "      <th>3</th>\n",
       "      <td>13</td>\n",
       "      <td>64</td>\n",
       "    </tr>\n",
       "    <tr>\n",
       "      <th>4</th>\n",
       "      <td>8</td>\n",
       "      <td>50</td>\n",
       "    </tr>\n",
       "    <tr>\n",
       "      <th>5</th>\n",
       "      <td>16</td>\n",
       "      <td>90</td>\n",
       "    </tr>\n",
       "    <tr>\n",
       "      <th>6</th>\n",
       "      <td>11</td>\n",
       "      <td>58</td>\n",
       "    </tr>\n",
       "    <tr>\n",
       "      <th>7</th>\n",
       "      <td>1</td>\n",
       "      <td>8</td>\n",
       "    </tr>\n",
       "    <tr>\n",
       "      <th>8</th>\n",
       "      <td>9</td>\n",
       "      <td>54</td>\n",
       "    </tr>\n",
       "  </tbody>\n",
       "</table>\n",
       "</div>"
      ],
      "text/plain": [
       "   Experience  Salary\n",
       "0           2      15\n",
       "1           3      28\n",
       "2           5      42\n",
       "3          13      64\n",
       "4           8      50\n",
       "5          16      90\n",
       "6          11      58\n",
       "7           1       8\n",
       "8           9      54"
      ]
     },
     "execution_count": 6,
     "metadata": {},
     "output_type": "execute_result"
    }
   ],
   "source": [
    "df = pd.DataFrame({'Experience':[2,3,5,13,8,16,11,1,9], \n",
    "                   'Salary':[15,28,42,64,50,90,58,8,54]})\n",
    "df"
   ]
  },
  {
   "cell_type": "code",
   "execution_count": 7,
   "metadata": {
    "scrolled": false
   },
   "outputs": [
    {
     "data": {
      "text/plain": [
       "Text(0.5, 1.0, 'Experience v/s Salary')"
      ]
     },
     "execution_count": 7,
     "metadata": {},
     "output_type": "execute_result"
    },
    {
     "data": {
      "image/png": "[encoded data removed]",
      "text/plain": [
       "<Figure size 864x432 with 1 Axes>"
      ]
     },
     "metadata": {
      "needs_background": "light"
     },
     "output_type": "display_data"
    }
   ],
   "source": [
    "plt.figure(figsize=(12,6))\n",
    "plt.scatter(df['Experience'], df['Salary'])\n",
    "plt.xlabel('Experience')\n",
    "plt.ylabel('Salary')\n",
    "plt.title('Experience v/s Salary')"
   ]
  },
  {
   "cell_type": "code",
   "execution_count": 8,
   "metadata": {},
   "outputs": [
    {
     "name": "stderr",
     "output_type": "stream",
     "text": [
      "C:\\Users\\Computer World\\Anaconda3\\lib\\site-packages\\seaborn\\regression.py:546: UserWarning: The `size` paramter has been renamed to `height`; please update your code.\n",
      "  warnings.warn(msg, UserWarning)\n",
      "C:\\Users\\Computer World\\Anaconda3\\lib\\site-packages\\scipy\\stats\\stats.py:1633: FutureWarning: Using a non-tuple sequence for multidimensional indexing is deprecated; use `arr[tuple(seq)]` instead of `arr[seq]`. In the future this will be interpreted as an array index, `arr[np.array(seq)]`, which will result either in an error or a different result.\n",
      "  return np.add.reduce(sorted[indexer] * weights, axis=axis) / sumval\n"
     ]
    },
    {
     "data": {
      "text/plain": [
       "<seaborn.axisgrid.FacetGrid at 0x2454a72deb8>"
      ]
     },
     "execution_count": 8,
     "metadata": {},
     "output_type": "execute_result"
    },
    {
     "data": {
      "image/png": "[encoded data removed]",
      "text/plain": [
       "<Figure size 864x432 with 1 Axes>"
      ]
     },
     "metadata": {
      "needs_background": "light"
     },
     "output_type": "display_data"
    }
   ],
   "source": [
    "sns.lmplot(x='Experience', y='Salary', data=df, size=6, aspect=2)\n",
    "# df_s = df.sort_values('Experience')\n",
    "# plt.plot(df_s['Experience'], df_s['Salary'])"
   ]
  },
  {
   "cell_type": "markdown",
   "metadata": {},
   "source": [
    "### What is 'Best Fit Line' ?\n",
    "Not exactly passes through all the data points but instead tries it's best to approximate them.\n",
    "\n",
    "### What is Regression ?\n",
    "When your output is not a class label (like yes/no or spam/ham) neither is cluster (like c0, c1, etc.); but instead is a continuous value (like salary, height, etc.)\n",
    "\n",
    "**Linear Regression** algorithm helps you to make this 'Best Fit Line' (by finding its equation).\n",
    "\n",
    "### Remembered SVM ??\n",
    "We drew a line separating the data points into two classes. To select the best line we use **margin** as the metric and then tried to **maximize** it.<br>\n",
    "Here in Linear Regression, we will use **Sum of Square Error (SSE)** as the metric and try to **minimize** it to get the 'Best Fit Line'.\n",
    "\n",
    "### SSE and why we want to minimize it ?\n",
    "SSE is the square of the difference between the predicted value and True value (i.e Error).<br>\n",
    "We tend to minimize the Error because this is how we define it.\n",
    "<img src=\"images/sse.png\" width=400 />\n",
    "\n",
    "<img src=\"images/Screenshot_5.png\" width=400 />\n",
    "\n",
    "### How should we go about minimizing the error ?\n",
    "Selecting a line which gives minimum value of SSE, which means finding values of **m** and **c** in the line equation which gives us minimum value of SSE.\n",
    "\n",
    "![](images/sse_f.png)\n",
    "\n",
    "To do the best fit of line intercept, we need to apply a linear regression model to reduce the SSE value as minimum as possible.\n",
    "\n",
    "   \n",
    "## Demo Time !!!"
   ]
  },
  {
   "cell_type": "code",
   "execution_count": 9,
   "metadata": {},
   "outputs": [],
   "source": [
    "from sklearn.datasets import load_diabetes\n",
    "import numpy as np\n",
    "import matplotlib.pyplot as plt\n",
    "from sklearn.linear_model import LinearRegression\n",
    "from ipywidgets import interact, interactive, fixed, interact_manual\n",
    "import ipywidgets as widgets\n",
    "from sklearn.metrics import mean_squared_error as mse"
   ]
  },
  {
   "cell_type": "code",
   "execution_count": 10,
   "metadata": {},
   "outputs": [],
   "source": [
    "# Load the diabetes dataset\n",
    "diabetes = load_diabetes()\n",
    "\n",
    "# Use only one feature\n",
    "diabetes_X = diabetes.data[:, np.newaxis, 2]\n",
    "\n",
    "# taking last 20 samples\n",
    "diabetes_X_test = diabetes_X[-20:]\n",
    "diabetes_y_test = diabetes.target[-20:]\n",
    "\n",
    "# calculating min(), max()\n",
    "dx_min, dx_max = diabetes_X_test.min(), diabetes_X_test.max()\n",
    "dy_min, dy_max = diabetes_y_test.min(), diabetes_y_test.max()\n",
    "\n",
    "# normalizing \n",
    "diabetes_X_test = (diabetes_X_test - dx_min)/(dx_max-dx_min)\n",
    "diabetes_y_test = (diabetes_y_test - dy_min)/(dy_max-dy_min)"
   ]
  },
  {
   "cell_type": "code",
   "execution_count": 11,
   "metadata": {},
   "outputs": [],
   "source": [
    "# plot linear regression\n",
    "def plot_linearModel(m,c):\n",
    "    y_pred = (m*diabetes_X_test)+c\n",
    "    plt.scatter(diabetes_X_test, diabetes_y_test,  color='black')\n",
    "    plt.plot(diabetes_X_test, y_pred, color='blue', linewidth=3)\n",
    "    plt.xticks(())\n",
    "    plt.yticks(())\n",
    "    plt.xlim((0, 1.1))\n",
    "    plt.ylim((0, 1.1))\n",
    "    ys = np.array(list(zip(diabetes_y_test, y_pred))).reshape(-1)\n",
    "    xs = np.repeat(diabetes_X_test, 2)\n",
    "    for i in range(0, len(ys), 2):\n",
    "        plt.plot(xs[i:i+2], ys[i:i+2], 'ro-')\n",
    "    plt.show()\n",
    "    print('Mean Square Error (MSE): {}'.format(mse(diabetes_y_test, y_pred)))"
   ]
  },
  {
   "cell_type": "code",
   "execution_count": 12,
   "metadata": {},
   "outputs": [
    {
     "data": {
      "application/vnd.jupyter.widget-view+json": {
       "model_id": "be850c1ef0954124911594e3a66a7703",
       "version_major": 2,
       "version_minor": 0
      },
      "text/plain": [
       "interactive(children=(FloatSlider(value=1.5, description='m', max=3.0), FloatSlider(value=0.0, description='c'…"
      ]
     },
     "metadata": {},
     "output_type": "display_data"
    }
   ],
   "source": [
    "interact(plot_linearModel, m= (0.0,3.0), c= (-1.0,1.0));"
   ]
  },
  {
   "cell_type": "markdown",
   "metadata": {},
   "source": [
    "### Interpreting the coefficients\n",
    "\n",
    "### Linear Regression in 3-Dimension\n",
    "Now its no longer a line, instead is a hyper plane.\n",
    "\n",
    "<img src=\"images/Screenshot_6.png\" width=400 />\n",
    "\n",
    "## Linear Regression (what? and for what?) \n",
    "The overall idea of regression is to examine two things: <br>\n",
    "(1) does a set of predictor variables do a good job in predicting an outcome (dependent) variable? <br> \n",
    "(2) Which variables in particular are significant predictors of the outcome variable, and in what way do they–indicated by the magnitude and sign of the beta estimates–impact the outcome variable?<br>\n",
    "These regression estimates are used to explain the relationship between one dependent variable and one or more independent variables.\n",
    "\n",
    "### Uses:\n",
    "Three major uses for regression analysis are <br>\n",
    "(1) determining the strength of predictors, <br>\n",
    "(2) forecasting an effect, and <br>\n",
    "(3) trend forecasting.\n",
    "\n",
    "**First**, the regression might be used to identify the strength of the effect that the independent variable(s) have on a dependent variable.  Typical questions are what is the strength of relationship between dose and effect, sales and marketing spending, or age and income.<br><br>\n",
    "**Second**, it can be used to forecast effects or impact of changes.  That is, the regression analysis helps us to understand how much the dependent variable changes with a change in one or more independent variables.  A typical question is, “how much additional sales income do I get for each additional $1000 spent on marketing?”<br><br>\n",
    "**Third**, regression analysis predicts trends and future values.  The regression analysis can be used to get point estimates.  A typical question is, “what will the price of gold be in 6 months?”<br><br>\n",
    "\n",
    "### Regression Evaluation Metrics\n",
    "\n",
    "\n",
    "Here are three common evaluation metrics for regression problems:\n",
    "\n",
    "**Mean Absolute Error** (MAE) is the mean of the absolute value of the errors:\n",
    "\n",
    "$$\\frac 1n\\sum_{i=1}^n|y_i-\\hat{y}_i|$$\n",
    "\n",
    "**Mean Squared Error** (MSE) is the mean of the squared errors:\n",
    "\n",
    "$$\\frac 1n\\sum_{i=1}^n(y_i-\\hat{y}_i)^2$$\n",
    "\n",
    "**Root Mean Squared Error** (RMSE) is the square root of the mean of the squared errors:\n",
    "\n",
    "$$\\sqrt{\\frac 1n\\sum_{i=1}^n(y_i-\\hat{y}_i)^2}$$\n",
    "\n",
    "Comparing these metrics:\n",
    "\n",
    "- **MAE** is the easiest to understand, because it's the average error.\n",
    "- **MSE** is more popular than MAE, because MSE \"punishes\" larger errors, which tends to be useful in the real world.\n",
    "- **RMSE** is even more popular than MSE, because RMSE is interpretable in the \"y\" units.\n",
    "\n",
    "All of these are **loss functions**, because we want to minimize them.\n",
    "   \n",
    "\n",
    "\n",
    "# Methods to find best fit line\n",
    "\n",
    "### (a) Ordinary Least Square (OLS) Method\n",
    "\n",
    "## In y= mx + b, \n",
    "\n",
    "![](images/ols_f.png)\n",
    "\n",
    "where,\n",
    "        bar(x) and bar(y) are average/mean value of x and y respectively. <br><br>\n",
    "Ordinary Least Square method looks simple and computation is easy. But, this OLS method will only work for a univariate dataset which is single X variables and single Y variables. Multi-variate dataset contains a single Y variables set and multiple X variables sets, require us to use a machine learning algorithm called “Gradient Descent”.\n",
    "\n",
    "### (b) Gradient Descent\n",
    "\n",
    "Gradient descent algorithm’s main objective is to minimise the cost function. It is one of the best optimisation algorithms to minimise errors (difference of actual value and predicted value).\n",
    "\n",
    "Let’s represent the hypothesis h, which is function or a learning algorithm.\n",
    "\n",
    "![](images/Screenshot_7.png)\n",
    "\n",
    "The goal is similar like the above operation that we did to find out a best fit of intercept line ‘y’ in the slope ‘m’. Using Gradient descent algorithm also, we will figure out a minimal cost function by applying various parameters for theta 0 and theta 1 and see the slope intercept until it reaches convergence.\n",
    "\n",
    "In a real world example, it is similar to find out a best direction to take a step downhill.\n",
    "\n",
    "![](images/gradientDescent.png)\n",
    "\n",
    "We take a step towards the direction to get down. From the each step, you look out the direction again to get down faster and downhill quickly. The similar approach is using in this algorithm to minimise cost function.\n",
    "\n",
    "We can measure the accuracy of our hypothesis function by using a cost function and the formula is\n",
    "\n",
    "![](images/cost_f.png)\n",
    "\n",
    "#### Gradient Descent for Linear Regression\n",
    "\n",
    "![](images/Screenshot_1.png)\n",
    "\n",
    "Why do we use partial derivative in the equation? Partial derivatives represents the rate of change of the functions as the variable change. In our case we change values for theta 0 and theta 1 and identifies the rate of change. To apply rate of change values for theta 0 and theta 1, the below are the equations for theta 0 and theta 1 to apply it on each epoch.\n",
    "\n",
    "![](images/Screenshot_2.png)\n",
    "\n",
    "To find the best minimum, repeat steps to apply various values for theta 0 and theta 1. In other words, repeat steps until convergence.\n",
    "\n",
    "![](images/Screenshot_3.png)\n",
    "\n",
    "   where alpha (a) is a learning rate / how big a step take to downhill.\n",
    "    \n",
    "![](images/Screenshot_4.png)\n",
    "\n",
    "\n",
    "### Types of Gradient Descent Algorithms\n",
    "\n",
    "There are three types of Gradient Descent Algorithms:\n",
    "\n",
    "1. Batch Gradient Descent\n",
    "2. Stochastic Gradient Descent\n",
    "3. Mini-Batch Gradient Descent\n",
    "\n",
    "#### Batch Gradient Descent\n",
    "\n",
    "   In the batch gradient descent, to calculate the gradient of the cost function, we need to sum all training examples for each steps\n",
    "   If we have 3 millions samples (m training examples) then the gradient descent algorithm should sum 3 millions samples for every epoch. To move a single step, we have to calculate each with 3 million times!\n",
    "   Batch Gradient Descent is not good fit for large datasets\n",
    "\n",
    "#### Stochastic Gradient Descent (SGD)\n",
    "\n",
    "   In stochastic Gradient Descent, we use one example or one training sample at each iteration instead of using whole dataset to sum all for every steps\n",
    "   SGD is widely used for larger dataset trainings and computationally faster and can be trained in parallel\n",
    "   Need to randomly shuffle the training examples before calculating it\n",
    "\n",
    "#### Mini-Batch Gradient Descent\n",
    "\n",
    "   It is similar like SGD, it uses n samples instead of 1 at each iteration."
   ]
  },
  {
   "cell_type": "markdown",
   "metadata": {},
   "source": [
    "\n",
    "### Further Reading\n",
    "   * [Model Evaluation regression metrics](http://scikit-learn.org/stable/modules/model_evaluation.html#regression-metrics) \n",
    "   * [Sklearn Linear models User Guide](http://scikit-learn.org/stable/modules/linear_model.html#ordinary-least-squares)\n",
    "   * [blog on ridge and lasso Regression (Highly recommended)](https://www.analyticsvidhya.com/blog/2016/01/complete-tutorial-ridge-lasso-regression-python/)"
   ]
  },
  {
   "cell_type": "code",
   "execution_count": null,
   "metadata": {
    "collapsed": true
   },
   "outputs": [],
   "source": []
  }
 ],
 "metadata": {
  "kernelspec": {
   "display_name": "Python 3",
   "language": "python",
   "name": "python3"
  },
  "language_info": {
   "codemirror_mode": {
    "name": "ipython",
    "version": 3
   },
   "file_extension": ".py",
   "mimetype": "text/x-python",
   "name": "python",
   "nbconvert_exporter": "python",
   "pygments_lexer": "ipython3",
   "version": "3.7.3"
  }
 },
 "nbformat": 4,
 "nbformat_minor": 2
}
