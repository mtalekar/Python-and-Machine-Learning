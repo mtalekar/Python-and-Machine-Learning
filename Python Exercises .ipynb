{
 "cells": [
  {
   "cell_type": "markdown",
   "metadata": {},
   "source": [
    "# Python Exercises \n",
    "\n",
    "This exercise is to test your understanding of Python Basics. If you find this extremely challenging, then you probably need to spend some more time programming in python language. Let us Know if You need more such exercise questions."
   ]
  },
  {
   "cell_type": "markdown",
   "metadata": {},
   "source": [
    "## Exercises\n",
    "\n",
    "Answer the questions or complete the tasks outlined in bold below, use the specific method described if applicable."
   ]
  },
  {
   "cell_type": "markdown",
   "metadata": {},
   "source": [
    "** What is 7 to the power of 4?**"
   ]
  },
  {
   "cell_type": "code",
   "execution_count": 1,
   "metadata": {},
   "outputs": [
    {
     "data": {
      "text/plain": [
       "2401"
      ]
     },
     "execution_count": 1,
     "metadata": {},
     "output_type": "execute_result"
    }
   ],
   "source": [
    "7**4"
   ]
  },
  {
   "cell_type": "code",
   "execution_count": 7,
   "metadata": {},
   "outputs": [
    {
     "name": "stdout",
     "output_type": "stream",
     "text": [
      "['Hi', 'there', 'dad', '!']\n"
     ]
    }
   ],
   "source": [
    "s = \"Hi:there:dad:!\"\n",
    "print(s.split(':'))"
   ]
  },
  {
   "cell_type": "markdown",
   "metadata": {},
   "source": [
    "** Split this string:**\n",
    "\n",
    "    s = \"Hi there dad!\"\n",
    "    \n",
    "**into a list. **"
   ]
  },
  {
   "cell_type": "code",
   "execution_count": null,
   "metadata": {},
   "outputs": [],
   "source": [
    "s = \"Hi there dad!\""
   ]
  },
  {
   "cell_type": "code",
   "execution_count": 10,
   "metadata": {},
   "outputs": [
    {
     "name": "stdout",
     "output_type": "stream",
     "text": [
      "The diameter of Earth is 12742 kilometers\n"
     ]
    }
   ],
   "source": [
    "planet = \"Earth\"\n",
    "diameter = 12742\n",
    "string = 'The diameter of {} is {} kilometers'\n",
    "print(string.format(planet,diameter))"
   ]
  },
  {
   "cell_type": "markdown",
   "metadata": {},
   "source": [
    "** Given the variables:**\n",
    "\n",
    "    planet = \"Earth\"\n",
    "    diameter = 12742\n",
    "\n",
    "** Use .format() to print the following string: **\n",
    "\n",
    "    The diameter of Earth is 12742 kilometers."
   ]
  },
  {
   "cell_type": "code",
   "execution_count": 6,
   "metadata": {},
   "outputs": [
    {
     "name": "stdout",
     "output_type": "stream",
     "text": [
      "The Diameter of Earth is 12742\n"
     ]
    }
   ],
   "source": [
    "## your code here"
   ]
  },
  {
   "cell_type": "markdown",
   "metadata": {},
   "source": [
    "** Given this nested list, use indexing to grab the word \"hello\" **"
   ]
  },
  {
   "cell_type": "code",
   "execution_count": 32,
   "metadata": {},
   "outputs": [],
   "source": [
    "lst = [1,2,[3,4],[5,[100,200,['hello']],23,11],1,7]"
   ]
  },
  {
   "cell_type": "code",
   "execution_count": 34,
   "metadata": {},
   "outputs": [
    {
     "data": {
      "text/plain": [
       "'hello'"
      ]
     },
     "execution_count": 34,
     "metadata": {},
     "output_type": "execute_result"
    }
   ],
   "source": [
    "lst[3][1][2][0]"
   ]
  },
  {
   "cell_type": "markdown",
   "metadata": {},
   "source": [
    "** Given this nested dictionary grab the word \"hello\". Be prepared, this will be annoying/tricky **"
   ]
  },
  {
   "cell_type": "code",
   "execution_count": 30,
   "metadata": {},
   "outputs": [],
   "source": [
    "d = {'k1':[1,2,3,{'tricky':['oh','man','inception',{'target':[1,2,3,'hello']}]}]}"
   ]
  },
  {
   "cell_type": "code",
   "execution_count": 31,
   "metadata": {},
   "outputs": [
    {
     "data": {
      "text/plain": [
       "'hello'"
      ]
     },
     "execution_count": 31,
     "metadata": {},
     "output_type": "execute_result"
    }
   ],
   "source": [
    "d['k1'][3]['tricky'][3]['target'][3]"
   ]
  },
  {
   "cell_type": "markdown",
   "metadata": {},
   "source": [
    "** What is the main difference between a tuple and a list? **"
   ]
  },
  {
   "cell_type": "code",
   "execution_count": 23,
   "metadata": {
    "collapsed": true,
    "jupyter": {
     "outputs_hidden": true
    }
   },
   "outputs": [],
   "source": [
    "lists can be manipulated/altered/changed whereas tuple are immutable"
   ]
  },
  {
   "cell_type": "markdown",
   "metadata": {},
   "source": [
    "** Create a function that grabs the email website domain from a string in the form: **\n",
    "\n",
    "    user@domain.com\n",
    "    \n",
    "**So for example, passing \"user@domain.com\" would return: domain.com**"
   ]
  },
  {
   "cell_type": "code",
   "execution_count": 12,
   "metadata": {},
   "outputs": [],
   "source": [
    "## Your code here\n",
    "## define 'getDomain()' function\n",
    "#print('enter any website')\n",
    "#website = input()\n",
    "#start = website.find('@')\n",
    "#print(website[start:])\n",
    "\n",
    "def getDomain(str):\n",
    "    start = str.find('@')\n",
    "#    print(start)\n",
    "    print(str[start:])\n",
    "    start"
   ]
  },
  {
   "cell_type": "code",
   "execution_count": 13,
   "metadata": {},
   "outputs": [
    {
     "name": "stdout",
     "output_type": "stream",
     "text": [
      "@gmail.com\n"
     ]
    }
   ],
   "source": [
    "getDomain('manish.talekar55@gmail.com')"
   ]
  },
  {
   "cell_type": "markdown",
   "metadata": {},
   "source": [
    "** Create a basic function that returns True if the word 'dog' is contained in the input string. Don't worry about edge cases like a punctuation being attached to the word dog, but do account for capitalization. **"
   ]
  },
  {
   "cell_type": "code",
   "execution_count": 9,
   "metadata": {},
   "outputs": [],
   "source": [
    "## Your code here\n",
    "## define 'findDog()' function\n",
    "def findDog(str):\n",
    "    start = str.find('dog')\n",
    "    if start:\n",
    "        print('True')"
   ]
  },
  {
   "cell_type": "code",
   "execution_count": 11,
   "metadata": {},
   "outputs": [
    {
     "name": "stdout",
     "output_type": "stream",
     "text": [
      "True\n"
     ]
    }
   ],
   "source": [
    "findDog('You know dogs are very friendly')"
   ]
  },
  {
   "cell_type": "markdown",
   "metadata": {},
   "source": [
    "** Create a function that counts the number of times the word \"dog\" occurs in a string. Again ignore edge cases. **"
   ]
  },
  {
   "cell_type": "code",
   "execution_count": 22,
   "metadata": {},
   "outputs": [],
   "source": [
    "## Your code here\n",
    "## define 'countDog()' function\n",
    "def countDog(str):\n",
    "    start = str.find('dog')\n",
    "#    print(start)\n",
    "    count = 1\n",
    "    while start:\n",
    "        rest = str[start:]\n",
    "        start = rest.find('dog')\n",
    "        count += 1\n",
    "    return count\n",
    "#print(count)"
   ]
  },
  {
   "cell_type": "code",
   "execution_count": 23,
   "metadata": {},
   "outputs": [
    {
     "name": "stdout",
     "output_type": "stream",
     "text": [
      "5\n"
     ]
    },
    {
     "data": {
      "text/plain": [
       "2"
      ]
     },
     "execution_count": 23,
     "metadata": {},
     "output_type": "execute_result"
    }
   ],
   "source": [
    "countDog('This dog runs faster than the other dog dude!')"
   ]
  },
  {
   "cell_type": "markdown",
   "metadata": {},
   "source": [
    "** Use lambda expressions and the filter() function to filter out words from a list that don't start with the letter 's'. For example:**\n",
    "\n",
    "    seq = ['soup','dog','salad','cat','great']\n",
    "\n",
    "**should be filtered down to:**\n",
    "\n",
    "    ['soup','salad']"
   ]
  },
  {
   "cell_type": "code",
   "execution_count": 27,
   "metadata": {},
   "outputs": [],
   "source": [
    "seq = ['soup','dog','salad','cat','great','news']"
   ]
  },
  {
   "cell_type": "code",
   "execution_count": 28,
   "metadata": {},
   "outputs": [
    {
     "data": {
      "text/plain": [
       "['soup', 'salad']"
      ]
     },
     "execution_count": 28,
     "metadata": {},
     "output_type": "execute_result"
    }
   ],
   "source": [
    "## your code here\n",
    "#res = [i for i in seq if 's' in i]\n",
    "#res\n",
    "#prefix = 's'\n",
    "list(filter(lambda item:item[0]=='s',seq))"
   ]
  },
  {
   "cell_type": "markdown",
   "metadata": {},
   "source": [
    "\n",
    "**Q. You are driving a little too fast, and a police officer stops you. Write a function\n",
    "  to return one of 3 possible results: \"No ticket\", \"Small ticket\", or \"Big Ticket\". \n",
    "  If your speed is 60 or less, the result is \"No Ticket\". If speed is between 61 \n",
    "  and 80 inclusive, the result is \"Small Ticket\". If speed is 81 or more, the result is \"Big    Ticket\". Unless it is your birthday (encoded as a boolean value in the parameters of the function) -- on your birthday, your speed can be 5 higher in all \n",
    "  cases. **"
   ]
  },
  {
   "cell_type": "code",
   "execution_count": 23,
   "metadata": {},
   "outputs": [],
   "source": [
    "## Your code here\n",
    "## define 'caught_speeding()' function\n",
    "def caught_speeding(speed, is_birthday):\n",
    "    speed_org = speed\n",
    "    if is_birthday == True:\n",
    "        speed = speed-5\n",
    "    else:\n",
    "        speed = speed_org        \n",
    "    if speed <= 60:\n",
    "        print(\"No Ticket\")\n",
    "    elif speed>60 and speed<81:\n",
    "        print (\"Small Ticket\")\n",
    "    elif speed>=81:\n",
    "        print (\"Big Ticket\")\n",
    "    print(speed)\n",
    "pass"
   ]
  },
  {
   "cell_type": "code",
   "execution_count": 24,
   "metadata": {},
   "outputs": [
    {
     "name": "stdout",
     "output_type": "stream",
     "text": [
      "Small Ticket\n",
      "76\n"
     ]
    }
   ],
   "source": [
    "caught_speeding(81,True)"
   ]
  },
  {
   "cell_type": "code",
   "execution_count": 25,
   "metadata": {},
   "outputs": [
    {
     "name": "stdout",
     "output_type": "stream",
     "text": [
      "Big Ticket\n",
      "81\n"
     ]
    }
   ],
   "source": [
    "caught_speeding(81,False)"
   ]
  },
  {
   "cell_type": "markdown",
   "metadata": {},
   "source": [
    "## Advance questions\n",
    "\n",
    "### Q1. The Collatz Sequence \n",
    "Write a function named <b>collatz()</b> that has one parameter named number.<br>\n",
    "<b>(a)</b> If number is even, then collatz() should print number // 2 and return this value.<br> \n",
    "<b>(b)</b> If number is odd, then collatz() should print and return 3 * number + 1.<br> \n",
    "Then write a program that lets the user type in an integer and that keeps calling collatz() on that number <b>until the function returns the value 1</b>.<br> \n",
    "(Amazingly enough, this sequence actually works for any integer—sooner or later, using this sequence, you’ll arrive at 1! Even mathematicians aren’t sure why. Your program is exploring what’s called the Collatz sequence, sometimes called “the simplest impossible math problem.”)<br>  \n",
    "\n",
    "<b>Hint:</b> An integer number is even if number % 2 == 0, and it’s odd if  number % 2 == 1.\n",
    "\n",
    "<b>Sample Output :</b> for collatz(3)\n",
    "<br>3<br> 10<br> 5<br> 16<br> 8<br> 4<br> 2<br> 1\n",
    "\n"
   ]
  },
  {
   "cell_type": "code",
   "execution_count": 7,
   "metadata": {},
   "outputs": [
    {
     "data": {
      "text/plain": [
       "22"
      ]
     },
     "execution_count": 7,
     "metadata": {},
     "output_type": "execute_result"
    }
   ],
   "source": [
    "## Your code here\n",
    "def collatz(number):\n",
    "    if number%2 == 0:\n",
    "        return number // 2\n",
    "    elif number%2==1:\n",
    "        return 3 * number + 1\n",
    "    \n",
    "collatz(7)"
   ]
  },
  {
   "cell_type": "markdown",
   "metadata": {},
   "source": [
    "### <span style=\"color:blue\">Lists</span>\n",
    "### Q2. Comma Code \n",
    "Write a function that takes a list value as an argument and returns a string with all the items separated by a comma and a space, with and inserted before the last item.<br>\n",
    "For example, passing the previous spam list to the function would return <b>'apples, bananas, tofu, and cats'</b>. But your function should be able to work with any list value passed to it."
   ]
  },
  {
   "cell_type": "code",
   "execution_count": 23,
   "metadata": {},
   "outputs": [
    {
     "data": {
      "text/plain": [
       "'apples, bananas, tofu, and cats'"
      ]
     },
     "execution_count": 23,
     "metadata": {},
     "output_type": "execute_result"
    }
   ],
   "source": [
    "spam = ['apples', 'bananas', 'tofu', 'cats']\n",
    "\n",
    "def comma_code(arr):\n",
    "    ## Your code here \n",
    "    l = len(arr)\n",
    "    temp = ''\n",
    "    for i in arr:\n",
    "        if i == arr[-1]:\n",
    "            string = 'and ' + i \n",
    "        else:\n",
    "            string = i + ', '\n",
    "        temp = temp + string\n",
    "    return temp\n",
    "    \n",
    "comma_code(spam)"
   ]
  },
  {
   "cell_type": "markdown",
   "metadata": {},
   "source": [
    "### Q3. Character Picture Grid \n",
    "\n",
    "You can think of grid[x][y] as being the character at the x- and y- coordinates of a “picture” drawn with text characters. The (0, 0) origin will be in the upper-left corner, the x-coordinates increase going right, and w the y-coordinates increase going down.<br>\n"
   ]
  },
  {
   "cell_type": "code",
   "execution_count": 12,
   "metadata": {},
   "outputs": [
    {
     "name": "stdout",
     "output_type": "stream",
     "text": [
      "\n",
      "..OO.OO..\n",
      ".OOOOOOO.\n",
      ".OOOOOOO.\n",
      "..OOOOO..\n",
      "...OOO...\n",
      "....O...."
     ]
    }
   ],
   "source": [
    "grid = [['.', '.', '.', '.', '.', '.'],       \n",
    "        ['.', 'O', 'O', '.', '.', '.'],        \n",
    "        ['O', 'O', 'O', 'O', '.', '.'],        \n",
    "        ['O', 'O', 'O', 'O', 'O', '.'],        \n",
    "        ['.', 'O', 'O', 'O', 'O', 'O'],        \n",
    "        ['O', 'O', 'O', 'O', 'O', '.'],        \n",
    "        ['O', 'O', 'O', 'O', '.', '.'],        \n",
    "        ['.', 'O', 'O', '.', '.', '.'],        \n",
    "        ['.', '.', '.', '.', '.', '.']]\n",
    "\n",
    "## Your code here\n"
   ]
  },
  {
   "cell_type": "code",
   "execution_count": null,
   "metadata": {},
   "outputs": [],
   "source": [
    "grid = [['.', '.', '.', '.', '.', '.'],       \n",
    "        ['.', 'O', 'O', '.', '.', '.'],        \n",
    "        ['O', 'O', 'O', 'O', '.', '.'],        \n",
    "        ['O', 'O', 'O', 'O', 'O', '.'],        \n",
    "        ['.', 'O', 'O', 'O', 'O', 'O'],        \n",
    "        ['O', 'O', 'O', 'O', 'O', '.'],        \n",
    "        ['O', 'O', 'O', 'O', '.', '.'],        \n",
    "        ['.', 'O', 'O', '.', '.', '.'],        \n",
    "        ['.', '.', '.', '.', '.', '.']]\n",
    "\n",
    "## Your code here\n"
   ]
  },
  {
   "cell_type": "markdown",
   "metadata": {},
   "source": [
    "### <span style=\"color:blue\">Dictionary</span>\n",
    "\n",
    "### Fantasy Game Inventory\n",
    "You are creating a fantasy video game. The data structure to model the player’s inventory will be a dictionary where the keys are string values describing the item in the inventory and the value is an integer value detailing how many of that item the player has. For example, the dictionary value <b>\n",
    "~~~ python\n",
    "{'rope': 1, 'torch': 6, 'gold coin': 42, 'dagger': 1, 'arrow': 12}\n",
    "~~~\n",
    "</b> means the player has <b>1 rope, 6 torches, 42 gold coins, and so on.</b> \n",
    "\n",
    "### Q4. displayInventory()\n",
    "Write a function named <b>displayInventory()</b>\n"
   ]
  },
  {
   "cell_type": "code",
   "execution_count": 38,
   "metadata": {
    "scrolled": true
   },
   "outputs": [
    {
     "name": "stdout",
     "output_type": "stream",
     "text": [
      "--------------------\n",
      "Inventory so far: \n",
      "--------------------\n",
      "1 rope\n",
      "6 torch\n",
      "42 gold coin\n",
      "1 dagger\n",
      "12 arrow\n",
      "Total number of items: 62\n"
     ]
    }
   ],
   "source": [
    "inven = {'rope': 1, 'torch': 6, 'gold coin': 42, 'dagger': 1, 'arrow': 12}\n",
    "\n",
    "def displayInventory(inventory_list):\n",
    "    ## Your code here\n",
    "    \n",
    "displayInventory(inven)        "
   ]
  },
  {
   "cell_type": "markdown",
   "metadata": {},
   "source": [
    "### Q5.  addToInventory(inventory, addedItems)\n",
    "Write a function named <b>addToInventory(inventory, addedItems)</b>, where the <b>inventory</b> parameter is a dictionary representing the player’s inventory (like in the previous project) and the <b>addedItems</b> parameter is a list like dragonLoot.<br> The <b>addToInventory()</b> function should return a dictionary that represents the updated inventory. <br><b>Note:</b> that the addedItems list can contain multiples of the same item.<br>"
   ]
  },
  {
   "cell_type": "code",
   "execution_count": 40,
   "metadata": {},
   "outputs": [
    {
     "name": "stdout",
     "output_type": "stream",
     "text": [
      "--------------------\n",
      "Inventory so far: \n",
      "--------------------\n",
      "45 gold coin\n",
      "1 rope\n",
      "1 dagger\n",
      "1 ruby\n",
      "Total number of items: 48\n"
     ]
    }
   ],
   "source": [
    "def addToInventory(inventory, addedItems):    \n",
    "    ## Your code here\n",
    "\n",
    "inv = {'gold coin': 42, 'rope': 1} \n",
    "dragonLoot = ['gold coin', 'dagger', 'gold coin', 'gold coin', 'ruby'] \n",
    "inv = addToInventory(inv, dragonLoot) \n",
    "displayInventory(inv)"
   ]
  },
  {
   "cell_type": "markdown",
   "metadata": {},
   "source": [
    "# Great job!"
   ]
  }
 ],
 "metadata": {
  "kernelspec": {
   "display_name": "Python 3",
   "language": "python",
   "name": "python3"
  },
  "language_info": {
   "codemirror_mode": {
    "name": "ipython",
    "version": 3
   },
   "file_extension": ".py",
   "mimetype": "text/x-python",
   "name": "python",
   "nbconvert_exporter": "python",
   "pygments_lexer": "ipython3",
   "version": "3.7.4"
  }
 },
 "nbformat": 4,
 "nbformat_minor": 4
}
