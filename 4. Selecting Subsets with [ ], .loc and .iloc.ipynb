{
 "cells": [
  {
   "cell_type": "code",
   "execution_count": 3,
   "metadata": {},
   "outputs": [],
   "source": [
    "import pandas as pd\n",
    "import numpy as np"
   ]
  },
  {
   "cell_type": "code",
   "execution_count": 4,
   "metadata": {},
   "outputs": [
    {
     "data": {
      "text/html": [
       "<div>\n",
       "<style scoped>\n",
       "    .dataframe tbody tr th:only-of-type {\n",
       "        vertical-align: middle;\n",
       "    }\n",
       "\n",
       "    .dataframe tbody tr th {\n",
       "        vertical-align: top;\n",
       "    }\n",
       "\n",
       "    .dataframe thead th {\n",
       "        text-align: right;\n",
       "    }\n",
       "</style>\n",
       "<table border=\"1\" class=\"dataframe\">\n",
       "  <thead>\n",
       "    <tr style=\"text-align: right;\">\n",
       "      <th></th>\n",
       "      <th>state</th>\n",
       "      <th>color</th>\n",
       "      <th>food</th>\n",
       "      <th>age</th>\n",
       "      <th>height</th>\n",
       "      <th>score</th>\n",
       "    </tr>\n",
       "  </thead>\n",
       "  <tbody>\n",
       "    <tr>\n",
       "      <th>Jane</th>\n",
       "      <td>NY</td>\n",
       "      <td>blue</td>\n",
       "      <td>Steak</td>\n",
       "      <td>30</td>\n",
       "      <td>165</td>\n",
       "      <td>4.6</td>\n",
       "    </tr>\n",
       "    <tr>\n",
       "      <th>Niko</th>\n",
       "      <td>TX</td>\n",
       "      <td>green</td>\n",
       "      <td>Lamb</td>\n",
       "      <td>2</td>\n",
       "      <td>70</td>\n",
       "      <td>8.3</td>\n",
       "    </tr>\n",
       "    <tr>\n",
       "      <th>Aaron</th>\n",
       "      <td>FL</td>\n",
       "      <td>red</td>\n",
       "      <td>Mango</td>\n",
       "      <td>12</td>\n",
       "      <td>120</td>\n",
       "      <td>9.0</td>\n",
       "    </tr>\n",
       "    <tr>\n",
       "      <th>Penelope</th>\n",
       "      <td>AL</td>\n",
       "      <td>white</td>\n",
       "      <td>Apple</td>\n",
       "      <td>4</td>\n",
       "      <td>80</td>\n",
       "      <td>3.3</td>\n",
       "    </tr>\n",
       "    <tr>\n",
       "      <th>Dean</th>\n",
       "      <td>AK</td>\n",
       "      <td>gray</td>\n",
       "      <td>Cheese</td>\n",
       "      <td>32</td>\n",
       "      <td>180</td>\n",
       "      <td>1.8</td>\n",
       "    </tr>\n",
       "    <tr>\n",
       "      <th>Christina</th>\n",
       "      <td>TX</td>\n",
       "      <td>black</td>\n",
       "      <td>Melon</td>\n",
       "      <td>33</td>\n",
       "      <td>172</td>\n",
       "      <td>9.5</td>\n",
       "    </tr>\n",
       "    <tr>\n",
       "      <th>Cornelia</th>\n",
       "      <td>TX</td>\n",
       "      <td>red</td>\n",
       "      <td>Beans</td>\n",
       "      <td>69</td>\n",
       "      <td>150</td>\n",
       "      <td>2.2</td>\n",
       "    </tr>\n",
       "  </tbody>\n",
       "</table>\n",
       "</div>"
      ],
      "text/plain": [
       "          state  color    food  age  height  score\n",
       "Jane         NY   blue   Steak   30     165    4.6\n",
       "Niko         TX  green    Lamb    2      70    8.3\n",
       "Aaron        FL    red   Mango   12     120    9.0\n",
       "Penelope     AL  white   Apple    4      80    3.3\n",
       "Dean         AK   gray  Cheese   32     180    1.8\n",
       "Christina    TX  black   Melon   33     172    9.5\n",
       "Cornelia     TX    red   Beans   69     150    2.2"
      ]
     },
     "execution_count": 4,
     "metadata": {},
     "output_type": "execute_result"
    }
   ],
   "source": [
    "df = pd.read_csv('data/sample_data.csv', index_col=0)\n",
    "df"
   ]
  },
  {
   "cell_type": "markdown",
   "metadata": {},
   "source": [
    "# Beginning with [] on DataFrames\n",
    "Its main purpose is to select a single column or multiple columns of data.\n",
    "\n",
    "## Selecting a single column as a Series\n",
    "To select a single column of data, simply put the name of the column in-between the brackets. Let's select the food column:"
   ]
  },
  {
   "cell_type": "code",
   "execution_count": 3,
   "metadata": {},
   "outputs": [
    {
     "data": {
      "text/html": [
       "<div>\n",
       "<style scoped>\n",
       "    .dataframe tbody tr th:only-of-type {\n",
       "        vertical-align: middle;\n",
       "    }\n",
       "\n",
       "    .dataframe tbody tr th {\n",
       "        vertical-align: top;\n",
       "    }\n",
       "\n",
       "    .dataframe thead th {\n",
       "        text-align: right;\n",
       "    }\n",
       "</style>\n",
       "<table border=\"1\" class=\"dataframe\">\n",
       "  <thead>\n",
       "    <tr style=\"text-align: right;\">\n",
       "      <th></th>\n",
       "      <th>state</th>\n",
       "      <th>color</th>\n",
       "      <th>food</th>\n",
       "      <th>age</th>\n",
       "      <th>height</th>\n",
       "      <th>score</th>\n",
       "    </tr>\n",
       "  </thead>\n",
       "  <tbody>\n",
       "    <tr>\n",
       "      <th>Jane</th>\n",
       "      <td>NY</td>\n",
       "      <td>blue</td>\n",
       "      <td>Steak</td>\n",
       "      <td>30</td>\n",
       "      <td>165</td>\n",
       "      <td>4.6</td>\n",
       "    </tr>\n",
       "    <tr>\n",
       "      <th>Niko</th>\n",
       "      <td>TX</td>\n",
       "      <td>green</td>\n",
       "      <td>Lamb</td>\n",
       "      <td>2</td>\n",
       "      <td>70</td>\n",
       "      <td>8.3</td>\n",
       "    </tr>\n",
       "    <tr>\n",
       "      <th>Aaron</th>\n",
       "      <td>FL</td>\n",
       "      <td>red</td>\n",
       "      <td>Mango</td>\n",
       "      <td>12</td>\n",
       "      <td>120</td>\n",
       "      <td>9.0</td>\n",
       "    </tr>\n",
       "    <tr>\n",
       "      <th>Penelope</th>\n",
       "      <td>AL</td>\n",
       "      <td>white</td>\n",
       "      <td>Apple</td>\n",
       "      <td>4</td>\n",
       "      <td>80</td>\n",
       "      <td>3.3</td>\n",
       "    </tr>\n",
       "    <tr>\n",
       "      <th>Dean</th>\n",
       "      <td>AK</td>\n",
       "      <td>gray</td>\n",
       "      <td>Cheese</td>\n",
       "      <td>32</td>\n",
       "      <td>180</td>\n",
       "      <td>1.8</td>\n",
       "    </tr>\n",
       "    <tr>\n",
       "      <th>Christina</th>\n",
       "      <td>TX</td>\n",
       "      <td>black</td>\n",
       "      <td>Melon</td>\n",
       "      <td>33</td>\n",
       "      <td>172</td>\n",
       "      <td>9.5</td>\n",
       "    </tr>\n",
       "    <tr>\n",
       "      <th>Cornelia</th>\n",
       "      <td>TX</td>\n",
       "      <td>red</td>\n",
       "      <td>Beans</td>\n",
       "      <td>69</td>\n",
       "      <td>150</td>\n",
       "      <td>2.2</td>\n",
       "    </tr>\n",
       "  </tbody>\n",
       "</table>\n",
       "</div>"
      ],
      "text/plain": [
       "          state  color    food  age  height  score\n",
       "Jane         NY   blue   Steak   30     165    4.6\n",
       "Niko         TX  green    Lamb    2      70    8.3\n",
       "Aaron        FL    red   Mango   12     120    9.0\n",
       "Penelope     AL  white   Apple    4      80    3.3\n",
       "Dean         AK   gray  Cheese   32     180    1.8\n",
       "Christina    TX  black   Melon   33     172    9.5\n",
       "Cornelia     TX    red   Beans   69     150    2.2"
      ]
     },
     "execution_count": 3,
     "metadata": {},
     "output_type": "execute_result"
    }
   ],
   "source": [
    "df"
   ]
  },
  {
   "cell_type": "code",
   "execution_count": 4,
   "metadata": {},
   "outputs": [
    {
     "data": {
      "text/plain": [
       "Jane          Steak\n",
       "Niko           Lamb\n",
       "Aaron         Mango\n",
       "Penelope      Apple\n",
       "Dean         Cheese\n",
       "Christina     Melon\n",
       "Cornelia      Beans\n",
       "Name: food, dtype: object"
      ]
     },
     "execution_count": 4,
     "metadata": {},
     "output_type": "execute_result"
    }
   ],
   "source": [
    "df['food']"
   ]
  },
  {
   "cell_type": "markdown",
   "metadata": {},
   "source": [
    "## Selecting multiple columns with just the indexing operator\n",
    "It's possible to select multiple columns with just the indexing operator by passing it a list of column names. Let's select `color`, `food`, and `score`:"
   ]
  },
  {
   "cell_type": "code",
   "execution_count": 6,
   "metadata": {},
   "outputs": [
    {
     "data": {
      "text/html": [
       "<div>\n",
       "<style scoped>\n",
       "    .dataframe tbody tr th:only-of-type {\n",
       "        vertical-align: middle;\n",
       "    }\n",
       "\n",
       "    .dataframe tbody tr th {\n",
       "        vertical-align: top;\n",
       "    }\n",
       "\n",
       "    .dataframe thead th {\n",
       "        text-align: right;\n",
       "    }\n",
       "</style>\n",
       "<table border=\"1\" class=\"dataframe\">\n",
       "  <thead>\n",
       "    <tr style=\"text-align: right;\">\n",
       "      <th></th>\n",
       "      <th>color</th>\n",
       "      <th>food</th>\n",
       "      <th>score</th>\n",
       "    </tr>\n",
       "  </thead>\n",
       "  <tbody>\n",
       "    <tr>\n",
       "      <th>Jane</th>\n",
       "      <td>blue</td>\n",
       "      <td>Steak</td>\n",
       "      <td>4.6</td>\n",
       "    </tr>\n",
       "    <tr>\n",
       "      <th>Niko</th>\n",
       "      <td>green</td>\n",
       "      <td>Lamb</td>\n",
       "      <td>8.3</td>\n",
       "    </tr>\n",
       "    <tr>\n",
       "      <th>Aaron</th>\n",
       "      <td>red</td>\n",
       "      <td>Mango</td>\n",
       "      <td>9.0</td>\n",
       "    </tr>\n",
       "    <tr>\n",
       "      <th>Penelope</th>\n",
       "      <td>white</td>\n",
       "      <td>Apple</td>\n",
       "      <td>3.3</td>\n",
       "    </tr>\n",
       "    <tr>\n",
       "      <th>Dean</th>\n",
       "      <td>gray</td>\n",
       "      <td>Cheese</td>\n",
       "      <td>1.8</td>\n",
       "    </tr>\n",
       "    <tr>\n",
       "      <th>Christina</th>\n",
       "      <td>black</td>\n",
       "      <td>Melon</td>\n",
       "      <td>9.5</td>\n",
       "    </tr>\n",
       "    <tr>\n",
       "      <th>Cornelia</th>\n",
       "      <td>red</td>\n",
       "      <td>Beans</td>\n",
       "      <td>2.2</td>\n",
       "    </tr>\n",
       "  </tbody>\n",
       "</table>\n",
       "</div>"
      ],
      "text/plain": [
       "           color    food  score\n",
       "Jane        blue   Steak    4.6\n",
       "Niko       green    Lamb    8.3\n",
       "Aaron        red   Mango    9.0\n",
       "Penelope   white   Apple    3.3\n",
       "Dean        gray  Cheese    1.8\n",
       "Christina  black   Melon    9.5\n",
       "Cornelia     red   Beans    2.2"
      ]
     },
     "execution_count": 6,
     "metadata": {},
     "output_type": "execute_result"
    }
   ],
   "source": [
    "df[['color', 'food', 'score']]"
   ]
  },
  {
   "cell_type": "markdown",
   "metadata": {},
   "source": [
    "# Selecting multiple columns returns a DataFrame\n",
    "Selecting multiple columns returns a DataFrame.<br>\n",
    "<span style=\"color:brown\">**Note:**</span> You can actually select a single column as a DataFrame with a one-item list"
   ]
  },
  {
   "cell_type": "code",
   "execution_count": 7,
   "metadata": {},
   "outputs": [
    {
     "data": {
      "text/html": [
       "<div>\n",
       "<style scoped>\n",
       "    .dataframe tbody tr th:only-of-type {\n",
       "        vertical-align: middle;\n",
       "    }\n",
       "\n",
       "    .dataframe tbody tr th {\n",
       "        vertical-align: top;\n",
       "    }\n",
       "\n",
       "    .dataframe thead th {\n",
       "        text-align: right;\n",
       "    }\n",
       "</style>\n",
       "<table border=\"1\" class=\"dataframe\">\n",
       "  <thead>\n",
       "    <tr style=\"text-align: right;\">\n",
       "      <th></th>\n",
       "      <th>food</th>\n",
       "    </tr>\n",
       "  </thead>\n",
       "  <tbody>\n",
       "    <tr>\n",
       "      <th>Jane</th>\n",
       "      <td>Steak</td>\n",
       "    </tr>\n",
       "    <tr>\n",
       "      <th>Niko</th>\n",
       "      <td>Lamb</td>\n",
       "    </tr>\n",
       "    <tr>\n",
       "      <th>Aaron</th>\n",
       "      <td>Mango</td>\n",
       "    </tr>\n",
       "    <tr>\n",
       "      <th>Penelope</th>\n",
       "      <td>Apple</td>\n",
       "    </tr>\n",
       "    <tr>\n",
       "      <th>Dean</th>\n",
       "      <td>Cheese</td>\n",
       "    </tr>\n",
       "    <tr>\n",
       "      <th>Christina</th>\n",
       "      <td>Melon</td>\n",
       "    </tr>\n",
       "    <tr>\n",
       "      <th>Cornelia</th>\n",
       "      <td>Beans</td>\n",
       "    </tr>\n",
       "  </tbody>\n",
       "</table>\n",
       "</div>"
      ],
      "text/plain": [
       "             food\n",
       "Jane        Steak\n",
       "Niko         Lamb\n",
       "Aaron       Mango\n",
       "Penelope    Apple\n",
       "Dean       Cheese\n",
       "Christina   Melon\n",
       "Cornelia    Beans"
      ]
     },
     "execution_count": 7,
     "metadata": {},
     "output_type": "execute_result"
    }
   ],
   "source": [
    "df[['food']] # to_frame function can also be used"
   ]
  },
  {
   "cell_type": "markdown",
   "metadata": {},
   "source": [
    "Although, this resembles the Series from above, it is technically a DataFrame, a different object.\n",
    "\n",
    "# Column order doesn't matter\n",
    "When selecting multiple columns, you can select them in any order that you choose. It doesn't have to be the same order as the original DataFrame. For instance, let's select `height` and `color`. "
   ]
  },
  {
   "cell_type": "code",
   "execution_count": 8,
   "metadata": {},
   "outputs": [
    {
     "data": {
      "text/html": [
       "<div>\n",
       "<style scoped>\n",
       "    .dataframe tbody tr th:only-of-type {\n",
       "        vertical-align: middle;\n",
       "    }\n",
       "\n",
       "    .dataframe tbody tr th {\n",
       "        vertical-align: top;\n",
       "    }\n",
       "\n",
       "    .dataframe thead th {\n",
       "        text-align: right;\n",
       "    }\n",
       "</style>\n",
       "<table border=\"1\" class=\"dataframe\">\n",
       "  <thead>\n",
       "    <tr style=\"text-align: right;\">\n",
       "      <th></th>\n",
       "      <th>height</th>\n",
       "      <th>color</th>\n",
       "    </tr>\n",
       "  </thead>\n",
       "  <tbody>\n",
       "    <tr>\n",
       "      <th>Jane</th>\n",
       "      <td>165</td>\n",
       "      <td>blue</td>\n",
       "    </tr>\n",
       "    <tr>\n",
       "      <th>Niko</th>\n",
       "      <td>70</td>\n",
       "      <td>green</td>\n",
       "    </tr>\n",
       "    <tr>\n",
       "      <th>Aaron</th>\n",
       "      <td>120</td>\n",
       "      <td>red</td>\n",
       "    </tr>\n",
       "    <tr>\n",
       "      <th>Penelope</th>\n",
       "      <td>80</td>\n",
       "      <td>white</td>\n",
       "    </tr>\n",
       "    <tr>\n",
       "      <th>Dean</th>\n",
       "      <td>180</td>\n",
       "      <td>gray</td>\n",
       "    </tr>\n",
       "    <tr>\n",
       "      <th>Christina</th>\n",
       "      <td>172</td>\n",
       "      <td>black</td>\n",
       "    </tr>\n",
       "    <tr>\n",
       "      <th>Cornelia</th>\n",
       "      <td>150</td>\n",
       "      <td>red</td>\n",
       "    </tr>\n",
       "  </tbody>\n",
       "</table>\n",
       "</div>"
      ],
      "text/plain": [
       "           height  color\n",
       "Jane          165   blue\n",
       "Niko           70  green\n",
       "Aaron         120    red\n",
       "Penelope       80  white\n",
       "Dean          180   gray\n",
       "Christina     172  black\n",
       "Cornelia      150    red"
      ]
     },
     "execution_count": 8,
     "metadata": {},
     "output_type": "execute_result"
    }
   ],
   "source": [
    "df[['height', 'color']]"
   ]
  },
  {
   "cell_type": "markdown",
   "metadata": {},
   "source": [
    "# Exceptions\n",
    "There are a couple common exceptions that arise when doing selections with just the indexing operator. \n",
    "* If you misspell a word, you will get a **`KeyError`**\n",
    "* If you forgot to use a list to contain multiple columns you will also get a **`KeyError`**"
   ]
  },
  {
   "cell_type": "code",
   "execution_count": 6,
   "metadata": {},
   "outputs": [
    {
     "data": {
      "text/plain": [
       "Jane         165\n",
       "Niko          70\n",
       "Aaron        120\n",
       "Penelope      80\n",
       "Dean         180\n",
       "Christina    172\n",
       "Cornelia     150\n",
       "Name: height, dtype: int64"
      ]
     },
     "execution_count": 6,
     "metadata": {},
     "output_type": "execute_result"
    }
   ],
   "source": [
    "df['height']"
   ]
  },
  {
   "cell_type": "code",
   "execution_count": 10,
   "metadata": {},
   "outputs": [
    {
     "ename": "KeyError",
     "evalue": "('color', 'age')",
     "output_type": "error",
     "traceback": [
      "\u001b[1;31m---------------------------------------------------------------------------\u001b[0m",
      "\u001b[1;31mKeyError\u001b[0m                                  Traceback (most recent call last)",
      "\u001b[1;32m~\\Anaconda3\\lib\\site-packages\\pandas\\core\\indexes\\base.py\u001b[0m in \u001b[0;36mget_loc\u001b[1;34m(self, key, method, tolerance)\u001b[0m\n\u001b[0;32m   3077\u001b[0m             \u001b[1;32mtry\u001b[0m\u001b[1;33m:\u001b[0m\u001b[1;33m\u001b[0m\u001b[1;33m\u001b[0m\u001b[0m\n\u001b[1;32m-> 3078\u001b[1;33m                 \u001b[1;32mreturn\u001b[0m \u001b[0mself\u001b[0m\u001b[1;33m.\u001b[0m\u001b[0m_engine\u001b[0m\u001b[1;33m.\u001b[0m\u001b[0mget_loc\u001b[0m\u001b[1;33m(\u001b[0m\u001b[0mkey\u001b[0m\u001b[1;33m)\u001b[0m\u001b[1;33m\u001b[0m\u001b[1;33m\u001b[0m\u001b[0m\n\u001b[0m\u001b[0;32m   3079\u001b[0m             \u001b[1;32mexcept\u001b[0m \u001b[0mKeyError\u001b[0m\u001b[1;33m:\u001b[0m\u001b[1;33m\u001b[0m\u001b[1;33m\u001b[0m\u001b[0m\n",
      "\u001b[1;32mpandas\\_libs\\index.pyx\u001b[0m in \u001b[0;36mpandas._libs.index.IndexEngine.get_loc\u001b[1;34m()\u001b[0m\n",
      "\u001b[1;32mpandas\\_libs\\index.pyx\u001b[0m in \u001b[0;36mpandas._libs.index.IndexEngine.get_loc\u001b[1;34m()\u001b[0m\n",
      "\u001b[1;32mpandas\\_libs\\hashtable_class_helper.pxi\u001b[0m in \u001b[0;36mpandas._libs.hashtable.PyObjectHashTable.get_item\u001b[1;34m()\u001b[0m\n",
      "\u001b[1;32mpandas\\_libs\\hashtable_class_helper.pxi\u001b[0m in \u001b[0;36mpandas._libs.hashtable.PyObjectHashTable.get_item\u001b[1;34m()\u001b[0m\n",
      "\u001b[1;31mKeyError\u001b[0m: ('color', 'age')",
      "\nDuring handling of the above exception, another exception occurred:\n",
      "\u001b[1;31mKeyError\u001b[0m                                  Traceback (most recent call last)",
      "\u001b[1;32m<ipython-input-10-267e64413f86>\u001b[0m in \u001b[0;36m<module>\u001b[1;34m\u001b[0m\n\u001b[1;32m----> 1\u001b[1;33m \u001b[0mdf\u001b[0m\u001b[1;33m[\u001b[0m\u001b[1;34m'color'\u001b[0m\u001b[1;33m,\u001b[0m \u001b[1;34m'age'\u001b[0m\u001b[1;33m]\u001b[0m \u001b[1;31m# should be:  df[['color', 'age']]\u001b[0m\u001b[1;33m\u001b[0m\u001b[1;33m\u001b[0m\u001b[0m\n\u001b[0m",
      "\u001b[1;32m~\\Anaconda3\\lib\\site-packages\\pandas\\core\\frame.py\u001b[0m in \u001b[0;36m__getitem__\u001b[1;34m(self, key)\u001b[0m\n\u001b[0;32m   2686\u001b[0m             \u001b[1;32mreturn\u001b[0m \u001b[0mself\u001b[0m\u001b[1;33m.\u001b[0m\u001b[0m_getitem_multilevel\u001b[0m\u001b[1;33m(\u001b[0m\u001b[0mkey\u001b[0m\u001b[1;33m)\u001b[0m\u001b[1;33m\u001b[0m\u001b[1;33m\u001b[0m\u001b[0m\n\u001b[0;32m   2687\u001b[0m         \u001b[1;32melse\u001b[0m\u001b[1;33m:\u001b[0m\u001b[1;33m\u001b[0m\u001b[1;33m\u001b[0m\u001b[0m\n\u001b[1;32m-> 2688\u001b[1;33m             \u001b[1;32mreturn\u001b[0m \u001b[0mself\u001b[0m\u001b[1;33m.\u001b[0m\u001b[0m_getitem_column\u001b[0m\u001b[1;33m(\u001b[0m\u001b[0mkey\u001b[0m\u001b[1;33m)\u001b[0m\u001b[1;33m\u001b[0m\u001b[1;33m\u001b[0m\u001b[0m\n\u001b[0m\u001b[0;32m   2689\u001b[0m \u001b[1;33m\u001b[0m\u001b[0m\n\u001b[0;32m   2690\u001b[0m     \u001b[1;32mdef\u001b[0m \u001b[0m_getitem_column\u001b[0m\u001b[1;33m(\u001b[0m\u001b[0mself\u001b[0m\u001b[1;33m,\u001b[0m \u001b[0mkey\u001b[0m\u001b[1;33m)\u001b[0m\u001b[1;33m:\u001b[0m\u001b[1;33m\u001b[0m\u001b[1;33m\u001b[0m\u001b[0m\n",
      "\u001b[1;32m~\\Anaconda3\\lib\\site-packages\\pandas\\core\\frame.py\u001b[0m in \u001b[0;36m_getitem_column\u001b[1;34m(self, key)\u001b[0m\n\u001b[0;32m   2693\u001b[0m         \u001b[1;31m# get column\u001b[0m\u001b[1;33m\u001b[0m\u001b[1;33m\u001b[0m\u001b[1;33m\u001b[0m\u001b[0m\n\u001b[0;32m   2694\u001b[0m         \u001b[1;32mif\u001b[0m \u001b[0mself\u001b[0m\u001b[1;33m.\u001b[0m\u001b[0mcolumns\u001b[0m\u001b[1;33m.\u001b[0m\u001b[0mis_unique\u001b[0m\u001b[1;33m:\u001b[0m\u001b[1;33m\u001b[0m\u001b[1;33m\u001b[0m\u001b[0m\n\u001b[1;32m-> 2695\u001b[1;33m             \u001b[1;32mreturn\u001b[0m \u001b[0mself\u001b[0m\u001b[1;33m.\u001b[0m\u001b[0m_get_item_cache\u001b[0m\u001b[1;33m(\u001b[0m\u001b[0mkey\u001b[0m\u001b[1;33m)\u001b[0m\u001b[1;33m\u001b[0m\u001b[1;33m\u001b[0m\u001b[0m\n\u001b[0m\u001b[0;32m   2696\u001b[0m \u001b[1;33m\u001b[0m\u001b[0m\n\u001b[0;32m   2697\u001b[0m         \u001b[1;31m# duplicate columns & possible reduce dimensionality\u001b[0m\u001b[1;33m\u001b[0m\u001b[1;33m\u001b[0m\u001b[1;33m\u001b[0m\u001b[0m\n",
      "\u001b[1;32m~\\Anaconda3\\lib\\site-packages\\pandas\\core\\generic.py\u001b[0m in \u001b[0;36m_get_item_cache\u001b[1;34m(self, item)\u001b[0m\n\u001b[0;32m   2487\u001b[0m         \u001b[0mres\u001b[0m \u001b[1;33m=\u001b[0m \u001b[0mcache\u001b[0m\u001b[1;33m.\u001b[0m\u001b[0mget\u001b[0m\u001b[1;33m(\u001b[0m\u001b[0mitem\u001b[0m\u001b[1;33m)\u001b[0m\u001b[1;33m\u001b[0m\u001b[1;33m\u001b[0m\u001b[0m\n\u001b[0;32m   2488\u001b[0m         \u001b[1;32mif\u001b[0m \u001b[0mres\u001b[0m \u001b[1;32mis\u001b[0m \u001b[1;32mNone\u001b[0m\u001b[1;33m:\u001b[0m\u001b[1;33m\u001b[0m\u001b[1;33m\u001b[0m\u001b[0m\n\u001b[1;32m-> 2489\u001b[1;33m             \u001b[0mvalues\u001b[0m \u001b[1;33m=\u001b[0m \u001b[0mself\u001b[0m\u001b[1;33m.\u001b[0m\u001b[0m_data\u001b[0m\u001b[1;33m.\u001b[0m\u001b[0mget\u001b[0m\u001b[1;33m(\u001b[0m\u001b[0mitem\u001b[0m\u001b[1;33m)\u001b[0m\u001b[1;33m\u001b[0m\u001b[1;33m\u001b[0m\u001b[0m\n\u001b[0m\u001b[0;32m   2490\u001b[0m             \u001b[0mres\u001b[0m \u001b[1;33m=\u001b[0m \u001b[0mself\u001b[0m\u001b[1;33m.\u001b[0m\u001b[0m_box_item_values\u001b[0m\u001b[1;33m(\u001b[0m\u001b[0mitem\u001b[0m\u001b[1;33m,\u001b[0m \u001b[0mvalues\u001b[0m\u001b[1;33m)\u001b[0m\u001b[1;33m\u001b[0m\u001b[1;33m\u001b[0m\u001b[0m\n\u001b[0;32m   2491\u001b[0m             \u001b[0mcache\u001b[0m\u001b[1;33m[\u001b[0m\u001b[0mitem\u001b[0m\u001b[1;33m]\u001b[0m \u001b[1;33m=\u001b[0m \u001b[0mres\u001b[0m\u001b[1;33m\u001b[0m\u001b[1;33m\u001b[0m\u001b[0m\n",
      "\u001b[1;32m~\\Anaconda3\\lib\\site-packages\\pandas\\core\\internals.py\u001b[0m in \u001b[0;36mget\u001b[1;34m(self, item, fastpath)\u001b[0m\n\u001b[0;32m   4113\u001b[0m \u001b[1;33m\u001b[0m\u001b[0m\n\u001b[0;32m   4114\u001b[0m             \u001b[1;32mif\u001b[0m \u001b[1;32mnot\u001b[0m \u001b[0misna\u001b[0m\u001b[1;33m(\u001b[0m\u001b[0mitem\u001b[0m\u001b[1;33m)\u001b[0m\u001b[1;33m:\u001b[0m\u001b[1;33m\u001b[0m\u001b[1;33m\u001b[0m\u001b[0m\n\u001b[1;32m-> 4115\u001b[1;33m                 \u001b[0mloc\u001b[0m \u001b[1;33m=\u001b[0m \u001b[0mself\u001b[0m\u001b[1;33m.\u001b[0m\u001b[0mitems\u001b[0m\u001b[1;33m.\u001b[0m\u001b[0mget_loc\u001b[0m\u001b[1;33m(\u001b[0m\u001b[0mitem\u001b[0m\u001b[1;33m)\u001b[0m\u001b[1;33m\u001b[0m\u001b[1;33m\u001b[0m\u001b[0m\n\u001b[0m\u001b[0;32m   4116\u001b[0m             \u001b[1;32melse\u001b[0m\u001b[1;33m:\u001b[0m\u001b[1;33m\u001b[0m\u001b[1;33m\u001b[0m\u001b[0m\n\u001b[0;32m   4117\u001b[0m                 \u001b[0mindexer\u001b[0m \u001b[1;33m=\u001b[0m \u001b[0mnp\u001b[0m\u001b[1;33m.\u001b[0m\u001b[0marange\u001b[0m\u001b[1;33m(\u001b[0m\u001b[0mlen\u001b[0m\u001b[1;33m(\u001b[0m\u001b[0mself\u001b[0m\u001b[1;33m.\u001b[0m\u001b[0mitems\u001b[0m\u001b[1;33m)\u001b[0m\u001b[1;33m)\u001b[0m\u001b[1;33m[\u001b[0m\u001b[0misna\u001b[0m\u001b[1;33m(\u001b[0m\u001b[0mself\u001b[0m\u001b[1;33m.\u001b[0m\u001b[0mitems\u001b[0m\u001b[1;33m)\u001b[0m\u001b[1;33m]\u001b[0m\u001b[1;33m\u001b[0m\u001b[1;33m\u001b[0m\u001b[0m\n",
      "\u001b[1;32m~\\Anaconda3\\lib\\site-packages\\pandas\\core\\indexes\\base.py\u001b[0m in \u001b[0;36mget_loc\u001b[1;34m(self, key, method, tolerance)\u001b[0m\n\u001b[0;32m   3078\u001b[0m                 \u001b[1;32mreturn\u001b[0m \u001b[0mself\u001b[0m\u001b[1;33m.\u001b[0m\u001b[0m_engine\u001b[0m\u001b[1;33m.\u001b[0m\u001b[0mget_loc\u001b[0m\u001b[1;33m(\u001b[0m\u001b[0mkey\u001b[0m\u001b[1;33m)\u001b[0m\u001b[1;33m\u001b[0m\u001b[1;33m\u001b[0m\u001b[0m\n\u001b[0;32m   3079\u001b[0m             \u001b[1;32mexcept\u001b[0m \u001b[0mKeyError\u001b[0m\u001b[1;33m:\u001b[0m\u001b[1;33m\u001b[0m\u001b[1;33m\u001b[0m\u001b[0m\n\u001b[1;32m-> 3080\u001b[1;33m                 \u001b[1;32mreturn\u001b[0m \u001b[0mself\u001b[0m\u001b[1;33m.\u001b[0m\u001b[0m_engine\u001b[0m\u001b[1;33m.\u001b[0m\u001b[0mget_loc\u001b[0m\u001b[1;33m(\u001b[0m\u001b[0mself\u001b[0m\u001b[1;33m.\u001b[0m\u001b[0m_maybe_cast_indexer\u001b[0m\u001b[1;33m(\u001b[0m\u001b[0mkey\u001b[0m\u001b[1;33m)\u001b[0m\u001b[1;33m)\u001b[0m\u001b[1;33m\u001b[0m\u001b[1;33m\u001b[0m\u001b[0m\n\u001b[0m\u001b[0;32m   3081\u001b[0m \u001b[1;33m\u001b[0m\u001b[0m\n\u001b[0;32m   3082\u001b[0m         \u001b[0mindexer\u001b[0m \u001b[1;33m=\u001b[0m \u001b[0mself\u001b[0m\u001b[1;33m.\u001b[0m\u001b[0mget_indexer\u001b[0m\u001b[1;33m(\u001b[0m\u001b[1;33m[\u001b[0m\u001b[0mkey\u001b[0m\u001b[1;33m]\u001b[0m\u001b[1;33m,\u001b[0m \u001b[0mmethod\u001b[0m\u001b[1;33m=\u001b[0m\u001b[0mmethod\u001b[0m\u001b[1;33m,\u001b[0m \u001b[0mtolerance\u001b[0m\u001b[1;33m=\u001b[0m\u001b[0mtolerance\u001b[0m\u001b[1;33m)\u001b[0m\u001b[1;33m\u001b[0m\u001b[1;33m\u001b[0m\u001b[0m\n",
      "\u001b[1;32mpandas\\_libs\\index.pyx\u001b[0m in \u001b[0;36mpandas._libs.index.IndexEngine.get_loc\u001b[1;34m()\u001b[0m\n",
      "\u001b[1;32mpandas\\_libs\\index.pyx\u001b[0m in \u001b[0;36mpandas._libs.index.IndexEngine.get_loc\u001b[1;34m()\u001b[0m\n",
      "\u001b[1;32mpandas\\_libs\\hashtable_class_helper.pxi\u001b[0m in \u001b[0;36mpandas._libs.hashtable.PyObjectHashTable.get_item\u001b[1;34m()\u001b[0m\n",
      "\u001b[1;32mpandas\\_libs\\hashtable_class_helper.pxi\u001b[0m in \u001b[0;36mpandas._libs.hashtable.PyObjectHashTable.get_item\u001b[1;34m()\u001b[0m\n",
      "\u001b[1;31mKeyError\u001b[0m: ('color', 'age')"
     ]
    }
   ],
   "source": [
    "df['color', 'age'] # should be:  df[['color', 'age']]"
   ]
  },
  {
   "cell_type": "markdown",
   "metadata": {},
   "source": [
    "# Summary of []\n",
    "* Its primary purpose is to select columns by the column names\n",
    "* Select a single column as a Series by passing the column name directly to it: **`df['col_name']`**\n",
    "* Select multiple columns as a DataFrame by passing a **list** to it: **`df[['col_name1', 'col_name2']]`**"
   ]
  },
  {
   "cell_type": "markdown",
   "metadata": {},
   "source": [
    "# Getting started with `.loc`\n",
    "The **`.loc`** indexer selects data in a different way than [] operator. It can select subsets of rows or columns. It can also simultaneously select subsets of rows and columns. Most importantly, it only selects data by the **LABEL** of the rows and columns.\n",
    "\n",
    "# Select a single row as a  Series with `.loc`\n",
    "The **`.loc`** indexer will return a single row as a Series when given a single row label. Let's select the row for **`Niko`**."
   ]
  },
  {
   "cell_type": "code",
   "execution_count": 11,
   "metadata": {},
   "outputs": [
    {
     "data": {
      "text/html": [
       "<div>\n",
       "<style scoped>\n",
       "    .dataframe tbody tr th:only-of-type {\n",
       "        vertical-align: middle;\n",
       "    }\n",
       "\n",
       "    .dataframe tbody tr th {\n",
       "        vertical-align: top;\n",
       "    }\n",
       "\n",
       "    .dataframe thead th {\n",
       "        text-align: right;\n",
       "    }\n",
       "</style>\n",
       "<table border=\"1\" class=\"dataframe\">\n",
       "  <thead>\n",
       "    <tr style=\"text-align: right;\">\n",
       "      <th></th>\n",
       "      <th>state</th>\n",
       "      <th>color</th>\n",
       "      <th>food</th>\n",
       "      <th>age</th>\n",
       "      <th>height</th>\n",
       "      <th>score</th>\n",
       "    </tr>\n",
       "  </thead>\n",
       "  <tbody>\n",
       "    <tr>\n",
       "      <th>Jane</th>\n",
       "      <td>NY</td>\n",
       "      <td>blue</td>\n",
       "      <td>Steak</td>\n",
       "      <td>30</td>\n",
       "      <td>165</td>\n",
       "      <td>4.6</td>\n",
       "    </tr>\n",
       "    <tr>\n",
       "      <th>Niko</th>\n",
       "      <td>TX</td>\n",
       "      <td>green</td>\n",
       "      <td>Lamb</td>\n",
       "      <td>2</td>\n",
       "      <td>70</td>\n",
       "      <td>8.3</td>\n",
       "    </tr>\n",
       "    <tr>\n",
       "      <th>Aaron</th>\n",
       "      <td>FL</td>\n",
       "      <td>red</td>\n",
       "      <td>Mango</td>\n",
       "      <td>12</td>\n",
       "      <td>120</td>\n",
       "      <td>9.0</td>\n",
       "    </tr>\n",
       "    <tr>\n",
       "      <th>Penelope</th>\n",
       "      <td>AL</td>\n",
       "      <td>white</td>\n",
       "      <td>Apple</td>\n",
       "      <td>4</td>\n",
       "      <td>80</td>\n",
       "      <td>3.3</td>\n",
       "    </tr>\n",
       "    <tr>\n",
       "      <th>Dean</th>\n",
       "      <td>AK</td>\n",
       "      <td>gray</td>\n",
       "      <td>Cheese</td>\n",
       "      <td>32</td>\n",
       "      <td>180</td>\n",
       "      <td>1.8</td>\n",
       "    </tr>\n",
       "    <tr>\n",
       "      <th>Christina</th>\n",
       "      <td>TX</td>\n",
       "      <td>black</td>\n",
       "      <td>Melon</td>\n",
       "      <td>33</td>\n",
       "      <td>172</td>\n",
       "      <td>9.5</td>\n",
       "    </tr>\n",
       "    <tr>\n",
       "      <th>Cornelia</th>\n",
       "      <td>TX</td>\n",
       "      <td>red</td>\n",
       "      <td>Beans</td>\n",
       "      <td>69</td>\n",
       "      <td>150</td>\n",
       "      <td>2.2</td>\n",
       "    </tr>\n",
       "  </tbody>\n",
       "</table>\n",
       "</div>"
      ],
      "text/plain": [
       "          state  color    food  age  height  score\n",
       "Jane         NY   blue   Steak   30     165    4.6\n",
       "Niko         TX  green    Lamb    2      70    8.3\n",
       "Aaron        FL    red   Mango   12     120    9.0\n",
       "Penelope     AL  white   Apple    4      80    3.3\n",
       "Dean         AK   gray  Cheese   32     180    1.8\n",
       "Christina    TX  black   Melon   33     172    9.5\n",
       "Cornelia     TX    red   Beans   69     150    2.2"
      ]
     },
     "execution_count": 11,
     "metadata": {},
     "output_type": "execute_result"
    }
   ],
   "source": [
    "df"
   ]
  },
  {
   "cell_type": "code",
   "execution_count": 7,
   "metadata": {},
   "outputs": [
    {
     "data": {
      "text/plain": [
       "state        TX\n",
       "color     green\n",
       "food       Lamb\n",
       "age           2\n",
       "height       70\n",
       "score       8.3\n",
       "Name: Niko, dtype: object"
      ]
     },
     "execution_count": 7,
     "metadata": {},
     "output_type": "execute_result"
    }
   ],
   "source": [
    "df.loc['Niko']"
   ]
  },
  {
   "cell_type": "markdown",
   "metadata": {},
   "source": [
    "We now have a Series, where the old column names are now the index labels. The **`name`** of the Series has become the old index label, **`Niko`** in this case."
   ]
  },
  {
   "cell_type": "markdown",
   "metadata": {},
   "source": [
    "# Select multiple rows as a DataFrame with `.loc`\n",
    "To select multiple rows, put all the row labels you want to select in a list and pass that to **`.loc`**. Let's select `Niko` and `Penelope`."
   ]
  },
  {
   "cell_type": "code",
   "execution_count": 8,
   "metadata": {},
   "outputs": [
    {
     "data": {
      "text/html": [
       "<div>\n",
       "<style scoped>\n",
       "    .dataframe tbody tr th:only-of-type {\n",
       "        vertical-align: middle;\n",
       "    }\n",
       "\n",
       "    .dataframe tbody tr th {\n",
       "        vertical-align: top;\n",
       "    }\n",
       "\n",
       "    .dataframe thead th {\n",
       "        text-align: right;\n",
       "    }\n",
       "</style>\n",
       "<table border=\"1\" class=\"dataframe\">\n",
       "  <thead>\n",
       "    <tr style=\"text-align: right;\">\n",
       "      <th></th>\n",
       "      <th>state</th>\n",
       "      <th>color</th>\n",
       "      <th>food</th>\n",
       "      <th>age</th>\n",
       "      <th>height</th>\n",
       "      <th>score</th>\n",
       "    </tr>\n",
       "  </thead>\n",
       "  <tbody>\n",
       "    <tr>\n",
       "      <th>Niko</th>\n",
       "      <td>TX</td>\n",
       "      <td>green</td>\n",
       "      <td>Lamb</td>\n",
       "      <td>2</td>\n",
       "      <td>70</td>\n",
       "      <td>8.3</td>\n",
       "    </tr>\n",
       "    <tr>\n",
       "      <th>Penelope</th>\n",
       "      <td>AL</td>\n",
       "      <td>white</td>\n",
       "      <td>Apple</td>\n",
       "      <td>4</td>\n",
       "      <td>80</td>\n",
       "      <td>3.3</td>\n",
       "    </tr>\n",
       "  </tbody>\n",
       "</table>\n",
       "</div>"
      ],
      "text/plain": [
       "         state  color   food  age  height  score\n",
       "Niko        TX  green   Lamb    2      70    8.3\n",
       "Penelope    AL  white  Apple    4      80    3.3"
      ]
     },
     "execution_count": 8,
     "metadata": {},
     "output_type": "execute_result"
    }
   ],
   "source": [
    "df.loc[['Niko', 'Penelope']]"
   ]
  },
  {
   "cell_type": "markdown",
   "metadata": {},
   "source": [
    "# Use slice notation to select a range of rows with `.loc`\n",
    "It is possible to 'slice' the rows of a DataFrame with `.loc` by using **slice notation**. Slice notation uses a colon to separate **start**, **stop** and **step** values. For instance we can select all the rows from `Niko` through `Dean` like this:"
   ]
  },
  {
   "cell_type": "code",
   "execution_count": 13,
   "metadata": {},
   "outputs": [
    {
     "data": {
      "text/html": [
       "<div>\n",
       "<style scoped>\n",
       "    .dataframe tbody tr th:only-of-type {\n",
       "        vertical-align: middle;\n",
       "    }\n",
       "\n",
       "    .dataframe tbody tr th {\n",
       "        vertical-align: top;\n",
       "    }\n",
       "\n",
       "    .dataframe thead th {\n",
       "        text-align: right;\n",
       "    }\n",
       "</style>\n",
       "<table border=\"1\" class=\"dataframe\">\n",
       "  <thead>\n",
       "    <tr style=\"text-align: right;\">\n",
       "      <th></th>\n",
       "      <th>state</th>\n",
       "      <th>color</th>\n",
       "      <th>food</th>\n",
       "      <th>age</th>\n",
       "      <th>height</th>\n",
       "      <th>score</th>\n",
       "    </tr>\n",
       "  </thead>\n",
       "  <tbody>\n",
       "    <tr>\n",
       "      <th>Niko</th>\n",
       "      <td>TX</td>\n",
       "      <td>green</td>\n",
       "      <td>Lamb</td>\n",
       "      <td>2</td>\n",
       "      <td>70</td>\n",
       "      <td>8.3</td>\n",
       "    </tr>\n",
       "    <tr>\n",
       "      <th>Aaron</th>\n",
       "      <td>FL</td>\n",
       "      <td>red</td>\n",
       "      <td>Mango</td>\n",
       "      <td>12</td>\n",
       "      <td>120</td>\n",
       "      <td>9.0</td>\n",
       "    </tr>\n",
       "    <tr>\n",
       "      <th>Penelope</th>\n",
       "      <td>AL</td>\n",
       "      <td>white</td>\n",
       "      <td>Apple</td>\n",
       "      <td>4</td>\n",
       "      <td>80</td>\n",
       "      <td>3.3</td>\n",
       "    </tr>\n",
       "    <tr>\n",
       "      <th>Dean</th>\n",
       "      <td>AK</td>\n",
       "      <td>gray</td>\n",
       "      <td>Cheese</td>\n",
       "      <td>32</td>\n",
       "      <td>180</td>\n",
       "      <td>1.8</td>\n",
       "    </tr>\n",
       "  </tbody>\n",
       "</table>\n",
       "</div>"
      ],
      "text/plain": [
       "         state  color    food  age  height  score\n",
       "Niko        TX  green    Lamb    2      70    8.3\n",
       "Aaron       FL    red   Mango   12     120    9.0\n",
       "Penelope    AL  white   Apple    4      80    3.3\n",
       "Dean        AK   gray  Cheese   32     180    1.8"
      ]
     },
     "execution_count": 13,
     "metadata": {},
     "output_type": "execute_result"
    }
   ],
   "source": [
    "df.loc['Niko':'Dean':1]"
   ]
  },
  {
   "cell_type": "markdown",
   "metadata": {},
   "source": [
    "### <span style=\"color:brown\">Note 1: </span>`.loc` includes the last value with slice notation\n",
    "Notice that the row labeled with `Dean` was kept. In other data containers such as Python lists, the last value is excluded.\n",
    "\n",
    "## Other slices\n",
    "You can use slice notation similarly to how you use it with lists. Let's slice from the beginning through `Aaron`:"
   ]
  },
  {
   "cell_type": "code",
   "execution_count": 14,
   "metadata": {},
   "outputs": [
    {
     "data": {
      "text/html": [
       "<div>\n",
       "<style scoped>\n",
       "    .dataframe tbody tr th:only-of-type {\n",
       "        vertical-align: middle;\n",
       "    }\n",
       "\n",
       "    .dataframe tbody tr th {\n",
       "        vertical-align: top;\n",
       "    }\n",
       "\n",
       "    .dataframe thead th {\n",
       "        text-align: right;\n",
       "    }\n",
       "</style>\n",
       "<table border=\"1\" class=\"dataframe\">\n",
       "  <thead>\n",
       "    <tr style=\"text-align: right;\">\n",
       "      <th></th>\n",
       "      <th>state</th>\n",
       "      <th>color</th>\n",
       "      <th>food</th>\n",
       "      <th>age</th>\n",
       "      <th>height</th>\n",
       "      <th>score</th>\n",
       "    </tr>\n",
       "  </thead>\n",
       "  <tbody>\n",
       "    <tr>\n",
       "      <th>Jane</th>\n",
       "      <td>NY</td>\n",
       "      <td>blue</td>\n",
       "      <td>Steak</td>\n",
       "      <td>30</td>\n",
       "      <td>165</td>\n",
       "      <td>4.6</td>\n",
       "    </tr>\n",
       "    <tr>\n",
       "      <th>Niko</th>\n",
       "      <td>TX</td>\n",
       "      <td>green</td>\n",
       "      <td>Lamb</td>\n",
       "      <td>2</td>\n",
       "      <td>70</td>\n",
       "      <td>8.3</td>\n",
       "    </tr>\n",
       "    <tr>\n",
       "      <th>Aaron</th>\n",
       "      <td>FL</td>\n",
       "      <td>red</td>\n",
       "      <td>Mango</td>\n",
       "      <td>12</td>\n",
       "      <td>120</td>\n",
       "      <td>9.0</td>\n",
       "    </tr>\n",
       "  </tbody>\n",
       "</table>\n",
       "</div>"
      ],
      "text/plain": [
       "      state  color   food  age  height  score\n",
       "Jane     NY   blue  Steak   30     165    4.6\n",
       "Niko     TX  green   Lamb    2      70    8.3\n",
       "Aaron    FL    red  Mango   12     120    9.0"
      ]
     },
     "execution_count": 14,
     "metadata": {},
     "output_type": "execute_result"
    }
   ],
   "source": [
    "df.loc[:'Aaron']"
   ]
  },
  {
   "cell_type": "markdown",
   "metadata": {},
   "source": [
    "Slice from `Niko` to `Christina` stepping by 2:"
   ]
  },
  {
   "cell_type": "code",
   "execution_count": null,
   "metadata": {},
   "outputs": [],
   "source": [
    "df"
   ]
  },
  {
   "cell_type": "code",
   "execution_count": null,
   "metadata": {},
   "outputs": [],
   "source": [
    "df.loc['Niko':'Christina'] # similar to range() from last lecture."
   ]
  },
  {
   "cell_type": "markdown",
   "metadata": {},
   "source": [
    "Slice from `Dean` to the end:"
   ]
  },
  {
   "cell_type": "code",
   "execution_count": 15,
   "metadata": {},
   "outputs": [
    {
     "data": {
      "text/html": [
       "<div>\n",
       "<style scoped>\n",
       "    .dataframe tbody tr th:only-of-type {\n",
       "        vertical-align: middle;\n",
       "    }\n",
       "\n",
       "    .dataframe tbody tr th {\n",
       "        vertical-align: top;\n",
       "    }\n",
       "\n",
       "    .dataframe thead th {\n",
       "        text-align: right;\n",
       "    }\n",
       "</style>\n",
       "<table border=\"1\" class=\"dataframe\">\n",
       "  <thead>\n",
       "    <tr style=\"text-align: right;\">\n",
       "      <th></th>\n",
       "      <th>state</th>\n",
       "      <th>color</th>\n",
       "      <th>food</th>\n",
       "      <th>age</th>\n",
       "      <th>height</th>\n",
       "      <th>score</th>\n",
       "    </tr>\n",
       "  </thead>\n",
       "  <tbody>\n",
       "    <tr>\n",
       "      <th>Dean</th>\n",
       "      <td>AK</td>\n",
       "      <td>gray</td>\n",
       "      <td>Cheese</td>\n",
       "      <td>32</td>\n",
       "      <td>180</td>\n",
       "      <td>1.8</td>\n",
       "    </tr>\n",
       "    <tr>\n",
       "      <th>Christina</th>\n",
       "      <td>TX</td>\n",
       "      <td>black</td>\n",
       "      <td>Melon</td>\n",
       "      <td>33</td>\n",
       "      <td>172</td>\n",
       "      <td>9.5</td>\n",
       "    </tr>\n",
       "    <tr>\n",
       "      <th>Cornelia</th>\n",
       "      <td>TX</td>\n",
       "      <td>red</td>\n",
       "      <td>Beans</td>\n",
       "      <td>69</td>\n",
       "      <td>150</td>\n",
       "      <td>2.2</td>\n",
       "    </tr>\n",
       "  </tbody>\n",
       "</table>\n",
       "</div>"
      ],
      "text/plain": [
       "          state  color    food  age  height  score\n",
       "Dean         AK   gray  Cheese   32     180    1.8\n",
       "Christina    TX  black   Melon   33     172    9.5\n",
       "Cornelia     TX    red   Beans   69     150    2.2"
      ]
     },
     "execution_count": 15,
     "metadata": {},
     "output_type": "execute_result"
    }
   ],
   "source": [
    "df.loc['Dean':]"
   ]
  },
  {
   "cell_type": "markdown",
   "metadata": {},
   "source": [
    "# Selecting rows and columns simultaneously with `.loc`\n",
    "Unlike just the indexing operator, it is possible to select rows and columns simultaneously with `.loc`. You do it by separating your row and column selections by a **comma**. It will look something like this:\n",
    "\n",
    "```\n",
    "df.loc[row_selection, column_selection]\n",
    "```\n",
    "\n",
    "## Select two rows and three columns\n",
    "For instance, if we wanted to select the rows `Dean` and `Cornelia` along with the columns `age`, `state` and `score` we would do this:"
   ]
  },
  {
   "cell_type": "code",
   "execution_count": 16,
   "metadata": {},
   "outputs": [
    {
     "data": {
      "text/html": [
       "<div>\n",
       "<style scoped>\n",
       "    .dataframe tbody tr th:only-of-type {\n",
       "        vertical-align: middle;\n",
       "    }\n",
       "\n",
       "    .dataframe tbody tr th {\n",
       "        vertical-align: top;\n",
       "    }\n",
       "\n",
       "    .dataframe thead th {\n",
       "        text-align: right;\n",
       "    }\n",
       "</style>\n",
       "<table border=\"1\" class=\"dataframe\">\n",
       "  <thead>\n",
       "    <tr style=\"text-align: right;\">\n",
       "      <th></th>\n",
       "      <th>age</th>\n",
       "      <th>state</th>\n",
       "      <th>score</th>\n",
       "    </tr>\n",
       "  </thead>\n",
       "  <tbody>\n",
       "    <tr>\n",
       "      <th>Dean</th>\n",
       "      <td>32</td>\n",
       "      <td>AK</td>\n",
       "      <td>1.8</td>\n",
       "    </tr>\n",
       "    <tr>\n",
       "      <th>Cornelia</th>\n",
       "      <td>69</td>\n",
       "      <td>TX</td>\n",
       "      <td>2.2</td>\n",
       "    </tr>\n",
       "  </tbody>\n",
       "</table>\n",
       "</div>"
      ],
      "text/plain": [
       "          age state  score\n",
       "Dean       32    AK    1.8\n",
       "Cornelia   69    TX    2.2"
      ]
     },
     "execution_count": 16,
     "metadata": {},
     "output_type": "execute_result"
    }
   ],
   "source": [
    "df.loc[['Dean', 'Cornelia'], ['age', 'state', 'score']]"
   ]
  },
  {
   "cell_type": "markdown",
   "metadata": {},
   "source": [
    "# Use any combination of selections for either row or columns for `.loc`\n",
    "Row or column selections can be any of the following as we have already seen:\n",
    "* A single label\n",
    "* A list of labels\n",
    "* A slice with labels\n",
    "\n",
    "We can use any of these three for either row or column selections with **`.loc`**. Let's see some examples.\n",
    "\n",
    "Let's select two rows and a single column:"
   ]
  },
  {
   "cell_type": "code",
   "execution_count": null,
   "metadata": {},
   "outputs": [],
   "source": [
    "df[['color', 'age']]"
   ]
  },
  {
   "cell_type": "code",
   "execution_count": 17,
   "metadata": {},
   "outputs": [
    {
     "data": {
      "text/plain": [
       "Dean     Cheese\n",
       "Aaron     Mango\n",
       "Name: food, dtype: object"
      ]
     },
     "execution_count": 17,
     "metadata": {},
     "output_type": "execute_result"
    }
   ],
   "source": [
    "df.loc[['Dean', 'Aaron'], 'food']"
   ]
  },
  {
   "cell_type": "code",
   "execution_count": 18,
   "metadata": {},
   "outputs": [
    {
     "data": {
      "text/plain": [
       "age         32\n",
       "food    Cheese\n",
       "Name: Dean, dtype: object"
      ]
     },
     "execution_count": 18,
     "metadata": {},
     "output_type": "execute_result"
    }
   ],
   "source": [
    "df.loc['Dean', ['age', 'food']]"
   ]
  },
  {
   "cell_type": "markdown",
   "metadata": {},
   "source": [
    "Select a slice of rows and a list of columns:"
   ]
  },
  {
   "cell_type": "code",
   "execution_count": 19,
   "metadata": {},
   "outputs": [
    {
     "data": {
      "text/html": [
       "<div>\n",
       "<style scoped>\n",
       "    .dataframe tbody tr th:only-of-type {\n",
       "        vertical-align: middle;\n",
       "    }\n",
       "\n",
       "    .dataframe tbody tr th {\n",
       "        vertical-align: top;\n",
       "    }\n",
       "\n",
       "    .dataframe thead th {\n",
       "        text-align: right;\n",
       "    }\n",
       "</style>\n",
       "<table border=\"1\" class=\"dataframe\">\n",
       "  <thead>\n",
       "    <tr style=\"text-align: right;\">\n",
       "      <th></th>\n",
       "      <th>state</th>\n",
       "      <th>color</th>\n",
       "    </tr>\n",
       "  </thead>\n",
       "  <tbody>\n",
       "    <tr>\n",
       "      <th>Jane</th>\n",
       "      <td>NY</td>\n",
       "      <td>blue</td>\n",
       "    </tr>\n",
       "    <tr>\n",
       "      <th>Niko</th>\n",
       "      <td>TX</td>\n",
       "      <td>green</td>\n",
       "    </tr>\n",
       "    <tr>\n",
       "      <th>Aaron</th>\n",
       "      <td>FL</td>\n",
       "      <td>red</td>\n",
       "    </tr>\n",
       "    <tr>\n",
       "      <th>Penelope</th>\n",
       "      <td>AL</td>\n",
       "      <td>white</td>\n",
       "    </tr>\n",
       "  </tbody>\n",
       "</table>\n",
       "</div>"
      ],
      "text/plain": [
       "         state  color\n",
       "Jane        NY   blue\n",
       "Niko        TX  green\n",
       "Aaron       FL    red\n",
       "Penelope    AL  white"
      ]
     },
     "execution_count": 19,
     "metadata": {},
     "output_type": "execute_result"
    }
   ],
   "source": [
    "df.loc['Jane':'Penelope', ['state', 'color']] # slicing notation does not have []"
   ]
  },
  {
   "cell_type": "markdown",
   "metadata": {},
   "source": [
    "Select a single row and a single column. This returns a scalar value."
   ]
  },
  {
   "cell_type": "code",
   "execution_count": 20,
   "metadata": {},
   "outputs": [
    {
     "data": {
      "text/plain": [
       "30"
      ]
     },
     "execution_count": 20,
     "metadata": {},
     "output_type": "execute_result"
    }
   ],
   "source": [
    "df.loc['Jane', 'age']"
   ]
  },
  {
   "cell_type": "markdown",
   "metadata": {},
   "source": [
    "Select a slice of rows and columns"
   ]
  },
  {
   "cell_type": "code",
   "execution_count": 21,
   "metadata": {},
   "outputs": [
    {
     "data": {
      "text/html": [
       "<div>\n",
       "<style scoped>\n",
       "    .dataframe tbody tr th:only-of-type {\n",
       "        vertical-align: middle;\n",
       "    }\n",
       "\n",
       "    .dataframe tbody tr th {\n",
       "        vertical-align: top;\n",
       "    }\n",
       "\n",
       "    .dataframe thead th {\n",
       "        text-align: right;\n",
       "    }\n",
       "</style>\n",
       "<table border=\"1\" class=\"dataframe\">\n",
       "  <thead>\n",
       "    <tr style=\"text-align: right;\">\n",
       "      <th></th>\n",
       "      <th>height</th>\n",
       "      <th>score</th>\n",
       "    </tr>\n",
       "  </thead>\n",
       "  <tbody>\n",
       "    <tr>\n",
       "      <th>Jane</th>\n",
       "      <td>165</td>\n",
       "      <td>4.6</td>\n",
       "    </tr>\n",
       "    <tr>\n",
       "      <th>Niko</th>\n",
       "      <td>70</td>\n",
       "      <td>8.3</td>\n",
       "    </tr>\n",
       "    <tr>\n",
       "      <th>Aaron</th>\n",
       "      <td>120</td>\n",
       "      <td>9.0</td>\n",
       "    </tr>\n",
       "    <tr>\n",
       "      <th>Penelope</th>\n",
       "      <td>80</td>\n",
       "      <td>3.3</td>\n",
       "    </tr>\n",
       "    <tr>\n",
       "      <th>Dean</th>\n",
       "      <td>180</td>\n",
       "      <td>1.8</td>\n",
       "    </tr>\n",
       "  </tbody>\n",
       "</table>\n",
       "</div>"
      ],
      "text/plain": [
       "          height  score\n",
       "Jane         165    4.6\n",
       "Niko          70    8.3\n",
       "Aaron        120    9.0\n",
       "Penelope      80    3.3\n",
       "Dean         180    1.8"
      ]
     },
     "execution_count": 21,
     "metadata": {},
     "output_type": "execute_result"
    }
   ],
   "source": [
    "df.loc[:'Dean', 'height':]"
   ]
  },
  {
   "cell_type": "markdown",
   "metadata": {},
   "source": [
    "## Selecting all of the rows and some columns\n",
    "It is possible to select all of the rows by using a single colon. You can then select columns as normal:"
   ]
  },
  {
   "cell_type": "code",
   "execution_count": 22,
   "metadata": {},
   "outputs": [
    {
     "data": {
      "text/html": [
       "<div>\n",
       "<style scoped>\n",
       "    .dataframe tbody tr th:only-of-type {\n",
       "        vertical-align: middle;\n",
       "    }\n",
       "\n",
       "    .dataframe tbody tr th {\n",
       "        vertical-align: top;\n",
       "    }\n",
       "\n",
       "    .dataframe thead th {\n",
       "        text-align: right;\n",
       "    }\n",
       "</style>\n",
       "<table border=\"1\" class=\"dataframe\">\n",
       "  <thead>\n",
       "    <tr style=\"text-align: right;\">\n",
       "      <th></th>\n",
       "      <th>food</th>\n",
       "      <th>color</th>\n",
       "    </tr>\n",
       "  </thead>\n",
       "  <tbody>\n",
       "    <tr>\n",
       "      <th>Jane</th>\n",
       "      <td>Steak</td>\n",
       "      <td>blue</td>\n",
       "    </tr>\n",
       "    <tr>\n",
       "      <th>Niko</th>\n",
       "      <td>Lamb</td>\n",
       "      <td>green</td>\n",
       "    </tr>\n",
       "    <tr>\n",
       "      <th>Aaron</th>\n",
       "      <td>Mango</td>\n",
       "      <td>red</td>\n",
       "    </tr>\n",
       "    <tr>\n",
       "      <th>Penelope</th>\n",
       "      <td>Apple</td>\n",
       "      <td>white</td>\n",
       "    </tr>\n",
       "    <tr>\n",
       "      <th>Dean</th>\n",
       "      <td>Cheese</td>\n",
       "      <td>gray</td>\n",
       "    </tr>\n",
       "    <tr>\n",
       "      <th>Christina</th>\n",
       "      <td>Melon</td>\n",
       "      <td>black</td>\n",
       "    </tr>\n",
       "    <tr>\n",
       "      <th>Cornelia</th>\n",
       "      <td>Beans</td>\n",
       "      <td>red</td>\n",
       "    </tr>\n",
       "  </tbody>\n",
       "</table>\n",
       "</div>"
      ],
      "text/plain": [
       "             food  color\n",
       "Jane        Steak   blue\n",
       "Niko         Lamb  green\n",
       "Aaron       Mango    red\n",
       "Penelope    Apple  white\n",
       "Dean       Cheese   gray\n",
       "Christina   Melon  black\n",
       "Cornelia    Beans    red"
      ]
     },
     "execution_count": 22,
     "metadata": {},
     "output_type": "execute_result"
    }
   ],
   "source": [
    "df.loc[:, ['food', 'color']]"
   ]
  },
  {
   "cell_type": "markdown",
   "metadata": {},
   "source": [
    "You can also use this notation to select all of the columns:"
   ]
  },
  {
   "cell_type": "code",
   "execution_count": 23,
   "metadata": {},
   "outputs": [
    {
     "data": {
      "text/html": [
       "<div>\n",
       "<style scoped>\n",
       "    .dataframe tbody tr th:only-of-type {\n",
       "        vertical-align: middle;\n",
       "    }\n",
       "\n",
       "    .dataframe tbody tr th {\n",
       "        vertical-align: top;\n",
       "    }\n",
       "\n",
       "    .dataframe thead th {\n",
       "        text-align: right;\n",
       "    }\n",
       "</style>\n",
       "<table border=\"1\" class=\"dataframe\">\n",
       "  <thead>\n",
       "    <tr style=\"text-align: right;\">\n",
       "      <th></th>\n",
       "      <th>state</th>\n",
       "      <th>color</th>\n",
       "      <th>food</th>\n",
       "      <th>age</th>\n",
       "      <th>height</th>\n",
       "      <th>score</th>\n",
       "    </tr>\n",
       "  </thead>\n",
       "  <tbody>\n",
       "    <tr>\n",
       "      <th>Penelope</th>\n",
       "      <td>AL</td>\n",
       "      <td>white</td>\n",
       "      <td>Apple</td>\n",
       "      <td>4</td>\n",
       "      <td>80</td>\n",
       "      <td>3.3</td>\n",
       "    </tr>\n",
       "    <tr>\n",
       "      <th>Cornelia</th>\n",
       "      <td>TX</td>\n",
       "      <td>red</td>\n",
       "      <td>Beans</td>\n",
       "      <td>69</td>\n",
       "      <td>150</td>\n",
       "      <td>2.2</td>\n",
       "    </tr>\n",
       "  </tbody>\n",
       "</table>\n",
       "</div>"
      ],
      "text/plain": [
       "         state  color   food  age  height  score\n",
       "Penelope    AL  white  Apple    4      80    3.3\n",
       "Cornelia    TX    red  Beans   69     150    2.2"
      ]
     },
     "execution_count": 23,
     "metadata": {},
     "output_type": "execute_result"
    }
   ],
   "source": [
    "df.loc[['Penelope','Cornelia'], :]"
   ]
  },
  {
   "cell_type": "markdown",
   "metadata": {},
   "source": [
    "But, it isn't necessary as we have seen, so you can leave out that last colon:"
   ]
  },
  {
   "cell_type": "code",
   "execution_count": 24,
   "metadata": {},
   "outputs": [
    {
     "data": {
      "text/html": [
       "<div>\n",
       "<style scoped>\n",
       "    .dataframe tbody tr th:only-of-type {\n",
       "        vertical-align: middle;\n",
       "    }\n",
       "\n",
       "    .dataframe tbody tr th {\n",
       "        vertical-align: top;\n",
       "    }\n",
       "\n",
       "    .dataframe thead th {\n",
       "        text-align: right;\n",
       "    }\n",
       "</style>\n",
       "<table border=\"1\" class=\"dataframe\">\n",
       "  <thead>\n",
       "    <tr style=\"text-align: right;\">\n",
       "      <th></th>\n",
       "      <th>state</th>\n",
       "      <th>color</th>\n",
       "      <th>food</th>\n",
       "      <th>age</th>\n",
       "      <th>height</th>\n",
       "      <th>score</th>\n",
       "    </tr>\n",
       "  </thead>\n",
       "  <tbody>\n",
       "    <tr>\n",
       "      <th>Penelope</th>\n",
       "      <td>AL</td>\n",
       "      <td>white</td>\n",
       "      <td>Apple</td>\n",
       "      <td>4</td>\n",
       "      <td>80</td>\n",
       "      <td>3.3</td>\n",
       "    </tr>\n",
       "    <tr>\n",
       "      <th>Cornelia</th>\n",
       "      <td>TX</td>\n",
       "      <td>red</td>\n",
       "      <td>Beans</td>\n",
       "      <td>69</td>\n",
       "      <td>150</td>\n",
       "      <td>2.2</td>\n",
       "    </tr>\n",
       "  </tbody>\n",
       "</table>\n",
       "</div>"
      ],
      "text/plain": [
       "         state  color   food  age  height  score\n",
       "Penelope    AL  white  Apple    4      80    3.3\n",
       "Cornelia    TX    red  Beans   69     150    2.2"
      ]
     },
     "execution_count": 24,
     "metadata": {},
     "output_type": "execute_result"
    }
   ],
   "source": [
    "df.loc[['Penelope','Cornelia']]"
   ]
  },
  {
   "cell_type": "markdown",
   "metadata": {},
   "source": [
    "# Assign row and column selections to variables\n",
    "It might be easier to assign row and column selections to variables before you use `.loc`. This is useful if you are selecting many rows or columns:"
   ]
  },
  {
   "cell_type": "code",
   "execution_count": 25,
   "metadata": {},
   "outputs": [
    {
     "data": {
      "text/html": [
       "<div>\n",
       "<style scoped>\n",
       "    .dataframe tbody tr th:only-of-type {\n",
       "        vertical-align: middle;\n",
       "    }\n",
       "\n",
       "    .dataframe tbody tr th {\n",
       "        vertical-align: top;\n",
       "    }\n",
       "\n",
       "    .dataframe thead th {\n",
       "        text-align: right;\n",
       "    }\n",
       "</style>\n",
       "<table border=\"1\" class=\"dataframe\">\n",
       "  <thead>\n",
       "    <tr style=\"text-align: right;\">\n",
       "      <th></th>\n",
       "      <th>state</th>\n",
       "      <th>age</th>\n",
       "      <th>height</th>\n",
       "      <th>score</th>\n",
       "    </tr>\n",
       "  </thead>\n",
       "  <tbody>\n",
       "    <tr>\n",
       "      <th>Jane</th>\n",
       "      <td>NY</td>\n",
       "      <td>30</td>\n",
       "      <td>165</td>\n",
       "      <td>4.6</td>\n",
       "    </tr>\n",
       "    <tr>\n",
       "      <th>Niko</th>\n",
       "      <td>TX</td>\n",
       "      <td>2</td>\n",
       "      <td>70</td>\n",
       "      <td>8.3</td>\n",
       "    </tr>\n",
       "    <tr>\n",
       "      <th>Dean</th>\n",
       "      <td>AK</td>\n",
       "      <td>32</td>\n",
       "      <td>180</td>\n",
       "      <td>1.8</td>\n",
       "    </tr>\n",
       "    <tr>\n",
       "      <th>Penelope</th>\n",
       "      <td>AL</td>\n",
       "      <td>4</td>\n",
       "      <td>80</td>\n",
       "      <td>3.3</td>\n",
       "    </tr>\n",
       "    <tr>\n",
       "      <th>Christina</th>\n",
       "      <td>TX</td>\n",
       "      <td>33</td>\n",
       "      <td>172</td>\n",
       "      <td>9.5</td>\n",
       "    </tr>\n",
       "  </tbody>\n",
       "</table>\n",
       "</div>"
      ],
      "text/plain": [
       "          state  age  height  score\n",
       "Jane         NY   30     165    4.6\n",
       "Niko         TX    2      70    8.3\n",
       "Dean         AK   32     180    1.8\n",
       "Penelope     AL    4      80    3.3\n",
       "Christina    TX   33     172    9.5"
      ]
     },
     "execution_count": 25,
     "metadata": {},
     "output_type": "execute_result"
    }
   ],
   "source": [
    "rows = ['Jane', 'Niko', 'Dean', 'Penelope', 'Christina'] # start:end\n",
    "cols = ['state', 'age', 'height', 'score']\n",
    "df.loc[rows, cols]"
   ]
  },
  {
   "cell_type": "markdown",
   "metadata": {},
   "source": [
    "# Summary of `.loc`\n",
    "\n",
    "* Only uses labels\n",
    "* Can select rows and columns simultaneously\n",
    "* Selection can be a single label, a list of labels or a slice of labels\n",
    "* Put a comma between row and column selections"
   ]
  },
  {
   "cell_type": "markdown",
   "metadata": {},
   "source": [
    "# Getting started with `.iloc`\n",
    "The `.iloc` indexer is very similar to `.loc` but only uses **integer locations** to make its selections. The word `.iloc` itself stands for integer location so that should help with remember what it does.\n",
    "\n",
    "# Selecting a single row with `.iloc`\n",
    "By passing a single integer to `.iloc`, it will select one row as a Series:"
   ]
  },
  {
   "cell_type": "code",
   "execution_count": 26,
   "metadata": {},
   "outputs": [
    {
     "data": {
      "text/html": [
       "<div>\n",
       "<style scoped>\n",
       "    .dataframe tbody tr th:only-of-type {\n",
       "        vertical-align: middle;\n",
       "    }\n",
       "\n",
       "    .dataframe tbody tr th {\n",
       "        vertical-align: top;\n",
       "    }\n",
       "\n",
       "    .dataframe thead th {\n",
       "        text-align: right;\n",
       "    }\n",
       "</style>\n",
       "<table border=\"1\" class=\"dataframe\">\n",
       "  <thead>\n",
       "    <tr style=\"text-align: right;\">\n",
       "      <th></th>\n",
       "      <th>state</th>\n",
       "      <th>color</th>\n",
       "      <th>food</th>\n",
       "      <th>age</th>\n",
       "      <th>height</th>\n",
       "      <th>score</th>\n",
       "    </tr>\n",
       "  </thead>\n",
       "  <tbody>\n",
       "    <tr>\n",
       "      <th>Jane</th>\n",
       "      <td>NY</td>\n",
       "      <td>blue</td>\n",
       "      <td>Steak</td>\n",
       "      <td>30</td>\n",
       "      <td>165</td>\n",
       "      <td>4.6</td>\n",
       "    </tr>\n",
       "    <tr>\n",
       "      <th>Niko</th>\n",
       "      <td>TX</td>\n",
       "      <td>green</td>\n",
       "      <td>Lamb</td>\n",
       "      <td>2</td>\n",
       "      <td>70</td>\n",
       "      <td>8.3</td>\n",
       "    </tr>\n",
       "    <tr>\n",
       "      <th>Aaron</th>\n",
       "      <td>FL</td>\n",
       "      <td>red</td>\n",
       "      <td>Mango</td>\n",
       "      <td>12</td>\n",
       "      <td>120</td>\n",
       "      <td>9.0</td>\n",
       "    </tr>\n",
       "    <tr>\n",
       "      <th>Penelope</th>\n",
       "      <td>AL</td>\n",
       "      <td>white</td>\n",
       "      <td>Apple</td>\n",
       "      <td>4</td>\n",
       "      <td>80</td>\n",
       "      <td>3.3</td>\n",
       "    </tr>\n",
       "    <tr>\n",
       "      <th>Dean</th>\n",
       "      <td>AK</td>\n",
       "      <td>gray</td>\n",
       "      <td>Cheese</td>\n",
       "      <td>32</td>\n",
       "      <td>180</td>\n",
       "      <td>1.8</td>\n",
       "    </tr>\n",
       "    <tr>\n",
       "      <th>Christina</th>\n",
       "      <td>TX</td>\n",
       "      <td>black</td>\n",
       "      <td>Melon</td>\n",
       "      <td>33</td>\n",
       "      <td>172</td>\n",
       "      <td>9.5</td>\n",
       "    </tr>\n",
       "    <tr>\n",
       "      <th>Cornelia</th>\n",
       "      <td>TX</td>\n",
       "      <td>red</td>\n",
       "      <td>Beans</td>\n",
       "      <td>69</td>\n",
       "      <td>150</td>\n",
       "      <td>2.2</td>\n",
       "    </tr>\n",
       "  </tbody>\n",
       "</table>\n",
       "</div>"
      ],
      "text/plain": [
       "          state  color    food  age  height  score\n",
       "Jane         NY   blue   Steak   30     165    4.6\n",
       "Niko         TX  green    Lamb    2      70    8.3\n",
       "Aaron        FL    red   Mango   12     120    9.0\n",
       "Penelope     AL  white   Apple    4      80    3.3\n",
       "Dean         AK   gray  Cheese   32     180    1.8\n",
       "Christina    TX  black   Melon   33     172    9.5\n",
       "Cornelia     TX    red   Beans   69     150    2.2"
      ]
     },
     "execution_count": 26,
     "metadata": {},
     "output_type": "execute_result"
    }
   ],
   "source": [
    "df"
   ]
  },
  {
   "cell_type": "code",
   "execution_count": 27,
   "metadata": {},
   "outputs": [
    {
     "data": {
      "text/plain": [
       "state        AL\n",
       "color     white\n",
       "food      Apple\n",
       "age           4\n",
       "height       80\n",
       "score       3.3\n",
       "Name: Penelope, dtype: object"
      ]
     },
     "execution_count": 27,
     "metadata": {},
     "output_type": "execute_result"
    }
   ],
   "source": [
    "df.iloc[3]"
   ]
  },
  {
   "cell_type": "markdown",
   "metadata": {},
   "source": [
    "# Selecting multiple rows with `.iloc`\n",
    "Use a list of integers to select multiple rows:"
   ]
  },
  {
   "cell_type": "code",
   "execution_count": 28,
   "metadata": {},
   "outputs": [
    {
     "data": {
      "text/html": [
       "<div>\n",
       "<style scoped>\n",
       "    .dataframe tbody tr th:only-of-type {\n",
       "        vertical-align: middle;\n",
       "    }\n",
       "\n",
       "    .dataframe tbody tr th {\n",
       "        vertical-align: top;\n",
       "    }\n",
       "\n",
       "    .dataframe thead th {\n",
       "        text-align: right;\n",
       "    }\n",
       "</style>\n",
       "<table border=\"1\" class=\"dataframe\">\n",
       "  <thead>\n",
       "    <tr style=\"text-align: right;\">\n",
       "      <th></th>\n",
       "      <th>state</th>\n",
       "      <th>color</th>\n",
       "      <th>food</th>\n",
       "      <th>age</th>\n",
       "      <th>height</th>\n",
       "      <th>score</th>\n",
       "    </tr>\n",
       "  </thead>\n",
       "  <tbody>\n",
       "    <tr>\n",
       "      <th>Christina</th>\n",
       "      <td>TX</td>\n",
       "      <td>black</td>\n",
       "      <td>Melon</td>\n",
       "      <td>33</td>\n",
       "      <td>172</td>\n",
       "      <td>9.5</td>\n",
       "    </tr>\n",
       "    <tr>\n",
       "      <th>Aaron</th>\n",
       "      <td>FL</td>\n",
       "      <td>red</td>\n",
       "      <td>Mango</td>\n",
       "      <td>12</td>\n",
       "      <td>120</td>\n",
       "      <td>9.0</td>\n",
       "    </tr>\n",
       "    <tr>\n",
       "      <th>Dean</th>\n",
       "      <td>AK</td>\n",
       "      <td>gray</td>\n",
       "      <td>Cheese</td>\n",
       "      <td>32</td>\n",
       "      <td>180</td>\n",
       "      <td>1.8</td>\n",
       "    </tr>\n",
       "  </tbody>\n",
       "</table>\n",
       "</div>"
      ],
      "text/plain": [
       "          state  color    food  age  height  score\n",
       "Christina    TX  black   Melon   33     172    9.5\n",
       "Aaron        FL    red   Mango   12     120    9.0\n",
       "Dean         AK   gray  Cheese   32     180    1.8"
      ]
     },
     "execution_count": 28,
     "metadata": {},
     "output_type": "execute_result"
    }
   ],
   "source": [
    "df.iloc[[5, 2, 4]]           # remember, don't do df.iloc[5, 2, 4]  Error!"
   ]
  },
  {
   "cell_type": "markdown",
   "metadata": {},
   "source": [
    "# Use slice notation to select a range of rows with `.iloc`\n",
    "<span style=\"color:brown\">**Note 1: **</span>Slice notation works just like a list in this instance and is exclusive of the last element"
   ]
  },
  {
   "cell_type": "code",
   "execution_count": 29,
   "metadata": {},
   "outputs": [
    {
     "data": {
      "text/html": [
       "<div>\n",
       "<style scoped>\n",
       "    .dataframe tbody tr th:only-of-type {\n",
       "        vertical-align: middle;\n",
       "    }\n",
       "\n",
       "    .dataframe tbody tr th {\n",
       "        vertical-align: top;\n",
       "    }\n",
       "\n",
       "    .dataframe thead th {\n",
       "        text-align: right;\n",
       "    }\n",
       "</style>\n",
       "<table border=\"1\" class=\"dataframe\">\n",
       "  <thead>\n",
       "    <tr style=\"text-align: right;\">\n",
       "      <th></th>\n",
       "      <th>state</th>\n",
       "      <th>color</th>\n",
       "      <th>food</th>\n",
       "      <th>age</th>\n",
       "      <th>height</th>\n",
       "      <th>score</th>\n",
       "    </tr>\n",
       "  </thead>\n",
       "  <tbody>\n",
       "    <tr>\n",
       "      <th>Penelope</th>\n",
       "      <td>AL</td>\n",
       "      <td>white</td>\n",
       "      <td>Apple</td>\n",
       "      <td>4</td>\n",
       "      <td>80</td>\n",
       "      <td>3.3</td>\n",
       "    </tr>\n",
       "    <tr>\n",
       "      <th>Dean</th>\n",
       "      <td>AK</td>\n",
       "      <td>gray</td>\n",
       "      <td>Cheese</td>\n",
       "      <td>32</td>\n",
       "      <td>180</td>\n",
       "      <td>1.8</td>\n",
       "    </tr>\n",
       "  </tbody>\n",
       "</table>\n",
       "</div>"
      ],
      "text/plain": [
       "         state  color    food  age  height  score\n",
       "Penelope    AL  white   Apple    4      80    3.3\n",
       "Dean        AK   gray  Cheese   32     180    1.8"
      ]
     },
     "execution_count": 29,
     "metadata": {},
     "output_type": "execute_result"
    }
   ],
   "source": [
    "df.iloc[3:5]"
   ]
  },
  {
   "cell_type": "markdown",
   "metadata": {},
   "source": [
    "Select 3rd position until end:"
   ]
  },
  {
   "cell_type": "code",
   "execution_count": 30,
   "metadata": {},
   "outputs": [
    {
     "data": {
      "text/html": [
       "<div>\n",
       "<style scoped>\n",
       "    .dataframe tbody tr th:only-of-type {\n",
       "        vertical-align: middle;\n",
       "    }\n",
       "\n",
       "    .dataframe tbody tr th {\n",
       "        vertical-align: top;\n",
       "    }\n",
       "\n",
       "    .dataframe thead th {\n",
       "        text-align: right;\n",
       "    }\n",
       "</style>\n",
       "<table border=\"1\" class=\"dataframe\">\n",
       "  <thead>\n",
       "    <tr style=\"text-align: right;\">\n",
       "      <th></th>\n",
       "      <th>state</th>\n",
       "      <th>color</th>\n",
       "      <th>food</th>\n",
       "      <th>age</th>\n",
       "      <th>height</th>\n",
       "      <th>score</th>\n",
       "    </tr>\n",
       "  </thead>\n",
       "  <tbody>\n",
       "    <tr>\n",
       "      <th>Penelope</th>\n",
       "      <td>AL</td>\n",
       "      <td>white</td>\n",
       "      <td>Apple</td>\n",
       "      <td>4</td>\n",
       "      <td>80</td>\n",
       "      <td>3.3</td>\n",
       "    </tr>\n",
       "    <tr>\n",
       "      <th>Dean</th>\n",
       "      <td>AK</td>\n",
       "      <td>gray</td>\n",
       "      <td>Cheese</td>\n",
       "      <td>32</td>\n",
       "      <td>180</td>\n",
       "      <td>1.8</td>\n",
       "    </tr>\n",
       "    <tr>\n",
       "      <th>Christina</th>\n",
       "      <td>TX</td>\n",
       "      <td>black</td>\n",
       "      <td>Melon</td>\n",
       "      <td>33</td>\n",
       "      <td>172</td>\n",
       "      <td>9.5</td>\n",
       "    </tr>\n",
       "    <tr>\n",
       "      <th>Cornelia</th>\n",
       "      <td>TX</td>\n",
       "      <td>red</td>\n",
       "      <td>Beans</td>\n",
       "      <td>69</td>\n",
       "      <td>150</td>\n",
       "      <td>2.2</td>\n",
       "    </tr>\n",
       "  </tbody>\n",
       "</table>\n",
       "</div>"
      ],
      "text/plain": [
       "          state  color    food  age  height  score\n",
       "Penelope     AL  white   Apple    4      80    3.3\n",
       "Dean         AK   gray  Cheese   32     180    1.8\n",
       "Christina    TX  black   Melon   33     172    9.5\n",
       "Cornelia     TX    red   Beans   69     150    2.2"
      ]
     },
     "execution_count": 30,
     "metadata": {},
     "output_type": "execute_result"
    }
   ],
   "source": [
    "df.iloc[3:]"
   ]
  },
  {
   "cell_type": "markdown",
   "metadata": {},
   "source": [
    "Select 3rd position to end by 2:"
   ]
  },
  {
   "cell_type": "code",
   "execution_count": 31,
   "metadata": {},
   "outputs": [
    {
     "data": {
      "text/html": [
       "<div>\n",
       "<style scoped>\n",
       "    .dataframe tbody tr th:only-of-type {\n",
       "        vertical-align: middle;\n",
       "    }\n",
       "\n",
       "    .dataframe tbody tr th {\n",
       "        vertical-align: top;\n",
       "    }\n",
       "\n",
       "    .dataframe thead th {\n",
       "        text-align: right;\n",
       "    }\n",
       "</style>\n",
       "<table border=\"1\" class=\"dataframe\">\n",
       "  <thead>\n",
       "    <tr style=\"text-align: right;\">\n",
       "      <th></th>\n",
       "      <th>state</th>\n",
       "      <th>color</th>\n",
       "      <th>food</th>\n",
       "      <th>age</th>\n",
       "      <th>height</th>\n",
       "      <th>score</th>\n",
       "    </tr>\n",
       "  </thead>\n",
       "  <tbody>\n",
       "    <tr>\n",
       "      <th>Penelope</th>\n",
       "      <td>AL</td>\n",
       "      <td>white</td>\n",
       "      <td>Apple</td>\n",
       "      <td>4</td>\n",
       "      <td>80</td>\n",
       "      <td>3.3</td>\n",
       "    </tr>\n",
       "    <tr>\n",
       "      <th>Christina</th>\n",
       "      <td>TX</td>\n",
       "      <td>black</td>\n",
       "      <td>Melon</td>\n",
       "      <td>33</td>\n",
       "      <td>172</td>\n",
       "      <td>9.5</td>\n",
       "    </tr>\n",
       "  </tbody>\n",
       "</table>\n",
       "</div>"
      ],
      "text/plain": [
       "          state  color   food  age  height  score\n",
       "Penelope     AL  white  Apple    4      80    3.3\n",
       "Christina    TX  black  Melon   33     172    9.5"
      ]
     },
     "execution_count": 31,
     "metadata": {},
     "output_type": "execute_result"
    }
   ],
   "source": [
    "df.iloc[3::2]"
   ]
  },
  {
   "cell_type": "markdown",
   "metadata": {},
   "source": [
    "# Selecting rows and columns simultaneously with `.iloc`\n",
    "Just like with `.iloc` any combination of a single integer, lists of integers or slices can be used to select rows and columns simultaneously. Just remember to separate the selections with a **comma**.\n",
    "\n",
    "Select two rows and two columns:"
   ]
  },
  {
   "cell_type": "code",
   "execution_count": null,
   "metadata": {},
   "outputs": [],
   "source": [
    "df.iloc[[2,3], [0, 4]]"
   ]
  },
  {
   "cell_type": "markdown",
   "metadata": {},
   "source": [
    "Select a slice of the rows and two columns:"
   ]
  },
  {
   "cell_type": "code",
   "execution_count": null,
   "metadata": {},
   "outputs": [],
   "source": [
    "df.iloc[3:6, [1, 4]]"
   ]
  },
  {
   "cell_type": "markdown",
   "metadata": {},
   "source": [
    "Select slices for both"
   ]
  },
  {
   "cell_type": "code",
   "execution_count": null,
   "metadata": {},
   "outputs": [],
   "source": [
    "df.iloc[2:5, 2:5]"
   ]
  },
  {
   "cell_type": "markdown",
   "metadata": {},
   "source": [
    "Select a single row and column"
   ]
  },
  {
   "cell_type": "code",
   "execution_count": null,
   "metadata": {},
   "outputs": [],
   "source": [
    "df.iloc[0, 2]"
   ]
  },
  {
   "cell_type": "markdown",
   "metadata": {},
   "source": [
    "Select all the rows and a single column"
   ]
  },
  {
   "cell_type": "code",
   "execution_count": null,
   "metadata": {},
   "outputs": [],
   "source": [
    "df.iloc[:, 5]"
   ]
  },
  {
   "cell_type": "markdown",
   "metadata": {},
   "source": [
    "# Selecting subsets of Series\n",
    "\n",
    "We can also do subset selection with a Series. Since Series do not have columns, I suggest using only **`.loc`** and **`.iloc`**.\n",
    "\n",
    "I will create a Series by selecting a single column from a DataFrame. Let's select the **`food`** column:"
   ]
  },
  {
   "cell_type": "code",
   "execution_count": 9,
   "metadata": {
    "scrolled": true
   },
   "outputs": [
    {
     "data": {
      "text/plain": [
       "Jane          Steak\n",
       "Niko           Lamb\n",
       "Aaron         Mango\n",
       "Penelope      Apple\n",
       "Dean         Cheese\n",
       "Christina     Melon\n",
       "Cornelia      Beans\n",
       "Name: food, dtype: object"
      ]
     },
     "execution_count": 9,
     "metadata": {},
     "output_type": "execute_result"
    }
   ],
   "source": [
    "food = df['food']\n",
    "# food[['Jane', 'Aaron']]\n",
    "food"
   ]
  },
  {
   "cell_type": "code",
   "execution_count": null,
   "metadata": {},
   "outputs": [],
   "source": [
    "df[['afdjlf']] # df['afldsjf']"
   ]
  },
  {
   "cell_type": "markdown",
   "metadata": {},
   "source": [
    "# Series selection with `.loc`\n",
    "Series selection with `.loc` is quite simple, since we are only dealing with a single dimension. You can again use a single row label, a list of row labels or a slice of row labels to make your selection. Let's see several examples.\n",
    "\n",
    "Let's select a single value:"
   ]
  },
  {
   "cell_type": "code",
   "execution_count": 10,
   "metadata": {},
   "outputs": [
    {
     "data": {
      "text/plain": [
       "Jane          Steak\n",
       "Niko           Lamb\n",
       "Aaron         Mango\n",
       "Penelope      Apple\n",
       "Dean         Cheese\n",
       "Christina     Melon\n",
       "Cornelia      Beans\n",
       "Name: food, dtype: object"
      ]
     },
     "execution_count": 10,
     "metadata": {},
     "output_type": "execute_result"
    }
   ],
   "source": [
    "food"
   ]
  },
  {
   "cell_type": "code",
   "execution_count": 33,
   "metadata": {},
   "outputs": [
    {
     "data": {
      "text/plain": [
       "'Mango'"
      ]
     },
     "execution_count": 33,
     "metadata": {},
     "output_type": "execute_result"
    }
   ],
   "source": [
    "food.loc['Aaron'] # label, list of labels, slice of labels"
   ]
  },
  {
   "cell_type": "markdown",
   "metadata": {},
   "source": [
    "Select three different values. This returns a Series:"
   ]
  },
  {
   "cell_type": "code",
   "execution_count": 11,
   "metadata": {},
   "outputs": [
    {
     "data": {
      "text/plain": [
       "Dean        Cheese\n",
       "Niko          Lamb\n",
       "Cornelia     Beans\n",
       "Name: food, dtype: object"
      ]
     },
     "execution_count": 11,
     "metadata": {},
     "output_type": "execute_result"
    }
   ],
   "source": [
    "food.loc[['Dean', 'Niko', 'Cornelia']]"
   ]
  },
  {
   "cell_type": "markdown",
   "metadata": {},
   "source": [
    "Slice from `Niko` to `Christina` - is inclusive of last index"
   ]
  },
  {
   "cell_type": "code",
   "execution_count": 35,
   "metadata": {},
   "outputs": [
    {
     "data": {
      "text/plain": [
       "Niko           Lamb\n",
       "Aaron         Mango\n",
       "Penelope      Apple\n",
       "Dean         Cheese\n",
       "Christina     Melon\n",
       "Name: food, dtype: object"
      ]
     },
     "execution_count": 35,
     "metadata": {},
     "output_type": "execute_result"
    }
   ],
   "source": [
    "food.loc['Niko':'Christina']"
   ]
  },
  {
   "cell_type": "markdown",
   "metadata": {},
   "source": [
    "Slice from `Penelope` to the end:"
   ]
  },
  {
   "cell_type": "code",
   "execution_count": 36,
   "metadata": {},
   "outputs": [
    {
     "data": {
      "text/plain": [
       "Penelope      Apple\n",
       "Dean         Cheese\n",
       "Christina     Melon\n",
       "Cornelia      Beans\n",
       "Name: food, dtype: object"
      ]
     },
     "execution_count": 36,
     "metadata": {},
     "output_type": "execute_result"
    }
   ],
   "source": [
    "food.loc['Penelope':]"
   ]
  },
  {
   "cell_type": "markdown",
   "metadata": {},
   "source": [
    "<span style=\"color:brown\">**Note 1: **</span>Select a single value in a list which returns a Series"
   ]
  },
  {
   "cell_type": "code",
   "execution_count": 13,
   "metadata": {},
   "outputs": [
    {
     "data": {
      "text/plain": [
       "Aaron    Mango\n",
       "Name: food, dtype: object"
      ]
     },
     "execution_count": 13,
     "metadata": {},
     "output_type": "execute_result"
    }
   ],
   "source": [
    "food.loc[['Aaron']]"
   ]
  },
  {
   "cell_type": "markdown",
   "metadata": {},
   "source": [
    "# Series selection with `.iloc`\n",
    "Series subset selection with **`.iloc`** happens similarly to **`.loc`** except it uses integer location. You can use a single integer, a list of integers or a slice of integers. Let's see some examples.\n",
    "\n",
    "Select a single value:"
   ]
  },
  {
   "cell_type": "code",
   "execution_count": 38,
   "metadata": {},
   "outputs": [
    {
     "data": {
      "text/plain": [
       "'Steak'"
      ]
     },
     "execution_count": 38,
     "metadata": {},
     "output_type": "execute_result"
    }
   ],
   "source": [
    "food.iloc[0]"
   ]
  },
  {
   "cell_type": "markdown",
   "metadata": {},
   "source": [
    "Use a list of integers to select multiple values:"
   ]
  },
  {
   "cell_type": "code",
   "execution_count": 39,
   "metadata": {},
   "outputs": [
    {
     "data": {
      "text/plain": [
       "Dean        Cheese\n",
       "Niko          Lamb\n",
       "Penelope     Apple\n",
       "Name: food, dtype: object"
      ]
     },
     "execution_count": 39,
     "metadata": {},
     "output_type": "execute_result"
    }
   ],
   "source": [
    "food.iloc[[4, 1, 3]]"
   ]
  },
  {
   "cell_type": "markdown",
   "metadata": {},
   "source": [
    "Use a slice - is exclusive of last integer"
   ]
  },
  {
   "cell_type": "code",
   "execution_count": 40,
   "metadata": {},
   "outputs": [
    {
     "data": {
      "text/plain": [
       "Dean         Cheese\n",
       "Christina     Melon\n",
       "Name: food, dtype: object"
      ]
     },
     "execution_count": 40,
     "metadata": {},
     "output_type": "execute_result"
    }
   ],
   "source": [
    "food.iloc[4:6]"
   ]
  },
  {
   "cell_type": "markdown",
   "metadata": {},
   "source": [
    "# Comparison to Python lists and dictionaries\n",
    "It may be helpful to compare pandas ability to make selections by label and integer location to that of Python lists and dictionaries.\n",
    "\n",
    "Python lists allow for selection of data only through integer location. You can use a single integer or slice notation to make the selection but NOT a list of integers.\n",
    "\n",
    "Let's see examples of subset selection of lists using integers:"
   ]
  },
  {
   "cell_type": "code",
   "execution_count": 41,
   "metadata": {
    "collapsed": true
   },
   "outputs": [],
   "source": [
    "some_list = ['a', 'two', 10, 4, 0, 'asdf', 'mgmt', 434, 99]"
   ]
  },
  {
   "cell_type": "code",
   "execution_count": 42,
   "metadata": {},
   "outputs": [
    {
     "data": {
      "text/plain": [
       "'asdf'"
      ]
     },
     "execution_count": 42,
     "metadata": {},
     "output_type": "execute_result"
    }
   ],
   "source": [
    "some_list[5]"
   ]
  },
  {
   "cell_type": "code",
   "execution_count": 43,
   "metadata": {},
   "outputs": [
    {
     "data": {
      "text/plain": [
       "99"
      ]
     },
     "execution_count": 43,
     "metadata": {},
     "output_type": "execute_result"
    }
   ],
   "source": [
    "some_list[-1]"
   ]
  },
  {
   "cell_type": "code",
   "execution_count": 44,
   "metadata": {},
   "outputs": [
    {
     "data": {
      "text/plain": [
       "['a', 'two', 10, 4]"
      ]
     },
     "execution_count": 44,
     "metadata": {},
     "output_type": "execute_result"
    }
   ],
   "source": [
    "some_list[:4]"
   ]
  },
  {
   "cell_type": "code",
   "execution_count": 45,
   "metadata": {},
   "outputs": [
    {
     "data": {
      "text/plain": [
       "[4, 0, 'asdf', 'mgmt', 434, 99]"
      ]
     },
     "execution_count": 45,
     "metadata": {},
     "output_type": "execute_result"
    }
   ],
   "source": [
    "some_list[3:]"
   ]
  },
  {
   "cell_type": "code",
   "execution_count": 46,
   "metadata": {},
   "outputs": [
    {
     "data": {
      "text/plain": [
       "[10, 'asdf']"
      ]
     },
     "execution_count": 46,
     "metadata": {},
     "output_type": "execute_result"
    }
   ],
   "source": [
    "some_list[2:6:3]"
   ]
  },
  {
   "cell_type": "code",
   "execution_count": 47,
   "metadata": {},
   "outputs": [
    {
     "ename": "TypeError",
     "evalue": "list indices must be integers or slices, not list",
     "output_type": "error",
     "traceback": [
      "\u001b[1;31m---------------------------------------------------------------------------\u001b[0m",
      "\u001b[1;31mTypeError\u001b[0m                                 Traceback (most recent call last)",
      "\u001b[1;32m<ipython-input-47-c1b68043f0fa>\u001b[0m in \u001b[0;36m<module>\u001b[1;34m\u001b[0m\n\u001b[1;32m----> 1\u001b[1;33m \u001b[0msome_list\u001b[0m\u001b[1;33m[\u001b[0m\u001b[1;33m[\u001b[0m\u001b[1;36m1\u001b[0m\u001b[1;33m,\u001b[0m\u001b[1;36m3\u001b[0m\u001b[1;33m,\u001b[0m\u001b[1;36m5\u001b[0m\u001b[1;33m]\u001b[0m\u001b[1;33m]\u001b[0m\u001b[1;33m\u001b[0m\u001b[1;33m\u001b[0m\u001b[0m\n\u001b[0m",
      "\u001b[1;31mTypeError\u001b[0m: list indices must be integers or slices, not list"
     ]
    }
   ],
   "source": [
    "some_list[[1,3,5]]"
   ]
  },
  {
   "cell_type": "markdown",
   "metadata": {},
   "source": [
    "### Selection by label with Python dictionaries\n",
    "All values in each dictionary are labeled by a **key**. We use this key to make single selections. Dictionaries only allow selection with a single label. Slices and lists of labels are not allowed."
   ]
  },
  {
   "cell_type": "code",
   "execution_count": 48,
   "metadata": {
    "collapsed": true
   },
   "outputs": [],
   "source": [
    "d = {'a':1, 'b':2, 't':20, 'z':26, 'A':27}"
   ]
  },
  {
   "cell_type": "code",
   "execution_count": 49,
   "metadata": {},
   "outputs": [
    {
     "data": {
      "text/plain": [
       "1"
      ]
     },
     "execution_count": 49,
     "metadata": {},
     "output_type": "execute_result"
    }
   ],
   "source": [
    "d['a']"
   ]
  },
  {
   "cell_type": "code",
   "execution_count": 50,
   "metadata": {},
   "outputs": [
    {
     "data": {
      "text/plain": [
       "27"
      ]
     },
     "execution_count": 50,
     "metadata": {},
     "output_type": "execute_result"
    }
   ],
   "source": [
    "d['A']"
   ]
  },
  {
   "cell_type": "markdown",
   "metadata": {},
   "source": [
    "### <span style=\"color:brown\">Note: </span>Pandas has power of lists and dictionaries\n",
    "DataFrames and Series are able to make selections with integers like a list and with labels like a dictionary."
   ]
  },
  {
   "cell_type": "markdown",
   "metadata": {},
   "source": [
    "# Using [] operator to select rows from a DataFrame\n",
    "Above, I used just the indexing operator to select a column or columns from a DataFrame. But, it can also be used to select rows using a **slice**. The entire operation changes completely when a **slice** is passed.\n",
    "\n",
    "Let's use an integer slice as our first example:"
   ]
  },
  {
   "cell_type": "code",
   "execution_count": 51,
   "metadata": {},
   "outputs": [
    {
     "data": {
      "text/html": [
       "<div>\n",
       "<style scoped>\n",
       "    .dataframe tbody tr th:only-of-type {\n",
       "        vertical-align: middle;\n",
       "    }\n",
       "\n",
       "    .dataframe tbody tr th {\n",
       "        vertical-align: top;\n",
       "    }\n",
       "\n",
       "    .dataframe thead th {\n",
       "        text-align: right;\n",
       "    }\n",
       "</style>\n",
       "<table border=\"1\" class=\"dataframe\">\n",
       "  <thead>\n",
       "    <tr style=\"text-align: right;\">\n",
       "      <th></th>\n",
       "      <th>state</th>\n",
       "      <th>color</th>\n",
       "      <th>food</th>\n",
       "      <th>age</th>\n",
       "      <th>height</th>\n",
       "      <th>score</th>\n",
       "    </tr>\n",
       "  </thead>\n",
       "  <tbody>\n",
       "    <tr>\n",
       "      <th>Penelope</th>\n",
       "      <td>AL</td>\n",
       "      <td>white</td>\n",
       "      <td>Apple</td>\n",
       "      <td>4</td>\n",
       "      <td>80</td>\n",
       "      <td>3.3</td>\n",
       "    </tr>\n",
       "    <tr>\n",
       "      <th>Dean</th>\n",
       "      <td>AK</td>\n",
       "      <td>gray</td>\n",
       "      <td>Cheese</td>\n",
       "      <td>32</td>\n",
       "      <td>180</td>\n",
       "      <td>1.8</td>\n",
       "    </tr>\n",
       "    <tr>\n",
       "      <th>Christina</th>\n",
       "      <td>TX</td>\n",
       "      <td>black</td>\n",
       "      <td>Melon</td>\n",
       "      <td>33</td>\n",
       "      <td>172</td>\n",
       "      <td>9.5</td>\n",
       "    </tr>\n",
       "  </tbody>\n",
       "</table>\n",
       "</div>"
      ],
      "text/plain": [
       "          state  color    food  age  height  score\n",
       "Penelope     AL  white   Apple    4      80    3.3\n",
       "Dean         AK   gray  Cheese   32     180    1.8\n",
       "Christina    TX  black   Melon   33     172    9.5"
      ]
     },
     "execution_count": 51,
     "metadata": {},
     "output_type": "execute_result"
    }
   ],
   "source": [
    "df[3:6] # df.iloc[3:6, :]"
   ]
  },
  {
   "cell_type": "markdown",
   "metadata": {},
   "source": [
    "To add to this confusion, you can slice by labels as well."
   ]
  },
  {
   "cell_type": "code",
   "execution_count": 52,
   "metadata": {},
   "outputs": [
    {
     "data": {
      "text/html": [
       "<div>\n",
       "<style scoped>\n",
       "    .dataframe tbody tr th:only-of-type {\n",
       "        vertical-align: middle;\n",
       "    }\n",
       "\n",
       "    .dataframe tbody tr th {\n",
       "        vertical-align: top;\n",
       "    }\n",
       "\n",
       "    .dataframe thead th {\n",
       "        text-align: right;\n",
       "    }\n",
       "</style>\n",
       "<table border=\"1\" class=\"dataframe\">\n",
       "  <thead>\n",
       "    <tr style=\"text-align: right;\">\n",
       "      <th></th>\n",
       "      <th>state</th>\n",
       "      <th>color</th>\n",
       "      <th>food</th>\n",
       "      <th>age</th>\n",
       "      <th>height</th>\n",
       "      <th>score</th>\n",
       "    </tr>\n",
       "  </thead>\n",
       "  <tbody>\n",
       "    <tr>\n",
       "      <th>Aaron</th>\n",
       "      <td>FL</td>\n",
       "      <td>red</td>\n",
       "      <td>Mango</td>\n",
       "      <td>12</td>\n",
       "      <td>120</td>\n",
       "      <td>9.0</td>\n",
       "    </tr>\n",
       "    <tr>\n",
       "      <th>Penelope</th>\n",
       "      <td>AL</td>\n",
       "      <td>white</td>\n",
       "      <td>Apple</td>\n",
       "      <td>4</td>\n",
       "      <td>80</td>\n",
       "      <td>3.3</td>\n",
       "    </tr>\n",
       "    <tr>\n",
       "      <th>Dean</th>\n",
       "      <td>AK</td>\n",
       "      <td>gray</td>\n",
       "      <td>Cheese</td>\n",
       "      <td>32</td>\n",
       "      <td>180</td>\n",
       "      <td>1.8</td>\n",
       "    </tr>\n",
       "    <tr>\n",
       "      <th>Christina</th>\n",
       "      <td>TX</td>\n",
       "      <td>black</td>\n",
       "      <td>Melon</td>\n",
       "      <td>33</td>\n",
       "      <td>172</td>\n",
       "      <td>9.5</td>\n",
       "    </tr>\n",
       "  </tbody>\n",
       "</table>\n",
       "</div>"
      ],
      "text/plain": [
       "          state  color    food  age  height  score\n",
       "Aaron        FL    red   Mango   12     120    9.0\n",
       "Penelope     AL  white   Apple    4      80    3.3\n",
       "Dean         AK   gray  Cheese   32     180    1.8\n",
       "Christina    TX  black   Melon   33     172    9.5"
      ]
     },
     "execution_count": 52,
     "metadata": {},
     "output_type": "execute_result"
    }
   ],
   "source": [
    "df['Aaron':'Christina']"
   ]
  },
  {
   "cell_type": "markdown",
   "metadata": {},
   "source": [
    "# Cannot simultaneously select rows and columns with `[]`\n",
    "An exception will be raised if you try and select rows and columns simultaneously with just the indexing operator. You must use **`.loc`** or **`.iloc`** to do so."
   ]
  },
  {
   "cell_type": "code",
   "execution_count": 53,
   "metadata": {},
   "outputs": [
    {
     "ename": "TypeError",
     "evalue": "unhashable type: 'slice'",
     "output_type": "error",
     "traceback": [
      "\u001b[1;31m---------------------------------------------------------------------------\u001b[0m",
      "\u001b[1;31mTypeError\u001b[0m                                 Traceback (most recent call last)",
      "\u001b[1;32m<ipython-input-53-18422a9592a8>\u001b[0m in \u001b[0;36m<module>\u001b[1;34m\u001b[0m\n\u001b[1;32m----> 1\u001b[1;33m \u001b[0mdf\u001b[0m\u001b[1;33m[\u001b[0m\u001b[1;36m3\u001b[0m\u001b[1;33m:\u001b[0m\u001b[1;36m6\u001b[0m\u001b[1;33m,\u001b[0m \u001b[1;34m'Aaron'\u001b[0m\u001b[1;33m:\u001b[0m\u001b[1;34m'Christina'\u001b[0m\u001b[1;33m]\u001b[0m\u001b[1;33m\u001b[0m\u001b[1;33m\u001b[0m\u001b[0m\n\u001b[0m",
      "\u001b[1;32m~\\Anaconda3\\lib\\site-packages\\pandas\\core\\frame.py\u001b[0m in \u001b[0;36m__getitem__\u001b[1;34m(self, key)\u001b[0m\n\u001b[0;32m   2686\u001b[0m             \u001b[1;32mreturn\u001b[0m \u001b[0mself\u001b[0m\u001b[1;33m.\u001b[0m\u001b[0m_getitem_multilevel\u001b[0m\u001b[1;33m(\u001b[0m\u001b[0mkey\u001b[0m\u001b[1;33m)\u001b[0m\u001b[1;33m\u001b[0m\u001b[1;33m\u001b[0m\u001b[0m\n\u001b[0;32m   2687\u001b[0m         \u001b[1;32melse\u001b[0m\u001b[1;33m:\u001b[0m\u001b[1;33m\u001b[0m\u001b[1;33m\u001b[0m\u001b[0m\n\u001b[1;32m-> 2688\u001b[1;33m             \u001b[1;32mreturn\u001b[0m \u001b[0mself\u001b[0m\u001b[1;33m.\u001b[0m\u001b[0m_getitem_column\u001b[0m\u001b[1;33m(\u001b[0m\u001b[0mkey\u001b[0m\u001b[1;33m)\u001b[0m\u001b[1;33m\u001b[0m\u001b[1;33m\u001b[0m\u001b[0m\n\u001b[0m\u001b[0;32m   2689\u001b[0m \u001b[1;33m\u001b[0m\u001b[0m\n\u001b[0;32m   2690\u001b[0m     \u001b[1;32mdef\u001b[0m \u001b[0m_getitem_column\u001b[0m\u001b[1;33m(\u001b[0m\u001b[0mself\u001b[0m\u001b[1;33m,\u001b[0m \u001b[0mkey\u001b[0m\u001b[1;33m)\u001b[0m\u001b[1;33m:\u001b[0m\u001b[1;33m\u001b[0m\u001b[1;33m\u001b[0m\u001b[0m\n",
      "\u001b[1;32m~\\Anaconda3\\lib\\site-packages\\pandas\\core\\frame.py\u001b[0m in \u001b[0;36m_getitem_column\u001b[1;34m(self, key)\u001b[0m\n\u001b[0;32m   2693\u001b[0m         \u001b[1;31m# get column\u001b[0m\u001b[1;33m\u001b[0m\u001b[1;33m\u001b[0m\u001b[1;33m\u001b[0m\u001b[0m\n\u001b[0;32m   2694\u001b[0m         \u001b[1;32mif\u001b[0m \u001b[0mself\u001b[0m\u001b[1;33m.\u001b[0m\u001b[0mcolumns\u001b[0m\u001b[1;33m.\u001b[0m\u001b[0mis_unique\u001b[0m\u001b[1;33m:\u001b[0m\u001b[1;33m\u001b[0m\u001b[1;33m\u001b[0m\u001b[0m\n\u001b[1;32m-> 2695\u001b[1;33m             \u001b[1;32mreturn\u001b[0m \u001b[0mself\u001b[0m\u001b[1;33m.\u001b[0m\u001b[0m_get_item_cache\u001b[0m\u001b[1;33m(\u001b[0m\u001b[0mkey\u001b[0m\u001b[1;33m)\u001b[0m\u001b[1;33m\u001b[0m\u001b[1;33m\u001b[0m\u001b[0m\n\u001b[0m\u001b[0;32m   2696\u001b[0m \u001b[1;33m\u001b[0m\u001b[0m\n\u001b[0;32m   2697\u001b[0m         \u001b[1;31m# duplicate columns & possible reduce dimensionality\u001b[0m\u001b[1;33m\u001b[0m\u001b[1;33m\u001b[0m\u001b[1;33m\u001b[0m\u001b[0m\n",
      "\u001b[1;32m~\\Anaconda3\\lib\\site-packages\\pandas\\core\\generic.py\u001b[0m in \u001b[0;36m_get_item_cache\u001b[1;34m(self, item)\u001b[0m\n\u001b[0;32m   2485\u001b[0m         \u001b[1;34m\"\"\"Return the cached item, item represents a label indexer.\"\"\"\u001b[0m\u001b[1;33m\u001b[0m\u001b[1;33m\u001b[0m\u001b[0m\n\u001b[0;32m   2486\u001b[0m         \u001b[0mcache\u001b[0m \u001b[1;33m=\u001b[0m \u001b[0mself\u001b[0m\u001b[1;33m.\u001b[0m\u001b[0m_item_cache\u001b[0m\u001b[1;33m\u001b[0m\u001b[1;33m\u001b[0m\u001b[0m\n\u001b[1;32m-> 2487\u001b[1;33m         \u001b[0mres\u001b[0m \u001b[1;33m=\u001b[0m \u001b[0mcache\u001b[0m\u001b[1;33m.\u001b[0m\u001b[0mget\u001b[0m\u001b[1;33m(\u001b[0m\u001b[0mitem\u001b[0m\u001b[1;33m)\u001b[0m\u001b[1;33m\u001b[0m\u001b[1;33m\u001b[0m\u001b[0m\n\u001b[0m\u001b[0;32m   2488\u001b[0m         \u001b[1;32mif\u001b[0m \u001b[0mres\u001b[0m \u001b[1;32mis\u001b[0m \u001b[1;32mNone\u001b[0m\u001b[1;33m:\u001b[0m\u001b[1;33m\u001b[0m\u001b[1;33m\u001b[0m\u001b[0m\n\u001b[0;32m   2489\u001b[0m             \u001b[0mvalues\u001b[0m \u001b[1;33m=\u001b[0m \u001b[0mself\u001b[0m\u001b[1;33m.\u001b[0m\u001b[0m_data\u001b[0m\u001b[1;33m.\u001b[0m\u001b[0mget\u001b[0m\u001b[1;33m(\u001b[0m\u001b[0mitem\u001b[0m\u001b[1;33m)\u001b[0m\u001b[1;33m\u001b[0m\u001b[1;33m\u001b[0m\u001b[0m\n",
      "\u001b[1;31mTypeError\u001b[0m: unhashable type: 'slice'"
     ]
    }
   ],
   "source": [
    "df[3:6, 'Aaron':'Christina']"
   ]
  },
  {
   "cell_type": "markdown",
   "metadata": {},
   "source": [
    "# Using [] operator to select rows from a Series\n",
    "You can also use just the indexing operator with a Series. Let's see some examples"
   ]
  },
  {
   "cell_type": "code",
   "execution_count": 54,
   "metadata": {},
   "outputs": [
    {
     "data": {
      "text/plain": [
       "Jane          Steak\n",
       "Niko           Lamb\n",
       "Aaron         Mango\n",
       "Penelope      Apple\n",
       "Dean         Cheese\n",
       "Christina     Melon\n",
       "Cornelia      Beans\n",
       "Name: food, dtype: object"
      ]
     },
     "execution_count": 54,
     "metadata": {},
     "output_type": "execute_result"
    }
   ],
   "source": [
    "food"
   ]
  },
  {
   "cell_type": "code",
   "execution_count": 55,
   "metadata": {},
   "outputs": [
    {
     "data": {
      "text/plain": [
       "Aaron       Mango\n",
       "Penelope    Apple\n",
       "Name: food, dtype: object"
      ]
     },
     "execution_count": 55,
     "metadata": {},
     "output_type": "execute_result"
    }
   ],
   "source": [
    "food[2:4]"
   ]
  },
  {
   "cell_type": "code",
   "execution_count": 56,
   "metadata": {},
   "outputs": [
    {
     "data": {
      "text/plain": [
       "Niko          Lamb\n",
       "Aaron        Mango\n",
       "Penelope     Apple\n",
       "Dean        Cheese\n",
       "Name: food, dtype: object"
      ]
     },
     "execution_count": 56,
     "metadata": {},
     "output_type": "execute_result"
    }
   ],
   "source": [
    "food['Niko':'Dean']"
   ]
  },
  {
   "cell_type": "markdown",
   "metadata": {},
   "source": [
    "Since Series don't have columns you can use a single label and list of labels to make selections as well"
   ]
  },
  {
   "cell_type": "code",
   "execution_count": 57,
   "metadata": {},
   "outputs": [
    {
     "data": {
      "text/plain": [
       "'Cheese'"
      ]
     },
     "execution_count": 57,
     "metadata": {},
     "output_type": "execute_result"
    }
   ],
   "source": [
    "food['Dean']"
   ]
  },
  {
   "cell_type": "code",
   "execution_count": 58,
   "metadata": {},
   "outputs": [
    {
     "data": {
      "text/plain": [
       "Dean         Cheese\n",
       "Christina     Melon\n",
       "Aaron         Mango\n",
       "Name: food, dtype: object"
      ]
     },
     "execution_count": 58,
     "metadata": {},
     "output_type": "execute_result"
    }
   ],
   "source": [
    "food[['Dean', 'Christina', 'Aaron']]"
   ]
  },
  {
   "cell_type": "markdown",
   "metadata": {},
   "source": [
    "# The default `RangeIndex`\n",
    "If you don't specify a column to be the index when first reading in the data, pandas will use the integers 0 to n-1 as the index. This technically creates a **`RangeIndex`** object. Let's take a look at it."
   ]
  },
  {
   "cell_type": "code",
   "execution_count": 14,
   "metadata": {
    "scrolled": false
   },
   "outputs": [
    {
     "data": {
      "text/html": [
       "<div>\n",
       "<style scoped>\n",
       "    .dataframe tbody tr th:only-of-type {\n",
       "        vertical-align: middle;\n",
       "    }\n",
       "\n",
       "    .dataframe tbody tr th {\n",
       "        vertical-align: top;\n",
       "    }\n",
       "\n",
       "    .dataframe thead th {\n",
       "        text-align: right;\n",
       "    }\n",
       "</style>\n",
       "<table border=\"1\" class=\"dataframe\">\n",
       "  <thead>\n",
       "    <tr style=\"text-align: right;\">\n",
       "      <th></th>\n",
       "      <th>Names</th>\n",
       "      <th>state</th>\n",
       "      <th>color</th>\n",
       "      <th>food</th>\n",
       "      <th>age</th>\n",
       "      <th>height</th>\n",
       "      <th>score</th>\n",
       "    </tr>\n",
       "  </thead>\n",
       "  <tbody>\n",
       "    <tr>\n",
       "      <th>0</th>\n",
       "      <td>Jane</td>\n",
       "      <td>NY</td>\n",
       "      <td>blue</td>\n",
       "      <td>Steak</td>\n",
       "      <td>30</td>\n",
       "      <td>165</td>\n",
       "      <td>4.6</td>\n",
       "    </tr>\n",
       "    <tr>\n",
       "      <th>1</th>\n",
       "      <td>Niko</td>\n",
       "      <td>TX</td>\n",
       "      <td>green</td>\n",
       "      <td>Lamb</td>\n",
       "      <td>2</td>\n",
       "      <td>70</td>\n",
       "      <td>8.3</td>\n",
       "    </tr>\n",
       "    <tr>\n",
       "      <th>2</th>\n",
       "      <td>Aaron</td>\n",
       "      <td>FL</td>\n",
       "      <td>red</td>\n",
       "      <td>Mango</td>\n",
       "      <td>12</td>\n",
       "      <td>120</td>\n",
       "      <td>9.0</td>\n",
       "    </tr>\n",
       "    <tr>\n",
       "      <th>3</th>\n",
       "      <td>Penelope</td>\n",
       "      <td>AL</td>\n",
       "      <td>white</td>\n",
       "      <td>Apple</td>\n",
       "      <td>4</td>\n",
       "      <td>80</td>\n",
       "      <td>3.3</td>\n",
       "    </tr>\n",
       "    <tr>\n",
       "      <th>4</th>\n",
       "      <td>Dean</td>\n",
       "      <td>AK</td>\n",
       "      <td>gray</td>\n",
       "      <td>Cheese</td>\n",
       "      <td>32</td>\n",
       "      <td>180</td>\n",
       "      <td>1.8</td>\n",
       "    </tr>\n",
       "    <tr>\n",
       "      <th>5</th>\n",
       "      <td>Christina</td>\n",
       "      <td>TX</td>\n",
       "      <td>black</td>\n",
       "      <td>Melon</td>\n",
       "      <td>33</td>\n",
       "      <td>172</td>\n",
       "      <td>9.5</td>\n",
       "    </tr>\n",
       "    <tr>\n",
       "      <th>6</th>\n",
       "      <td>Cornelia</td>\n",
       "      <td>TX</td>\n",
       "      <td>red</td>\n",
       "      <td>Beans</td>\n",
       "      <td>69</td>\n",
       "      <td>150</td>\n",
       "      <td>2.2</td>\n",
       "    </tr>\n",
       "  </tbody>\n",
       "</table>\n",
       "</div>"
      ],
      "text/plain": [
       "       Names state  color    food  age  height  score\n",
       "0       Jane    NY   blue   Steak   30     165    4.6\n",
       "1       Niko    TX  green    Lamb    2      70    8.3\n",
       "2      Aaron    FL    red   Mango   12     120    9.0\n",
       "3   Penelope    AL  white   Apple    4      80    3.3\n",
       "4       Dean    AK   gray  Cheese   32     180    1.8\n",
       "5  Christina    TX  black   Melon   33     172    9.5\n",
       "6   Cornelia    TX    red   Beans   69     150    2.2"
      ]
     },
     "execution_count": 14,
     "metadata": {},
     "output_type": "execute_result"
    }
   ],
   "source": [
    "df2 = pd.read_csv('data/sample_data2.csv')\n",
    "df2"
   ]
  },
  {
   "cell_type": "code",
   "execution_count": 61,
   "metadata": {},
   "outputs": [
    {
     "data": {
      "text/plain": [
       "[0, 1, 2, 3, 4, 5, 6]"
      ]
     },
     "execution_count": 61,
     "metadata": {},
     "output_type": "execute_result"
    }
   ],
   "source": [
    "df2.index"
   ]
  },
  {
   "cell_type": "markdown",
   "metadata": {},
   "source": [
    "This object is similar to Python **`range`** objects. Let's create one:"
   ]
  },
  {
   "cell_type": "code",
   "execution_count": null,
   "metadata": {},
   "outputs": [],
   "source": [
    "range(7)"
   ]
  },
  {
   "cell_type": "markdown",
   "metadata": {},
   "source": [
    "Converting both of these objects to a list produces the exact same thing:"
   ]
  },
  {
   "cell_type": "code",
   "execution_count": null,
   "metadata": {},
   "outputs": [],
   "source": [
    "list(df2.index)"
   ]
  },
  {
   "cell_type": "code",
   "execution_count": null,
   "metadata": {},
   "outputs": [],
   "source": [
    "list(range(7))"
   ]
  },
  {
   "cell_type": "markdown",
   "metadata": {},
   "source": [
    "For now, it's not at all important that you have a **`RangeIndex`**. Selections from it happen just the same with **`.loc`** and **`.iloc`**. Let's look at some examples."
   ]
  },
  {
   "cell_type": "code",
   "execution_count": 15,
   "metadata": {},
   "outputs": [
    {
     "data": {
      "text/html": [
       "<div>\n",
       "<style scoped>\n",
       "    .dataframe tbody tr th:only-of-type {\n",
       "        vertical-align: middle;\n",
       "    }\n",
       "\n",
       "    .dataframe tbody tr th {\n",
       "        vertical-align: top;\n",
       "    }\n",
       "\n",
       "    .dataframe thead th {\n",
       "        text-align: right;\n",
       "    }\n",
       "</style>\n",
       "<table border=\"1\" class=\"dataframe\">\n",
       "  <thead>\n",
       "    <tr style=\"text-align: right;\">\n",
       "      <th></th>\n",
       "      <th>state</th>\n",
       "      <th>color</th>\n",
       "      <th>food</th>\n",
       "      <th>age</th>\n",
       "      <th>height</th>\n",
       "      <th>score</th>\n",
       "    </tr>\n",
       "  </thead>\n",
       "  <tbody>\n",
       "    <tr>\n",
       "      <th>Jane</th>\n",
       "      <td>NY</td>\n",
       "      <td>blue</td>\n",
       "      <td>Steak</td>\n",
       "      <td>30</td>\n",
       "      <td>165</td>\n",
       "      <td>4.6</td>\n",
       "    </tr>\n",
       "    <tr>\n",
       "      <th>Niko</th>\n",
       "      <td>TX</td>\n",
       "      <td>green</td>\n",
       "      <td>Lamb</td>\n",
       "      <td>2</td>\n",
       "      <td>70</td>\n",
       "      <td>8.3</td>\n",
       "    </tr>\n",
       "    <tr>\n",
       "      <th>Aaron</th>\n",
       "      <td>FL</td>\n",
       "      <td>red</td>\n",
       "      <td>Mango</td>\n",
       "      <td>12</td>\n",
       "      <td>120</td>\n",
       "      <td>9.0</td>\n",
       "    </tr>\n",
       "    <tr>\n",
       "      <th>Penelope</th>\n",
       "      <td>AL</td>\n",
       "      <td>white</td>\n",
       "      <td>Apple</td>\n",
       "      <td>4</td>\n",
       "      <td>80</td>\n",
       "      <td>3.3</td>\n",
       "    </tr>\n",
       "    <tr>\n",
       "      <th>Dean</th>\n",
       "      <td>AK</td>\n",
       "      <td>gray</td>\n",
       "      <td>Cheese</td>\n",
       "      <td>32</td>\n",
       "      <td>180</td>\n",
       "      <td>1.8</td>\n",
       "    </tr>\n",
       "    <tr>\n",
       "      <th>Christina</th>\n",
       "      <td>TX</td>\n",
       "      <td>black</td>\n",
       "      <td>Melon</td>\n",
       "      <td>33</td>\n",
       "      <td>172</td>\n",
       "      <td>9.5</td>\n",
       "    </tr>\n",
       "    <tr>\n",
       "      <th>Cornelia</th>\n",
       "      <td>TX</td>\n",
       "      <td>red</td>\n",
       "      <td>Beans</td>\n",
       "      <td>69</td>\n",
       "      <td>150</td>\n",
       "      <td>2.2</td>\n",
       "    </tr>\n",
       "  </tbody>\n",
       "</table>\n",
       "</div>"
      ],
      "text/plain": [
       "          state  color    food  age  height  score\n",
       "Jane         NY   blue   Steak   30     165    4.6\n",
       "Niko         TX  green    Lamb    2      70    8.3\n",
       "Aaron        FL    red   Mango   12     120    9.0\n",
       "Penelope     AL  white   Apple    4      80    3.3\n",
       "Dean         AK   gray  Cheese   32     180    1.8\n",
       "Christina    TX  black   Melon   33     172    9.5\n",
       "Cornelia     TX    red   Beans   69     150    2.2"
      ]
     },
     "execution_count": 15,
     "metadata": {},
     "output_type": "execute_result"
    }
   ],
   "source": [
    "df"
   ]
  },
  {
   "cell_type": "code",
   "execution_count": 19,
   "metadata": {},
   "outputs": [],
   "source": [
    "col = df.iloc[:, [1,4]].columns.values"
   ]
  },
  {
   "cell_type": "code",
   "execution_count": null,
   "metadata": {},
   "outputs": [],
   "source": [
    "df.iloc[[], col]"
   ]
  },
  {
   "cell_type": "code",
   "execution_count": null,
   "metadata": {},
   "outputs": [],
   "source": [
    "df2.loc[[2, 4, 5], ['food', 'color']]"
   ]
  },
  {
   "cell_type": "code",
   "execution_count": null,
   "metadata": {},
   "outputs": [],
   "source": [
    "df2.iloc[[2, 4, 5], [3,2]]"
   ]
  },
  {
   "cell_type": "markdown",
   "metadata": {},
   "source": [
    "There is a subtle difference when using a slice. **`.iloc`** excludes the last value, while **`.loc`** includes it:"
   ]
  },
  {
   "cell_type": "code",
   "execution_count": null,
   "metadata": {},
   "outputs": [],
   "source": [
    "df2.iloc[:3]"
   ]
  },
  {
   "cell_type": "code",
   "execution_count": null,
   "metadata": {},
   "outputs": [],
   "source": [
    "df2.loc[:3]"
   ]
  },
  {
   "cell_type": "markdown",
   "metadata": {},
   "source": [
    "# Selecting the same column twice?\n",
    "This is rather peculiar, but you can actually select the same column more than once:"
   ]
  },
  {
   "cell_type": "code",
   "execution_count": null,
   "metadata": {},
   "outputs": [],
   "source": [
    "df[['age', 'age', 'age']]"
   ]
  },
  {
   "cell_type": "markdown",
   "metadata": {},
   "source": [
    "# Summary of Part 1\n",
    "We covered an incredible amount of Knowledge. Let's summarize all the main points:\n",
    "\n",
    "* Before learning pandas, ensure you have the fundamentals of Python\n",
    "* Always refer to the documentation when learning new pandas operations\n",
    "* The DataFrame and the Series are the containers of data\n",
    "* A DataFrame is two-dimensional, tabular data\n",
    "* A Series is a single dimension of data\n",
    "* The three components of a DataFrame are the **index**, the **columns** and the **data** (or **values**)\n",
    "* Each row and column of the DataFrame is referenced by both a **label** and an **integer location**\n",
    "* There are three primary ways to select subsets from a DataFrame - **`[]`**, **`.loc`** and **`.iloc`**\n",
    "* I use the term **just the indexing operator** to refer to **`[]`** immediately following a DataFrame/Series\n",
    "* Just the indexing operator's primary purpose is to select a column or columns from a DataFrame\n",
    "* Using a single column name to just the indexing operator returns a single column of data as a Series\n",
    "* Passing multiple columns in a list to just the indexing operator returns a DataFrame\n",
    "* A Series has two components, the **index** and the **data** (**values**). It has no columns\n",
    "* **`.loc`** makes selections **only by label**\n",
    "* **`.loc`** can simultaneously select rows and columns\n",
    "* **`.loc`** can make selections with either a single label, a list of labels, or a slice of labels\n",
    "* **`.loc`** makes row selections first followed by column selections: **`df.loc[row_selection, col_selection]`**\n",
    "* **`.iloc`** is analogous to **.`loc`** but uses only **integer location** to refer to rows or columns.\n",
    "* **`.loc`** and **`.iloc`** work the same for Series except they only select based on the index as their are no columns\n",
    "* Pandas combines the power of python lists (selection via integer location) and dictionaries (selection by label)\n",
    "* You can use just the indexing operator to select rows from a DataFrame, but I recommend against this and instead sticking with the explicit **`.loc`** and **`.iloc`**"
   ]
  },
  {
   "cell_type": "code",
   "execution_count": 20,
   "metadata": {},
   "outputs": [
    {
     "data": {
      "text/html": [
       "<div>\n",
       "<style scoped>\n",
       "    .dataframe tbody tr th:only-of-type {\n",
       "        vertical-align: middle;\n",
       "    }\n",
       "\n",
       "    .dataframe tbody tr th {\n",
       "        vertical-align: top;\n",
       "    }\n",
       "\n",
       "    .dataframe thead th {\n",
       "        text-align: right;\n",
       "    }\n",
       "</style>\n",
       "<table border=\"1\" class=\"dataframe\">\n",
       "  <thead>\n",
       "    <tr style=\"text-align: right;\">\n",
       "      <th></th>\n",
       "      <th>DBA Name</th>\n",
       "      <th>Facility Type</th>\n",
       "      <th>Risk</th>\n",
       "      <th>Address</th>\n",
       "      <th>Zip</th>\n",
       "      <th>Inspection Date</th>\n",
       "      <th>Inspection Type</th>\n",
       "      <th>Results</th>\n",
       "      <th>Violations</th>\n",
       "    </tr>\n",
       "  </thead>\n",
       "  <tbody>\n",
       "    <tr>\n",
       "      <th>0</th>\n",
       "      <td>DANY'S TACOS</td>\n",
       "      <td>Restaurant</td>\n",
       "      <td>Risk 1 (High)</td>\n",
       "      <td>2857 S ST LOUIS AVE</td>\n",
       "      <td>60623.0</td>\n",
       "      <td>03/27/2017</td>\n",
       "      <td>License</td>\n",
       "      <td>Fail</td>\n",
       "      <td>16. FOOD PROTECTED DURING STORAGE, PREPARATION...</td>\n",
       "    </tr>\n",
       "    <tr>\n",
       "      <th>1</th>\n",
       "      <td>BILLY FOOD MARKET INC</td>\n",
       "      <td>NaN</td>\n",
       "      <td>Risk 3 (Low)</td>\n",
       "      <td>3906 W ROOSEVELT RD</td>\n",
       "      <td>60624.0</td>\n",
       "      <td>03/27/2017</td>\n",
       "      <td>License</td>\n",
       "      <td>Not Ready</td>\n",
       "      <td>NaN</td>\n",
       "    </tr>\n",
       "    <tr>\n",
       "      <th>2</th>\n",
       "      <td>TAQUERIA HACIENDA TAPATIA</td>\n",
       "      <td>Restaurant</td>\n",
       "      <td>Risk 1 (High)</td>\n",
       "      <td>4125 W 26TH ST</td>\n",
       "      <td>60623.0</td>\n",
       "      <td>03/27/2017</td>\n",
       "      <td>License Re-Inspection</td>\n",
       "      <td>Pass</td>\n",
       "      <td>2. FACILITIES TO MAINTAIN PROPER TEMPERATURE -...</td>\n",
       "    </tr>\n",
       "    <tr>\n",
       "      <th>3</th>\n",
       "      <td>WILD GOOSE BAR &amp; GRILL</td>\n",
       "      <td>Restaurant</td>\n",
       "      <td>Risk 1 (High)</td>\n",
       "      <td>4265 N LINCOLN AVE</td>\n",
       "      <td>60618.0</td>\n",
       "      <td>03/27/2017</td>\n",
       "      <td>Canvass</td>\n",
       "      <td>Fail</td>\n",
       "      <td>16. FOOD PROTECTED DURING STORAGE, PREPARATION...</td>\n",
       "    </tr>\n",
       "    <tr>\n",
       "      <th>4</th>\n",
       "      <td>PUBLICAN TAVERN K1</td>\n",
       "      <td>Restaurant</td>\n",
       "      <td>Risk 1 (High)</td>\n",
       "      <td>11601 W TOUHY AVE</td>\n",
       "      <td>60666.0</td>\n",
       "      <td>03/27/2017</td>\n",
       "      <td>Canvass</td>\n",
       "      <td>Fail</td>\n",
       "      <td>18. NO EVIDENCE OF RODENT OR INSECT OUTER OPEN...</td>\n",
       "    </tr>\n",
       "  </tbody>\n",
       "</table>\n",
       "</div>"
      ],
      "text/plain": [
       "                    DBA Name Facility Type           Risk  \\\n",
       "0               DANY'S TACOS    Restaurant  Risk 1 (High)   \n",
       "1      BILLY FOOD MARKET INC           NaN   Risk 3 (Low)   \n",
       "2  TAQUERIA HACIENDA TAPATIA    Restaurant  Risk 1 (High)   \n",
       "3     WILD GOOSE BAR & GRILL    Restaurant  Risk 1 (High)   \n",
       "4         PUBLICAN TAVERN K1    Restaurant  Risk 1 (High)   \n",
       "\n",
       "                Address      Zip Inspection Date        Inspection Type  \\\n",
       "0  2857 S ST LOUIS AVE   60623.0      03/27/2017                License   \n",
       "1  3906 W ROOSEVELT RD   60624.0      03/27/2017                License   \n",
       "2       4125 W 26TH ST   60623.0      03/27/2017  License Re-Inspection   \n",
       "3   4265 N LINCOLN AVE   60618.0      03/27/2017                Canvass   \n",
       "4    11601 W TOUHY AVE   60666.0      03/27/2017                Canvass   \n",
       "\n",
       "     Results                                         Violations  \n",
       "0       Fail  16. FOOD PROTECTED DURING STORAGE, PREPARATION...  \n",
       "1  Not Ready                                                NaN  \n",
       "2       Pass  2. FACILITIES TO MAINTAIN PROPER TEMPERATURE -...  \n",
       "3       Fail  16. FOOD PROTECTED DURING STORAGE, PREPARATION...  \n",
       "4       Fail  18. NO EVIDENCE OF RODENT OR INSECT OUTER OPEN...  "
      ]
     },
     "execution_count": 20,
     "metadata": {},
     "output_type": "execute_result"
    }
   ],
   "source": [
    "import pandas as pd\n",
    "df = pd.read_csv('data/food_inspections.csv')\n",
    "df.head()"
   ]
  },
  {
   "cell_type": "markdown",
   "metadata": {},
   "source": [
    "# Tip!\n",
    "Append the **`head`** method at the end of your statements to prevent long output as was done above.\n",
    "\n",
    "# Solutions\n",
    "Make sure you check your answers with the solutions notebook."
   ]
  },
  {
   "cell_type": "markdown",
   "metadata": {},
   "source": [
    "### Exercise 1\n",
    "<span  style=\"color:green; font-size:16px\">The current DataFrame has a simple `RangeIndex`. Let make the **`DBA Name`** column the index to make it more meaningful. Save the result to variable **`df`** and output the first five rows with the **`head`** method.</span>"
   ]
  },
  {
   "cell_type": "code",
   "execution_count": 25,
   "metadata": {},
   "outputs": [
    {
     "data": {
      "text/html": [
       "<div>\n",
       "<style scoped>\n",
       "    .dataframe tbody tr th:only-of-type {\n",
       "        vertical-align: middle;\n",
       "    }\n",
       "\n",
       "    .dataframe tbody tr th {\n",
       "        vertical-align: top;\n",
       "    }\n",
       "\n",
       "    .dataframe thead th {\n",
       "        text-align: right;\n",
       "    }\n",
       "</style>\n",
       "<table border=\"1\" class=\"dataframe\">\n",
       "  <thead>\n",
       "    <tr style=\"text-align: right;\">\n",
       "      <th></th>\n",
       "      <th>Facility Type</th>\n",
       "      <th>Risk</th>\n",
       "      <th>Address</th>\n",
       "      <th>Zip</th>\n",
       "      <th>Inspection Date</th>\n",
       "      <th>Inspection Type</th>\n",
       "      <th>Results</th>\n",
       "      <th>Violations</th>\n",
       "    </tr>\n",
       "    <tr>\n",
       "      <th>DBA Name</th>\n",
       "      <th></th>\n",
       "      <th></th>\n",
       "      <th></th>\n",
       "      <th></th>\n",
       "      <th></th>\n",
       "      <th></th>\n",
       "      <th></th>\n",
       "      <th></th>\n",
       "    </tr>\n",
       "  </thead>\n",
       "  <tbody>\n",
       "    <tr>\n",
       "      <th>DANY'S TACOS</th>\n",
       "      <td>Restaurant</td>\n",
       "      <td>Risk 1 (High)</td>\n",
       "      <td>2857 S ST LOUIS AVE</td>\n",
       "      <td>60623.0</td>\n",
       "      <td>03/27/2017</td>\n",
       "      <td>License</td>\n",
       "      <td>Fail</td>\n",
       "      <td>16. FOOD PROTECTED DURING STORAGE, PREPARATION...</td>\n",
       "    </tr>\n",
       "    <tr>\n",
       "      <th>BILLY FOOD MARKET INC</th>\n",
       "      <td>NaN</td>\n",
       "      <td>Risk 3 (Low)</td>\n",
       "      <td>3906 W ROOSEVELT RD</td>\n",
       "      <td>60624.0</td>\n",
       "      <td>03/27/2017</td>\n",
       "      <td>License</td>\n",
       "      <td>Not Ready</td>\n",
       "      <td>NaN</td>\n",
       "    </tr>\n",
       "    <tr>\n",
       "      <th>TAQUERIA HACIENDA TAPATIA</th>\n",
       "      <td>Restaurant</td>\n",
       "      <td>Risk 1 (High)</td>\n",
       "      <td>4125 W 26TH ST</td>\n",
       "      <td>60623.0</td>\n",
       "      <td>03/27/2017</td>\n",
       "      <td>License Re-Inspection</td>\n",
       "      <td>Pass</td>\n",
       "      <td>2. FACILITIES TO MAINTAIN PROPER TEMPERATURE -...</td>\n",
       "    </tr>\n",
       "    <tr>\n",
       "      <th>WILD GOOSE BAR &amp; GRILL</th>\n",
       "      <td>Restaurant</td>\n",
       "      <td>Risk 1 (High)</td>\n",
       "      <td>4265 N LINCOLN AVE</td>\n",
       "      <td>60618.0</td>\n",
       "      <td>03/27/2017</td>\n",
       "      <td>Canvass</td>\n",
       "      <td>Fail</td>\n",
       "      <td>16. FOOD PROTECTED DURING STORAGE, PREPARATION...</td>\n",
       "    </tr>\n",
       "    <tr>\n",
       "      <th>PUBLICAN TAVERN K1</th>\n",
       "      <td>Restaurant</td>\n",
       "      <td>Risk 1 (High)</td>\n",
       "      <td>11601 W TOUHY AVE</td>\n",
       "      <td>60666.0</td>\n",
       "      <td>03/27/2017</td>\n",
       "      <td>Canvass</td>\n",
       "      <td>Fail</td>\n",
       "      <td>18. NO EVIDENCE OF RODENT OR INSECT OUTER OPEN...</td>\n",
       "    </tr>\n",
       "    <tr>\n",
       "      <th>LABRIOLA BAKERY AND CAFE</th>\n",
       "      <td>Bakery</td>\n",
       "      <td>Risk 2 (Medium)</td>\n",
       "      <td>1301 W LAKE ST</td>\n",
       "      <td>60607.0</td>\n",
       "      <td>03/27/2017</td>\n",
       "      <td>License</td>\n",
       "      <td>Not Ready</td>\n",
       "      <td>NaN</td>\n",
       "    </tr>\n",
       "    <tr>\n",
       "      <th>PARK  PLAZA RETIREMENT CENTER</th>\n",
       "      <td>Restaurant</td>\n",
       "      <td>Risk 1 (High)</td>\n",
       "      <td>6840 N SACRAMENTO AVE</td>\n",
       "      <td>60645.0</td>\n",
       "      <td>03/27/2017</td>\n",
       "      <td>Complaint</td>\n",
       "      <td>Fail</td>\n",
       "      <td>6. HANDS WASHED AND CLEANED, GOOD HYGIENIC PRA...</td>\n",
       "    </tr>\n",
       "    <tr>\n",
       "      <th>SULLIVAN'S STEAKHOUSE</th>\n",
       "      <td>Restaurant</td>\n",
       "      <td>Risk 1 (High)</td>\n",
       "      <td>415 N DEARBORN ST</td>\n",
       "      <td>60654.0</td>\n",
       "      <td>03/27/2017</td>\n",
       "      <td>Complaint</td>\n",
       "      <td>Fail</td>\n",
       "      <td>16. FOOD PROTECTED DURING STORAGE, PREPARATION...</td>\n",
       "    </tr>\n",
       "    <tr>\n",
       "      <th>THRESHOLD SCHOOL</th>\n",
       "      <td>School</td>\n",
       "      <td>Risk 1 (High)</td>\n",
       "      <td>4219 N LINCOLN AVE</td>\n",
       "      <td>60618.0</td>\n",
       "      <td>03/27/2017</td>\n",
       "      <td>Canvass</td>\n",
       "      <td>Pass</td>\n",
       "      <td>38. VENTILATION: ROOMS AND EQUIPMENT VENTED AS...</td>\n",
       "    </tr>\n",
       "    <tr>\n",
       "      <th>EDIBLE ARRANGEMENTS OF CHICAGO-HYDE PARK</th>\n",
       "      <td>Restaurant</td>\n",
       "      <td>Risk 1 (High)</td>\n",
       "      <td>1465 E HYDE PARK BLVD</td>\n",
       "      <td>60615.0</td>\n",
       "      <td>03/24/2017</td>\n",
       "      <td>Canvass</td>\n",
       "      <td>Pass w/ Conditions</td>\n",
       "      <td>21. * CERTIFIED FOOD MANAGER ON SITE WHEN POTE...</td>\n",
       "    </tr>\n",
       "    <tr>\n",
       "      <th>ONE NORTH</th>\n",
       "      <td>Restaurant</td>\n",
       "      <td>Risk 1 (High)</td>\n",
       "      <td>1 N WACKER DR</td>\n",
       "      <td>60606.0</td>\n",
       "      <td>03/27/2017</td>\n",
       "      <td>Canvass Re-Inspection</td>\n",
       "      <td>Fail</td>\n",
       "      <td>14. PREVIOUS SERIOUS VIOLATION CORRECTED, 7-42...</td>\n",
       "    </tr>\n",
       "    <tr>\n",
       "      <th>FRONT YARD JERK GRILLE</th>\n",
       "      <td>Restaurant</td>\n",
       "      <td>Risk 1 (High)</td>\n",
       "      <td>74 E 71ST ST</td>\n",
       "      <td>60619.0</td>\n",
       "      <td>03/24/2017</td>\n",
       "      <td>Canvass</td>\n",
       "      <td>Pass</td>\n",
       "      <td>33. FOOD AND NON-FOOD CONTACT EQUIPMENT UTENSI...</td>\n",
       "    </tr>\n",
       "    <tr>\n",
       "      <th>VILLA PALERMO INC</th>\n",
       "      <td>Restaurant</td>\n",
       "      <td>Risk 1 (High)</td>\n",
       "      <td>2154 W DEVON AVE</td>\n",
       "      <td>60659.0</td>\n",
       "      <td>03/24/2017</td>\n",
       "      <td>Complaint</td>\n",
       "      <td>Pass w/ Conditions</td>\n",
       "      <td>19. OUTSIDE GARBAGE WASTE GREASE AND STORAGE A...</td>\n",
       "    </tr>\n",
       "    <tr>\n",
       "      <th>ST. BENEDICT ELEMENTARY SCHOOL</th>\n",
       "      <td>School</td>\n",
       "      <td>Risk 1 (High)</td>\n",
       "      <td>3920 N LEAVITT ST</td>\n",
       "      <td>60618.0</td>\n",
       "      <td>03/24/2017</td>\n",
       "      <td>Canvass</td>\n",
       "      <td>Pass</td>\n",
       "      <td>40. REFRIGERATION AND METAL STEM THERMOMETERS ...</td>\n",
       "    </tr>\n",
       "    <tr>\n",
       "      <th>BADERBRAU BREWING COMPANY</th>\n",
       "      <td>Restaurant</td>\n",
       "      <td>Risk 2 (Medium)</td>\n",
       "      <td>2513-2517 S WABASH AVE</td>\n",
       "      <td>60616.0</td>\n",
       "      <td>03/24/2017</td>\n",
       "      <td>License</td>\n",
       "      <td>Pass</td>\n",
       "      <td>38. VENTILATION: ROOMS AND EQUIPMENT VENTED AS...</td>\n",
       "    </tr>\n",
       "    <tr>\n",
       "      <th>ST. BENEDICT HIGH SCHOOL</th>\n",
       "      <td>School</td>\n",
       "      <td>Risk 1 (High)</td>\n",
       "      <td>3900 N LEAVITT ST</td>\n",
       "      <td>60618.0</td>\n",
       "      <td>03/24/2017</td>\n",
       "      <td>Canvass</td>\n",
       "      <td>Pass</td>\n",
       "      <td>33. FOOD AND NON-FOOD CONTACT EQUIPMENT UTENSI...</td>\n",
       "    </tr>\n",
       "    <tr>\n",
       "      <th>LAGRANJA RESTAURANT INC.</th>\n",
       "      <td>Restaurant</td>\n",
       "      <td>Risk 1 (High)</td>\n",
       "      <td>3047 N CICERO AVE</td>\n",
       "      <td>60641.0</td>\n",
       "      <td>03/24/2017</td>\n",
       "      <td>Canvass</td>\n",
       "      <td>Fail</td>\n",
       "      <td>29. PREVIOUS MINOR VIOLATION(S) CORRECTED 7-42...</td>\n",
       "    </tr>\n",
       "    <tr>\n",
       "      <th>PHO NUMBER 1- VIETNAMESE CUISINE LLC</th>\n",
       "      <td>Restaurant</td>\n",
       "      <td>Risk 1 (High)</td>\n",
       "      <td>5914 W LAWRENCE AVE</td>\n",
       "      <td>60630.0</td>\n",
       "      <td>03/24/2017</td>\n",
       "      <td>Complaint Re-Inspection</td>\n",
       "      <td>Pass</td>\n",
       "      <td>13. NO EVIDENCE OF RODENT OR INSECT INFESTATIO...</td>\n",
       "    </tr>\n",
       "    <tr>\n",
       "      <th>PARADISE SUPERMARKET INC</th>\n",
       "      <td>Grocery Store</td>\n",
       "      <td>Risk 2 (Medium)</td>\n",
       "      <td>8101 S COTTAGE GROVE AVE</td>\n",
       "      <td>60619.0</td>\n",
       "      <td>03/24/2017</td>\n",
       "      <td>Canvass</td>\n",
       "      <td>Out of Business</td>\n",
       "      <td>NaN</td>\n",
       "    </tr>\n",
       "    <tr>\n",
       "      <th>BISTRO CAMPAGNE</th>\n",
       "      <td>Restaurant</td>\n",
       "      <td>Risk 1 (High)</td>\n",
       "      <td>4518 N LINCOLN AVE</td>\n",
       "      <td>60625.0</td>\n",
       "      <td>03/24/2017</td>\n",
       "      <td>Canvass</td>\n",
       "      <td>Fail</td>\n",
       "      <td>16. FOOD PROTECTED DURING STORAGE, PREPARATION...</td>\n",
       "    </tr>\n",
       "    <tr>\n",
       "      <th>ILLINOIS BAR &amp; GRILL</th>\n",
       "      <td>Restaurant</td>\n",
       "      <td>Risk 1 (High)</td>\n",
       "      <td>5700 S CICERO</td>\n",
       "      <td>60638.0</td>\n",
       "      <td>03/24/2017</td>\n",
       "      <td>Complaint</td>\n",
       "      <td>Pass</td>\n",
       "      <td>38. VENTILATION: ROOMS AND EQUIPMENT VENTED AS...</td>\n",
       "    </tr>\n",
       "    <tr>\n",
       "      <th>PARADISE GROCERY INC.</th>\n",
       "      <td>Grocery Store</td>\n",
       "      <td>Risk 2 (Medium)</td>\n",
       "      <td>8101 S COTTAGE GROVE AVE</td>\n",
       "      <td>60619.0</td>\n",
       "      <td>03/24/2017</td>\n",
       "      <td>License</td>\n",
       "      <td>Pass</td>\n",
       "      <td>32. FOOD AND NON-FOOD CONTACT SURFACES PROPERL...</td>\n",
       "    </tr>\n",
       "    <tr>\n",
       "      <th>CHIPOTLE MEXICAN GRILL#2768</th>\n",
       "      <td>Restaurant</td>\n",
       "      <td>Risk 1 (High)</td>\n",
       "      <td>806 W 63RD ST</td>\n",
       "      <td>60621.0</td>\n",
       "      <td>03/24/2017</td>\n",
       "      <td>Complaint</td>\n",
       "      <td>Pass w/ Conditions</td>\n",
       "      <td>3. POTENTIALLY HAZARDOUS FOOD MEETS TEMPERATUR...</td>\n",
       "    </tr>\n",
       "    <tr>\n",
       "      <th>CARDONA'S</th>\n",
       "      <td>Restaurant</td>\n",
       "      <td>Risk 1 (High)</td>\n",
       "      <td>3537 W LAWRENCE AVE</td>\n",
       "      <td>60625.0</td>\n",
       "      <td>03/24/2017</td>\n",
       "      <td>Canvass Re-Inspection</td>\n",
       "      <td>Pass</td>\n",
       "      <td>22. DISH MACHINES: PROVIDED WITH ACCURATE THER...</td>\n",
       "    </tr>\n",
       "    <tr>\n",
       "      <th>KINGS  GYROS #2</th>\n",
       "      <td>Restaurant</td>\n",
       "      <td>Risk 1 (High)</td>\n",
       "      <td>5233 N MILWAUKEE AVE</td>\n",
       "      <td>60630.0</td>\n",
       "      <td>03/24/2017</td>\n",
       "      <td>Canvass Re-Inspection</td>\n",
       "      <td>Fail</td>\n",
       "      <td>16. FOOD PROTECTED DURING STORAGE, PREPARATION...</td>\n",
       "    </tr>\n",
       "    <tr>\n",
       "      <th>CATALYST MARIA</th>\n",
       "      <td>School</td>\n",
       "      <td>Risk 1 (High)</td>\n",
       "      <td>6727 S CALIFORNIA AVE</td>\n",
       "      <td>60629.0</td>\n",
       "      <td>03/20/2017</td>\n",
       "      <td>Canvass</td>\n",
       "      <td>Pass</td>\n",
       "      <td>33. FOOD AND NON-FOOD CONTACT EQUIPMENT UTENSI...</td>\n",
       "    </tr>\n",
       "    <tr>\n",
       "      <th>Canter Middle</th>\n",
       "      <td>School</td>\n",
       "      <td>Risk 2 (Medium)</td>\n",
       "      <td>4959 S Blackstone (1500E)</td>\n",
       "      <td>60615.0</td>\n",
       "      <td>03/24/2017</td>\n",
       "      <td>Canvass</td>\n",
       "      <td>Fail</td>\n",
       "      <td>18. NO EVIDENCE OF RODENT OR INSECT OUTER OPEN...</td>\n",
       "    </tr>\n",
       "    <tr>\n",
       "      <th>BRU COFFEE HOUSE</th>\n",
       "      <td>Restaurant</td>\n",
       "      <td>Risk 2 (Medium)</td>\n",
       "      <td>1562 N MILWAUKEE AVE</td>\n",
       "      <td>60622.0</td>\n",
       "      <td>03/24/2017</td>\n",
       "      <td>Complaint</td>\n",
       "      <td>Pass w/ Conditions</td>\n",
       "      <td>2. FACILITIES TO MAINTAIN PROPER TEMPERATURE -...</td>\n",
       "    </tr>\n",
       "    <tr>\n",
       "      <th>J J MINI STORE</th>\n",
       "      <td>GROCERY/RESTAURANT</td>\n",
       "      <td>Risk 1 (High)</td>\n",
       "      <td>3343 N PULASKI RD</td>\n",
       "      <td>60641.0</td>\n",
       "      <td>03/24/2017</td>\n",
       "      <td>Canvass</td>\n",
       "      <td>Pass</td>\n",
       "      <td>35. WALLS, CEILINGS, ATTACHED EQUIPMENT CONSTR...</td>\n",
       "    </tr>\n",
       "    <tr>\n",
       "      <th>LITTLE WOK</th>\n",
       "      <td>Restaurant</td>\n",
       "      <td>Risk 1 (High)</td>\n",
       "      <td>3144 N BROADWAY</td>\n",
       "      <td>60657.0</td>\n",
       "      <td>03/24/2017</td>\n",
       "      <td>Complaint</td>\n",
       "      <td>Pass w/ Conditions</td>\n",
       "      <td>3. POTENTIALLY HAZARDOUS FOOD MEETS TEMPERATUR...</td>\n",
       "    </tr>\n",
       "    <tr>\n",
       "      <th>...</th>\n",
       "      <td>...</td>\n",
       "      <td>...</td>\n",
       "      <td>...</td>\n",
       "      <td>...</td>\n",
       "      <td>...</td>\n",
       "      <td>...</td>\n",
       "      <td>...</td>\n",
       "      <td>...</td>\n",
       "    </tr>\n",
       "    <tr>\n",
       "      <th>CHICAGO'S FISH HUT</th>\n",
       "      <td>NaN</td>\n",
       "      <td>Risk 1 (High)</td>\n",
       "      <td>570-2 W ROOSEVELT RD</td>\n",
       "      <td>60607.0</td>\n",
       "      <td>01/14/2010</td>\n",
       "      <td>Out of Business</td>\n",
       "      <td>Pass</td>\n",
       "      <td>NaN</td>\n",
       "    </tr>\n",
       "    <tr>\n",
       "      <th>Bake For Me !</th>\n",
       "      <td>Bakery</td>\n",
       "      <td>Risk 1 (High)</td>\n",
       "      <td>608 W ROOSEVELT RD</td>\n",
       "      <td>60607.0</td>\n",
       "      <td>01/14/2010</td>\n",
       "      <td>Canvass</td>\n",
       "      <td>Pass</td>\n",
       "      <td>34. FLOORS: CONSTRUCTED PER CODE, CLEANED, GOO...</td>\n",
       "    </tr>\n",
       "    <tr>\n",
       "      <th>HOLE-IN-ONE-PIZZA</th>\n",
       "      <td>NaN</td>\n",
       "      <td>Risk 1 (High)</td>\n",
       "      <td>2640 W CHICAGO AVE</td>\n",
       "      <td>60622.0</td>\n",
       "      <td>01/13/2010</td>\n",
       "      <td>Out of Business</td>\n",
       "      <td>Pass</td>\n",
       "      <td>NaN</td>\n",
       "    </tr>\n",
       "    <tr>\n",
       "      <th>HOLE IN ONE PIZZA</th>\n",
       "      <td>NaN</td>\n",
       "      <td>Risk 1 (High)</td>\n",
       "      <td>2640 W CHICAGO AVE</td>\n",
       "      <td>60622.0</td>\n",
       "      <td>01/13/2010</td>\n",
       "      <td>Out of Business</td>\n",
       "      <td>Pass</td>\n",
       "      <td>NaN</td>\n",
       "    </tr>\n",
       "    <tr>\n",
       "      <th>JUKIN '  PIZZA</th>\n",
       "      <td>NaN</td>\n",
       "      <td>Risk 1 (High)</td>\n",
       "      <td>2640 W CHICAGO AVE</td>\n",
       "      <td>60622.0</td>\n",
       "      <td>01/13/2010</td>\n",
       "      <td>Out of Business</td>\n",
       "      <td>Pass</td>\n",
       "      <td>NaN</td>\n",
       "    </tr>\n",
       "    <tr>\n",
       "      <th>GREENLEAF FOOD MART, INC.</th>\n",
       "      <td>Grocery Store</td>\n",
       "      <td>Risk 1 (High)</td>\n",
       "      <td>1619 S MICHIGAN AVE</td>\n",
       "      <td>60616.0</td>\n",
       "      <td>01/12/2010</td>\n",
       "      <td>Complaint</td>\n",
       "      <td>Pass w/ Conditions</td>\n",
       "      <td>1. SOURCE SOUND CONDITION, NO SPOILAGE, FOODS ...</td>\n",
       "    </tr>\n",
       "    <tr>\n",
       "      <th>DIP &amp; FLIP</th>\n",
       "      <td>Restaurant</td>\n",
       "      <td>Risk 2 (Medium)</td>\n",
       "      <td>6510 S WESTERN AVE</td>\n",
       "      <td>60636.0</td>\n",
       "      <td>01/12/2010</td>\n",
       "      <td>Short Form Complaint</td>\n",
       "      <td>Fail</td>\n",
       "      <td>NaN</td>\n",
       "    </tr>\n",
       "    <tr>\n",
       "      <th>INDIAN GOURMET</th>\n",
       "      <td>NaN</td>\n",
       "      <td>Risk 1 (High)</td>\n",
       "      <td>2916 1/2 W DEVON AVE</td>\n",
       "      <td>60659.0</td>\n",
       "      <td>01/12/2010</td>\n",
       "      <td>Canvass</td>\n",
       "      <td>Fail</td>\n",
       "      <td>NaN</td>\n",
       "    </tr>\n",
       "    <tr>\n",
       "      <th>WISHCO, INC.</th>\n",
       "      <td>NaN</td>\n",
       "      <td>Risk 3 (Low)</td>\n",
       "      <td>1546 W 35TH ST</td>\n",
       "      <td>60609.0</td>\n",
       "      <td>01/13/2010</td>\n",
       "      <td>Out of Business</td>\n",
       "      <td>Fail</td>\n",
       "      <td>NaN</td>\n",
       "    </tr>\n",
       "    <tr>\n",
       "      <th>MR K'S RESTAURANT</th>\n",
       "      <td>NaN</td>\n",
       "      <td>Risk 1 (High)</td>\n",
       "      <td>5415 N HARLEM AVE</td>\n",
       "      <td>60656.0</td>\n",
       "      <td>01/13/2010</td>\n",
       "      <td>Out of Business</td>\n",
       "      <td>Pass</td>\n",
       "      <td>NaN</td>\n",
       "    </tr>\n",
       "    <tr>\n",
       "      <th>EL CUBANO WHLSE MEAT INC</th>\n",
       "      <td>Wholesale</td>\n",
       "      <td>Risk 2 (Medium)</td>\n",
       "      <td>926 W FULTON MARKET</td>\n",
       "      <td>60607.0</td>\n",
       "      <td>01/13/2010</td>\n",
       "      <td>Complaint</td>\n",
       "      <td>Pass</td>\n",
       "      <td>34. FLOORS: CONSTRUCTED PER CODE, CLEANED, GOO...</td>\n",
       "    </tr>\n",
       "    <tr>\n",
       "      <th>GREAT AMERICAN BAGEL, INC.</th>\n",
       "      <td>NaN</td>\n",
       "      <td>Risk 1 (High)</td>\n",
       "      <td>4634 N CUMBERLAND AVE</td>\n",
       "      <td>60656.0</td>\n",
       "      <td>01/12/2010</td>\n",
       "      <td>Out of Business</td>\n",
       "      <td>Pass</td>\n",
       "      <td>NaN</td>\n",
       "    </tr>\n",
       "    <tr>\n",
       "      <th>LOS JASMINES</th>\n",
       "      <td>NaN</td>\n",
       "      <td>Risk 3 (Low)</td>\n",
       "      <td>1100 W 18TH ST</td>\n",
       "      <td>60608.0</td>\n",
       "      <td>01/12/2010</td>\n",
       "      <td>Out of Business</td>\n",
       "      <td>Fail</td>\n",
       "      <td>NaN</td>\n",
       "    </tr>\n",
       "    <tr>\n",
       "      <th>CAGNEY'S</th>\n",
       "      <td>Restaurant</td>\n",
       "      <td>Risk 1 (High)</td>\n",
       "      <td>2142 N CLYBOURN AVE</td>\n",
       "      <td>60614.0</td>\n",
       "      <td>01/12/2010</td>\n",
       "      <td>Canvass</td>\n",
       "      <td>Pass</td>\n",
       "      <td>32. FOOD AND NON-FOOD CONTACT SURFACES PROPERL...</td>\n",
       "    </tr>\n",
       "    <tr>\n",
       "      <th>MANGO'S BAR &amp;GRILL OF CHICAGO</th>\n",
       "      <td>Liquor</td>\n",
       "      <td>Risk 3 (Low)</td>\n",
       "      <td>2828 N MILWAUKEE AVE BLDG</td>\n",
       "      <td>60618.0</td>\n",
       "      <td>01/12/2010</td>\n",
       "      <td>License-Task Force</td>\n",
       "      <td>Fail</td>\n",
       "      <td>12. HAND WASHING FACILITIES: WITH SOAP AND SAN...</td>\n",
       "    </tr>\n",
       "    <tr>\n",
       "      <th>FOREST VIEW DELI</th>\n",
       "      <td>NaN</td>\n",
       "      <td>Risk 1 (High)</td>\n",
       "      <td>6452 N MILWAUKEE AVE</td>\n",
       "      <td>60631.0</td>\n",
       "      <td>01/11/2010</td>\n",
       "      <td>Out of Business</td>\n",
       "      <td>Pass</td>\n",
       "      <td>NaN</td>\n",
       "    </tr>\n",
       "    <tr>\n",
       "      <th>IGGY'S</th>\n",
       "      <td>NaN</td>\n",
       "      <td>Risk 2 (Medium)</td>\n",
       "      <td>700 N MILWAUKEE AVE</td>\n",
       "      <td>60622.0</td>\n",
       "      <td>01/11/2010</td>\n",
       "      <td>Out of Business</td>\n",
       "      <td>Pass</td>\n",
       "      <td>NaN</td>\n",
       "    </tr>\n",
       "    <tr>\n",
       "      <th>New Zion Child Care Academy</th>\n",
       "      <td>Daycare Combo 1586</td>\n",
       "      <td>Risk 1 (High)</td>\n",
       "      <td>1960 W 13 th ST</td>\n",
       "      <td>60608.0</td>\n",
       "      <td>01/08/2010</td>\n",
       "      <td>License Re-Inspection</td>\n",
       "      <td>Pass</td>\n",
       "      <td>32. FOOD AND NON-FOOD CONTACT SURFACES PROPERL...</td>\n",
       "    </tr>\n",
       "    <tr>\n",
       "      <th>BK'S BAR-B-Q</th>\n",
       "      <td>NaN</td>\n",
       "      <td>Risk 1 (High)</td>\n",
       "      <td>2152 E 71ST ST</td>\n",
       "      <td>60649.0</td>\n",
       "      <td>01/11/2010</td>\n",
       "      <td>Out of Business</td>\n",
       "      <td>Fail</td>\n",
       "      <td>NaN</td>\n",
       "    </tr>\n",
       "    <tr>\n",
       "      <th>CHATO'S CHICKEN &amp; MASHED</th>\n",
       "      <td>NaN</td>\n",
       "      <td>Risk 1 (High)</td>\n",
       "      <td>1519 W TAYLOR ST</td>\n",
       "      <td>60607.0</td>\n",
       "      <td>01/11/2010</td>\n",
       "      <td>Out of Business</td>\n",
       "      <td>Pass</td>\n",
       "      <td>NaN</td>\n",
       "    </tr>\n",
       "    <tr>\n",
       "      <th>MAY MEI KITCHEN</th>\n",
       "      <td>Restaurant</td>\n",
       "      <td>Risk 1 (High)</td>\n",
       "      <td>1122 W 95TH ST</td>\n",
       "      <td>60643.0</td>\n",
       "      <td>01/11/2010</td>\n",
       "      <td>License Re-Inspection</td>\n",
       "      <td>Pass</td>\n",
       "      <td>2. FACILITIES TO MAINTAIN PROPER TEMPERATURE -...</td>\n",
       "    </tr>\n",
       "    <tr>\n",
       "      <th>SCRUB A DUB FULLERTON</th>\n",
       "      <td>NaN</td>\n",
       "      <td>Risk 2 (Medium)</td>\n",
       "      <td>3333 W FULLERTON AVE</td>\n",
       "      <td>60647.0</td>\n",
       "      <td>01/07/2010</td>\n",
       "      <td>Canvass</td>\n",
       "      <td>Pass</td>\n",
       "      <td>NaN</td>\n",
       "    </tr>\n",
       "    <tr>\n",
       "      <th>SCRUB A DUB</th>\n",
       "      <td>NaN</td>\n",
       "      <td>Risk 2 (Medium)</td>\n",
       "      <td>3333 W FULLERTON AVE</td>\n",
       "      <td>60647.0</td>\n",
       "      <td>01/07/2010</td>\n",
       "      <td>Canvass</td>\n",
       "      <td>Pass</td>\n",
       "      <td>NaN</td>\n",
       "    </tr>\n",
       "    <tr>\n",
       "      <th>GAS ON CALIFORNIA</th>\n",
       "      <td>NaN</td>\n",
       "      <td>Risk 3 (Low)</td>\n",
       "      <td>2800 W 63RD ST</td>\n",
       "      <td>60629.0</td>\n",
       "      <td>01/07/2010</td>\n",
       "      <td>Out of Business</td>\n",
       "      <td>Fail</td>\n",
       "      <td>NaN</td>\n",
       "    </tr>\n",
       "    <tr>\n",
       "      <th>SURF &amp; TURF WHERE SEAFOOD &amp; STEAK MEET, INC.</th>\n",
       "      <td>Restaurant</td>\n",
       "      <td>Risk 1 (High)</td>\n",
       "      <td>13205 S MUSKEGON AVE</td>\n",
       "      <td>60633.0</td>\n",
       "      <td>01/06/2010</td>\n",
       "      <td>Out of Business</td>\n",
       "      <td>Fail</td>\n",
       "      <td>NaN</td>\n",
       "    </tr>\n",
       "    <tr>\n",
       "      <th>FRESH PANTRY</th>\n",
       "      <td>Grocery Store</td>\n",
       "      <td>Risk 2 (Medium)</td>\n",
       "      <td>7337 S SOUTH SHORE DR</td>\n",
       "      <td>60649.0</td>\n",
       "      <td>01/06/2010</td>\n",
       "      <td>Complaint</td>\n",
       "      <td>Pass</td>\n",
       "      <td>34. FLOORS: CONSTRUCTED PER CODE, CLEANED, GOO...</td>\n",
       "    </tr>\n",
       "    <tr>\n",
       "      <th>BUTTER</th>\n",
       "      <td>NaN</td>\n",
       "      <td>Risk 3 (Low)</td>\n",
       "      <td>130 S GREEN ST</td>\n",
       "      <td>60607.0</td>\n",
       "      <td>01/06/2010</td>\n",
       "      <td>Out of Business</td>\n",
       "      <td>Pass</td>\n",
       "      <td>NaN</td>\n",
       "    </tr>\n",
       "    <tr>\n",
       "      <th>SAFAH FOOD &amp; LIQUOR INC</th>\n",
       "      <td>Grocery Store</td>\n",
       "      <td>Risk 3 (Low)</td>\n",
       "      <td>7105 S RACINE AVE</td>\n",
       "      <td>60636.0</td>\n",
       "      <td>01/05/2010</td>\n",
       "      <td>Canvass Re-Inspection</td>\n",
       "      <td>Pass</td>\n",
       "      <td>18. NO EVIDENCE OF RODENT OR INSECT OUTER OPEN...</td>\n",
       "    </tr>\n",
       "    <tr>\n",
       "      <th>RAINBOW GROCERY</th>\n",
       "      <td>Grocery Store</td>\n",
       "      <td>Risk 3 (Low)</td>\n",
       "      <td>2003 W 69TH ST</td>\n",
       "      <td>60636.0</td>\n",
       "      <td>01/05/2010</td>\n",
       "      <td>Canvass Re-Inspection</td>\n",
       "      <td>Pass</td>\n",
       "      <td>18. NO EVIDENCE OF RODENT OR INSECT OUTER OPEN...</td>\n",
       "    </tr>\n",
       "    <tr>\n",
       "      <th>MAKIA FOOD</th>\n",
       "      <td>NaN</td>\n",
       "      <td>Risk 3 (Low)</td>\n",
       "      <td>2458 S CALIFORNIA AVE</td>\n",
       "      <td>60608.0</td>\n",
       "      <td>01/05/2010</td>\n",
       "      <td>License Re-Inspection</td>\n",
       "      <td>Pass</td>\n",
       "      <td>33. FOOD AND NON-FOOD CONTACT EQUIPMENT UTENSI...</td>\n",
       "    </tr>\n",
       "  </tbody>\n",
       "</table>\n",
       "<p>24063 rows × 8 columns</p>\n",
       "</div>"
      ],
      "text/plain": [
       "                                                   Facility Type  \\\n",
       "DBA Name                                                           \n",
       "DANY'S TACOS                                          Restaurant   \n",
       "BILLY FOOD MARKET INC                                        NaN   \n",
       "TAQUERIA HACIENDA TAPATIA                             Restaurant   \n",
       "WILD GOOSE BAR & GRILL                                Restaurant   \n",
       "PUBLICAN TAVERN K1                                    Restaurant   \n",
       "LABRIOLA BAKERY AND CAFE                                  Bakery   \n",
       "PARK  PLAZA RETIREMENT CENTER                         Restaurant   \n",
       "SULLIVAN'S STEAKHOUSE                                 Restaurant   \n",
       "THRESHOLD SCHOOL                                          School   \n",
       "EDIBLE ARRANGEMENTS OF CHICAGO-HYDE PARK              Restaurant   \n",
       "ONE NORTH                                             Restaurant   \n",
       "FRONT YARD JERK GRILLE                                Restaurant   \n",
       "VILLA PALERMO INC                                     Restaurant   \n",
       "ST. BENEDICT ELEMENTARY SCHOOL                            School   \n",
       "BADERBRAU BREWING COMPANY                             Restaurant   \n",
       "ST. BENEDICT HIGH SCHOOL                                  School   \n",
       "LAGRANJA RESTAURANT INC.                              Restaurant   \n",
       "PHO NUMBER 1- VIETNAMESE CUISINE LLC                  Restaurant   \n",
       "PARADISE SUPERMARKET INC                           Grocery Store   \n",
       "BISTRO CAMPAGNE                                       Restaurant   \n",
       "ILLINOIS BAR & GRILL                                  Restaurant   \n",
       "PARADISE GROCERY INC.                              Grocery Store   \n",
       "CHIPOTLE MEXICAN GRILL#2768                           Restaurant   \n",
       "CARDONA'S                                             Restaurant   \n",
       "KINGS  GYROS #2                                       Restaurant   \n",
       "CATALYST MARIA                                            School   \n",
       "Canter Middle                                             School   \n",
       "BRU COFFEE HOUSE                                      Restaurant   \n",
       "J J MINI STORE                                GROCERY/RESTAURANT   \n",
       "LITTLE WOK                                            Restaurant   \n",
       "...                                                          ...   \n",
       "CHICAGO'S FISH HUT                                           NaN   \n",
       "Bake For Me !                                             Bakery   \n",
       "HOLE-IN-ONE-PIZZA                                            NaN   \n",
       "HOLE IN ONE PIZZA                                            NaN   \n",
       "JUKIN '  PIZZA                                               NaN   \n",
       "GREENLEAF FOOD MART, INC.                          Grocery Store   \n",
       "DIP & FLIP                                            Restaurant   \n",
       "INDIAN GOURMET                                               NaN   \n",
       "WISHCO, INC.                                                 NaN   \n",
       "MR K'S RESTAURANT                                            NaN   \n",
       "EL CUBANO WHLSE MEAT INC                               Wholesale   \n",
       "GREAT AMERICAN BAGEL, INC.                                   NaN   \n",
       "LOS JASMINES                                                 NaN   \n",
       "CAGNEY'S                                              Restaurant   \n",
       "MANGO'S BAR &GRILL OF CHICAGO                             Liquor   \n",
       "FOREST VIEW DELI                                             NaN   \n",
       "IGGY'S                                                       NaN   \n",
       "New Zion Child Care Academy                   Daycare Combo 1586   \n",
       "BK'S BAR-B-Q                                                 NaN   \n",
       "CHATO'S CHICKEN & MASHED                                     NaN   \n",
       "MAY MEI KITCHEN                                       Restaurant   \n",
       "SCRUB A DUB FULLERTON                                        NaN   \n",
       "SCRUB A DUB                                                  NaN   \n",
       "GAS ON CALIFORNIA                                            NaN   \n",
       "SURF & TURF WHERE SEAFOOD & STEAK MEET, INC.          Restaurant   \n",
       "FRESH PANTRY                                       Grocery Store   \n",
       "BUTTER                                                       NaN   \n",
       "SAFAH FOOD & LIQUOR INC                            Grocery Store   \n",
       "RAINBOW GROCERY                                    Grocery Store   \n",
       "MAKIA FOOD                                                   NaN   \n",
       "\n",
       "                                                         Risk  \\\n",
       "DBA Name                                                        \n",
       "DANY'S TACOS                                    Risk 1 (High)   \n",
       "BILLY FOOD MARKET INC                            Risk 3 (Low)   \n",
       "TAQUERIA HACIENDA TAPATIA                       Risk 1 (High)   \n",
       "WILD GOOSE BAR & GRILL                          Risk 1 (High)   \n",
       "PUBLICAN TAVERN K1                              Risk 1 (High)   \n",
       "LABRIOLA BAKERY AND CAFE                      Risk 2 (Medium)   \n",
       "PARK  PLAZA RETIREMENT CENTER                   Risk 1 (High)   \n",
       "SULLIVAN'S STEAKHOUSE                           Risk 1 (High)   \n",
       "THRESHOLD SCHOOL                                Risk 1 (High)   \n",
       "EDIBLE ARRANGEMENTS OF CHICAGO-HYDE PARK        Risk 1 (High)   \n",
       "ONE NORTH                                       Risk 1 (High)   \n",
       "FRONT YARD JERK GRILLE                          Risk 1 (High)   \n",
       "VILLA PALERMO INC                               Risk 1 (High)   \n",
       "ST. BENEDICT ELEMENTARY SCHOOL                  Risk 1 (High)   \n",
       "BADERBRAU BREWING COMPANY                     Risk 2 (Medium)   \n",
       "ST. BENEDICT HIGH SCHOOL                        Risk 1 (High)   \n",
       "LAGRANJA RESTAURANT INC.                        Risk 1 (High)   \n",
       "PHO NUMBER 1- VIETNAMESE CUISINE LLC            Risk 1 (High)   \n",
       "PARADISE SUPERMARKET INC                      Risk 2 (Medium)   \n",
       "BISTRO CAMPAGNE                                 Risk 1 (High)   \n",
       "ILLINOIS BAR & GRILL                            Risk 1 (High)   \n",
       "PARADISE GROCERY INC.                         Risk 2 (Medium)   \n",
       "CHIPOTLE MEXICAN GRILL#2768                     Risk 1 (High)   \n",
       "CARDONA'S                                       Risk 1 (High)   \n",
       "KINGS  GYROS #2                                 Risk 1 (High)   \n",
       "CATALYST MARIA                                  Risk 1 (High)   \n",
       "Canter Middle                                 Risk 2 (Medium)   \n",
       "BRU COFFEE HOUSE                              Risk 2 (Medium)   \n",
       "J J MINI STORE                                  Risk 1 (High)   \n",
       "LITTLE WOK                                      Risk 1 (High)   \n",
       "...                                                       ...   \n",
       "CHICAGO'S FISH HUT                              Risk 1 (High)   \n",
       "Bake For Me !                                   Risk 1 (High)   \n",
       "HOLE-IN-ONE-PIZZA                               Risk 1 (High)   \n",
       "HOLE IN ONE PIZZA                               Risk 1 (High)   \n",
       "JUKIN '  PIZZA                                  Risk 1 (High)   \n",
       "GREENLEAF FOOD MART, INC.                       Risk 1 (High)   \n",
       "DIP & FLIP                                    Risk 2 (Medium)   \n",
       "INDIAN GOURMET                                  Risk 1 (High)   \n",
       "WISHCO, INC.                                     Risk 3 (Low)   \n",
       "MR K'S RESTAURANT                               Risk 1 (High)   \n",
       "EL CUBANO WHLSE MEAT INC                      Risk 2 (Medium)   \n",
       "GREAT AMERICAN BAGEL, INC.                      Risk 1 (High)   \n",
       "LOS JASMINES                                     Risk 3 (Low)   \n",
       "CAGNEY'S                                        Risk 1 (High)   \n",
       "MANGO'S BAR &GRILL OF CHICAGO                    Risk 3 (Low)   \n",
       "FOREST VIEW DELI                                Risk 1 (High)   \n",
       "IGGY'S                                        Risk 2 (Medium)   \n",
       "New Zion Child Care Academy                     Risk 1 (High)   \n",
       "BK'S BAR-B-Q                                    Risk 1 (High)   \n",
       "CHATO'S CHICKEN & MASHED                        Risk 1 (High)   \n",
       "MAY MEI KITCHEN                                 Risk 1 (High)   \n",
       "SCRUB A DUB FULLERTON                         Risk 2 (Medium)   \n",
       "SCRUB A DUB                                   Risk 2 (Medium)   \n",
       "GAS ON CALIFORNIA                                Risk 3 (Low)   \n",
       "SURF & TURF WHERE SEAFOOD & STEAK MEET, INC.    Risk 1 (High)   \n",
       "FRESH PANTRY                                  Risk 2 (Medium)   \n",
       "BUTTER                                           Risk 3 (Low)   \n",
       "SAFAH FOOD & LIQUOR INC                          Risk 3 (Low)   \n",
       "RAINBOW GROCERY                                  Risk 3 (Low)   \n",
       "MAKIA FOOD                                       Risk 3 (Low)   \n",
       "\n",
       "                                                                 Address  \\\n",
       "DBA Name                                                                   \n",
       "DANY'S TACOS                                        2857 S ST LOUIS AVE    \n",
       "BILLY FOOD MARKET INC                               3906 W ROOSEVELT RD    \n",
       "TAQUERIA HACIENDA TAPATIA                                4125 W 26TH ST    \n",
       "WILD GOOSE BAR & GRILL                               4265 N LINCOLN AVE    \n",
       "PUBLICAN TAVERN K1                                    11601 W TOUHY AVE    \n",
       "LABRIOLA BAKERY AND CAFE                                 1301 W LAKE ST    \n",
       "PARK  PLAZA RETIREMENT CENTER                     6840 N SACRAMENTO AVE    \n",
       "SULLIVAN'S STEAKHOUSE                                 415 N DEARBORN ST    \n",
       "THRESHOLD SCHOOL                                     4219 N LINCOLN AVE    \n",
       "EDIBLE ARRANGEMENTS OF CHICAGO-HYDE PARK          1465 E HYDE PARK BLVD    \n",
       "ONE NORTH                                                 1 N WACKER DR    \n",
       "FRONT YARD JERK GRILLE                                     74 E 71ST ST    \n",
       "VILLA PALERMO INC                                      2154 W DEVON AVE    \n",
       "ST. BENEDICT ELEMENTARY SCHOOL                        3920 N LEAVITT ST    \n",
       "BADERBRAU BREWING COMPANY                        2513-2517 S WABASH AVE    \n",
       "ST. BENEDICT HIGH SCHOOL                              3900 N LEAVITT ST    \n",
       "LAGRANJA RESTAURANT INC.                              3047 N CICERO AVE    \n",
       "PHO NUMBER 1- VIETNAMESE CUISINE LLC                5914 W LAWRENCE AVE    \n",
       "PARADISE SUPERMARKET INC                       8101 S COTTAGE GROVE AVE    \n",
       "BISTRO CAMPAGNE                                      4518 N LINCOLN AVE    \n",
       "ILLINOIS BAR & GRILL                                      5700 S CICERO    \n",
       "PARADISE GROCERY INC.                          8101 S COTTAGE GROVE AVE    \n",
       "CHIPOTLE MEXICAN GRILL#2768                               806 W 63RD ST    \n",
       "CARDONA'S                                           3537 W LAWRENCE AVE    \n",
       "KINGS  GYROS #2                                    5233 N MILWAUKEE AVE    \n",
       "CATALYST MARIA                                    6727 S CALIFORNIA AVE    \n",
       "Canter Middle                                 4959 S Blackstone (1500E)    \n",
       "BRU COFFEE HOUSE                                   1562 N MILWAUKEE AVE    \n",
       "J J MINI STORE                                        3343 N PULASKI RD    \n",
       "LITTLE WOK                                              3144 N BROADWAY    \n",
       "...                                                                  ...   \n",
       "CHICAGO'S FISH HUT                                 570-2 W ROOSEVELT RD    \n",
       "Bake For Me !                                        608 W ROOSEVELT RD    \n",
       "HOLE-IN-ONE-PIZZA                                    2640 W CHICAGO AVE    \n",
       "HOLE IN ONE PIZZA                                    2640 W CHICAGO AVE    \n",
       "JUKIN '  PIZZA                                       2640 W CHICAGO AVE    \n",
       "GREENLEAF FOOD MART, INC.                           1619 S MICHIGAN AVE    \n",
       "DIP & FLIP                                           6510 S WESTERN AVE    \n",
       "INDIAN GOURMET                                     2916 1/2 W DEVON AVE    \n",
       "WISHCO, INC.                                             1546 W 35TH ST    \n",
       "MR K'S RESTAURANT                                     5415 N HARLEM AVE    \n",
       "EL CUBANO WHLSE MEAT INC                            926 W FULTON MARKET    \n",
       "GREAT AMERICAN BAGEL, INC.                        4634 N CUMBERLAND AVE    \n",
       "LOS JASMINES                                             1100 W 18TH ST    \n",
       "CAGNEY'S                                            2142 N CLYBOURN AVE    \n",
       "MANGO'S BAR &GRILL OF CHICAGO                 2828 N MILWAUKEE AVE BLDG    \n",
       "FOREST VIEW DELI                                   6452 N MILWAUKEE AVE    \n",
       "IGGY'S                                              700 N MILWAUKEE AVE    \n",
       "New Zion Child Care Academy                             1960 W 13 th ST    \n",
       "BK'S BAR-B-Q                                             2152 E 71ST ST    \n",
       "CHATO'S CHICKEN & MASHED                               1519 W TAYLOR ST    \n",
       "MAY MEI KITCHEN                                          1122 W 95TH ST    \n",
       "SCRUB A DUB FULLERTON                              3333 W FULLERTON AVE    \n",
       "SCRUB A DUB                                        3333 W FULLERTON AVE    \n",
       "GAS ON CALIFORNIA                                        2800 W 63RD ST    \n",
       "SURF & TURF WHERE SEAFOOD & STEAK MEET, INC.       13205 S MUSKEGON AVE    \n",
       "FRESH PANTRY                                      7337 S SOUTH SHORE DR    \n",
       "BUTTER                                                   130 S GREEN ST    \n",
       "SAFAH FOOD & LIQUOR INC                               7105 S RACINE AVE    \n",
       "RAINBOW GROCERY                                          2003 W 69TH ST    \n",
       "MAKIA FOOD                                        2458 S CALIFORNIA AVE    \n",
       "\n",
       "                                                  Zip Inspection Date  \\\n",
       "DBA Name                                                                \n",
       "DANY'S TACOS                                  60623.0      03/27/2017   \n",
       "BILLY FOOD MARKET INC                         60624.0      03/27/2017   \n",
       "TAQUERIA HACIENDA TAPATIA                     60623.0      03/27/2017   \n",
       "WILD GOOSE BAR & GRILL                        60618.0      03/27/2017   \n",
       "PUBLICAN TAVERN K1                            60666.0      03/27/2017   \n",
       "LABRIOLA BAKERY AND CAFE                      60607.0      03/27/2017   \n",
       "PARK  PLAZA RETIREMENT CENTER                 60645.0      03/27/2017   \n",
       "SULLIVAN'S STEAKHOUSE                         60654.0      03/27/2017   \n",
       "THRESHOLD SCHOOL                              60618.0      03/27/2017   \n",
       "EDIBLE ARRANGEMENTS OF CHICAGO-HYDE PARK      60615.0      03/24/2017   \n",
       "ONE NORTH                                     60606.0      03/27/2017   \n",
       "FRONT YARD JERK GRILLE                        60619.0      03/24/2017   \n",
       "VILLA PALERMO INC                             60659.0      03/24/2017   \n",
       "ST. BENEDICT ELEMENTARY SCHOOL                60618.0      03/24/2017   \n",
       "BADERBRAU BREWING COMPANY                     60616.0      03/24/2017   \n",
       "ST. BENEDICT HIGH SCHOOL                      60618.0      03/24/2017   \n",
       "LAGRANJA RESTAURANT INC.                      60641.0      03/24/2017   \n",
       "PHO NUMBER 1- VIETNAMESE CUISINE LLC          60630.0      03/24/2017   \n",
       "PARADISE SUPERMARKET INC                      60619.0      03/24/2017   \n",
       "BISTRO CAMPAGNE                               60625.0      03/24/2017   \n",
       "ILLINOIS BAR & GRILL                          60638.0      03/24/2017   \n",
       "PARADISE GROCERY INC.                         60619.0      03/24/2017   \n",
       "CHIPOTLE MEXICAN GRILL#2768                   60621.0      03/24/2017   \n",
       "CARDONA'S                                     60625.0      03/24/2017   \n",
       "KINGS  GYROS #2                               60630.0      03/24/2017   \n",
       "CATALYST MARIA                                60629.0      03/20/2017   \n",
       "Canter Middle                                 60615.0      03/24/2017   \n",
       "BRU COFFEE HOUSE                              60622.0      03/24/2017   \n",
       "J J MINI STORE                                60641.0      03/24/2017   \n",
       "LITTLE WOK                                    60657.0      03/24/2017   \n",
       "...                                               ...             ...   \n",
       "CHICAGO'S FISH HUT                            60607.0      01/14/2010   \n",
       "Bake For Me !                                 60607.0      01/14/2010   \n",
       "HOLE-IN-ONE-PIZZA                             60622.0      01/13/2010   \n",
       "HOLE IN ONE PIZZA                             60622.0      01/13/2010   \n",
       "JUKIN '  PIZZA                                60622.0      01/13/2010   \n",
       "GREENLEAF FOOD MART, INC.                     60616.0      01/12/2010   \n",
       "DIP & FLIP                                    60636.0      01/12/2010   \n",
       "INDIAN GOURMET                                60659.0      01/12/2010   \n",
       "WISHCO, INC.                                  60609.0      01/13/2010   \n",
       "MR K'S RESTAURANT                             60656.0      01/13/2010   \n",
       "EL CUBANO WHLSE MEAT INC                      60607.0      01/13/2010   \n",
       "GREAT AMERICAN BAGEL, INC.                    60656.0      01/12/2010   \n",
       "LOS JASMINES                                  60608.0      01/12/2010   \n",
       "CAGNEY'S                                      60614.0      01/12/2010   \n",
       "MANGO'S BAR &GRILL OF CHICAGO                 60618.0      01/12/2010   \n",
       "FOREST VIEW DELI                              60631.0      01/11/2010   \n",
       "IGGY'S                                        60622.0      01/11/2010   \n",
       "New Zion Child Care Academy                   60608.0      01/08/2010   \n",
       "BK'S BAR-B-Q                                  60649.0      01/11/2010   \n",
       "CHATO'S CHICKEN & MASHED                      60607.0      01/11/2010   \n",
       "MAY MEI KITCHEN                               60643.0      01/11/2010   \n",
       "SCRUB A DUB FULLERTON                         60647.0      01/07/2010   \n",
       "SCRUB A DUB                                   60647.0      01/07/2010   \n",
       "GAS ON CALIFORNIA                             60629.0      01/07/2010   \n",
       "SURF & TURF WHERE SEAFOOD & STEAK MEET, INC.  60633.0      01/06/2010   \n",
       "FRESH PANTRY                                  60649.0      01/06/2010   \n",
       "BUTTER                                        60607.0      01/06/2010   \n",
       "SAFAH FOOD & LIQUOR INC                       60636.0      01/05/2010   \n",
       "RAINBOW GROCERY                               60636.0      01/05/2010   \n",
       "MAKIA FOOD                                    60608.0      01/05/2010   \n",
       "\n",
       "                                                      Inspection Type  \\\n",
       "DBA Name                                                                \n",
       "DANY'S TACOS                                                  License   \n",
       "BILLY FOOD MARKET INC                                         License   \n",
       "TAQUERIA HACIENDA TAPATIA                       License Re-Inspection   \n",
       "WILD GOOSE BAR & GRILL                                        Canvass   \n",
       "PUBLICAN TAVERN K1                                            Canvass   \n",
       "LABRIOLA BAKERY AND CAFE                                      License   \n",
       "PARK  PLAZA RETIREMENT CENTER                               Complaint   \n",
       "SULLIVAN'S STEAKHOUSE                                       Complaint   \n",
       "THRESHOLD SCHOOL                                              Canvass   \n",
       "EDIBLE ARRANGEMENTS OF CHICAGO-HYDE PARK                      Canvass   \n",
       "ONE NORTH                                       Canvass Re-Inspection   \n",
       "FRONT YARD JERK GRILLE                                        Canvass   \n",
       "VILLA PALERMO INC                                           Complaint   \n",
       "ST. BENEDICT ELEMENTARY SCHOOL                                Canvass   \n",
       "BADERBRAU BREWING COMPANY                                     License   \n",
       "ST. BENEDICT HIGH SCHOOL                                      Canvass   \n",
       "LAGRANJA RESTAURANT INC.                                      Canvass   \n",
       "PHO NUMBER 1- VIETNAMESE CUISINE LLC          Complaint Re-Inspection   \n",
       "PARADISE SUPERMARKET INC                                      Canvass   \n",
       "BISTRO CAMPAGNE                                               Canvass   \n",
       "ILLINOIS BAR & GRILL                                        Complaint   \n",
       "PARADISE GROCERY INC.                                         License   \n",
       "CHIPOTLE MEXICAN GRILL#2768                                 Complaint   \n",
       "CARDONA'S                                       Canvass Re-Inspection   \n",
       "KINGS  GYROS #2                                 Canvass Re-Inspection   \n",
       "CATALYST MARIA                                                Canvass   \n",
       "Canter Middle                                                 Canvass   \n",
       "BRU COFFEE HOUSE                                            Complaint   \n",
       "J J MINI STORE                                                Canvass   \n",
       "LITTLE WOK                                                  Complaint   \n",
       "...                                                               ...   \n",
       "CHICAGO'S FISH HUT                                    Out of Business   \n",
       "Bake For Me !                                                 Canvass   \n",
       "HOLE-IN-ONE-PIZZA                                     Out of Business   \n",
       "HOLE IN ONE PIZZA                                     Out of Business   \n",
       "JUKIN '  PIZZA                                        Out of Business   \n",
       "GREENLEAF FOOD MART, INC.                                   Complaint   \n",
       "DIP & FLIP                                       Short Form Complaint   \n",
       "INDIAN GOURMET                                                Canvass   \n",
       "WISHCO, INC.                                          Out of Business   \n",
       "MR K'S RESTAURANT                                     Out of Business   \n",
       "EL CUBANO WHLSE MEAT INC                                    Complaint   \n",
       "GREAT AMERICAN BAGEL, INC.                            Out of Business   \n",
       "LOS JASMINES                                          Out of Business   \n",
       "CAGNEY'S                                                      Canvass   \n",
       "MANGO'S BAR &GRILL OF CHICAGO                      License-Task Force   \n",
       "FOREST VIEW DELI                                      Out of Business   \n",
       "IGGY'S                                                Out of Business   \n",
       "New Zion Child Care Academy                     License Re-Inspection   \n",
       "BK'S BAR-B-Q                                          Out of Business   \n",
       "CHATO'S CHICKEN & MASHED                              Out of Business   \n",
       "MAY MEI KITCHEN                                 License Re-Inspection   \n",
       "SCRUB A DUB FULLERTON                                         Canvass   \n",
       "SCRUB A DUB                                                   Canvass   \n",
       "GAS ON CALIFORNIA                                     Out of Business   \n",
       "SURF & TURF WHERE SEAFOOD & STEAK MEET, INC.          Out of Business   \n",
       "FRESH PANTRY                                                Complaint   \n",
       "BUTTER                                                Out of Business   \n",
       "SAFAH FOOD & LIQUOR INC                         Canvass Re-Inspection   \n",
       "RAINBOW GROCERY                                 Canvass Re-Inspection   \n",
       "MAKIA FOOD                                      License Re-Inspection   \n",
       "\n",
       "                                                         Results  \\\n",
       "DBA Name                                                           \n",
       "DANY'S TACOS                                                Fail   \n",
       "BILLY FOOD MARKET INC                                  Not Ready   \n",
       "TAQUERIA HACIENDA TAPATIA                                   Pass   \n",
       "WILD GOOSE BAR & GRILL                                      Fail   \n",
       "PUBLICAN TAVERN K1                                          Fail   \n",
       "LABRIOLA BAKERY AND CAFE                               Not Ready   \n",
       "PARK  PLAZA RETIREMENT CENTER                               Fail   \n",
       "SULLIVAN'S STEAKHOUSE                                       Fail   \n",
       "THRESHOLD SCHOOL                                            Pass   \n",
       "EDIBLE ARRANGEMENTS OF CHICAGO-HYDE PARK      Pass w/ Conditions   \n",
       "ONE NORTH                                                   Fail   \n",
       "FRONT YARD JERK GRILLE                                      Pass   \n",
       "VILLA PALERMO INC                             Pass w/ Conditions   \n",
       "ST. BENEDICT ELEMENTARY SCHOOL                              Pass   \n",
       "BADERBRAU BREWING COMPANY                                   Pass   \n",
       "ST. BENEDICT HIGH SCHOOL                                    Pass   \n",
       "LAGRANJA RESTAURANT INC.                                    Fail   \n",
       "PHO NUMBER 1- VIETNAMESE CUISINE LLC                        Pass   \n",
       "PARADISE SUPERMARKET INC                         Out of Business   \n",
       "BISTRO CAMPAGNE                                             Fail   \n",
       "ILLINOIS BAR & GRILL                                        Pass   \n",
       "PARADISE GROCERY INC.                                       Pass   \n",
       "CHIPOTLE MEXICAN GRILL#2768                   Pass w/ Conditions   \n",
       "CARDONA'S                                                   Pass   \n",
       "KINGS  GYROS #2                                             Fail   \n",
       "CATALYST MARIA                                              Pass   \n",
       "Canter Middle                                               Fail   \n",
       "BRU COFFEE HOUSE                              Pass w/ Conditions   \n",
       "J J MINI STORE                                              Pass   \n",
       "LITTLE WOK                                    Pass w/ Conditions   \n",
       "...                                                          ...   \n",
       "CHICAGO'S FISH HUT                                          Pass   \n",
       "Bake For Me !                                               Pass   \n",
       "HOLE-IN-ONE-PIZZA                                           Pass   \n",
       "HOLE IN ONE PIZZA                                           Pass   \n",
       "JUKIN '  PIZZA                                              Pass   \n",
       "GREENLEAF FOOD MART, INC.                     Pass w/ Conditions   \n",
       "DIP & FLIP                                                  Fail   \n",
       "INDIAN GOURMET                                              Fail   \n",
       "WISHCO, INC.                                                Fail   \n",
       "MR K'S RESTAURANT                                           Pass   \n",
       "EL CUBANO WHLSE MEAT INC                                    Pass   \n",
       "GREAT AMERICAN BAGEL, INC.                                  Pass   \n",
       "LOS JASMINES                                                Fail   \n",
       "CAGNEY'S                                                    Pass   \n",
       "MANGO'S BAR &GRILL OF CHICAGO                               Fail   \n",
       "FOREST VIEW DELI                                            Pass   \n",
       "IGGY'S                                                      Pass   \n",
       "New Zion Child Care Academy                                 Pass   \n",
       "BK'S BAR-B-Q                                                Fail   \n",
       "CHATO'S CHICKEN & MASHED                                    Pass   \n",
       "MAY MEI KITCHEN                                             Pass   \n",
       "SCRUB A DUB FULLERTON                                       Pass   \n",
       "SCRUB A DUB                                                 Pass   \n",
       "GAS ON CALIFORNIA                                           Fail   \n",
       "SURF & TURF WHERE SEAFOOD & STEAK MEET, INC.                Fail   \n",
       "FRESH PANTRY                                                Pass   \n",
       "BUTTER                                                      Pass   \n",
       "SAFAH FOOD & LIQUOR INC                                     Pass   \n",
       "RAINBOW GROCERY                                             Pass   \n",
       "MAKIA FOOD                                                  Pass   \n",
       "\n",
       "                                                                                     Violations  \n",
       "DBA Name                                                                                         \n",
       "DANY'S TACOS                                  16. FOOD PROTECTED DURING STORAGE, PREPARATION...  \n",
       "BILLY FOOD MARKET INC                                                                       NaN  \n",
       "TAQUERIA HACIENDA TAPATIA                     2. FACILITIES TO MAINTAIN PROPER TEMPERATURE -...  \n",
       "WILD GOOSE BAR & GRILL                        16. FOOD PROTECTED DURING STORAGE, PREPARATION...  \n",
       "PUBLICAN TAVERN K1                            18. NO EVIDENCE OF RODENT OR INSECT OUTER OPEN...  \n",
       "LABRIOLA BAKERY AND CAFE                                                                    NaN  \n",
       "PARK  PLAZA RETIREMENT CENTER                 6. HANDS WASHED AND CLEANED, GOOD HYGIENIC PRA...  \n",
       "SULLIVAN'S STEAKHOUSE                         16. FOOD PROTECTED DURING STORAGE, PREPARATION...  \n",
       "THRESHOLD SCHOOL                              38. VENTILATION: ROOMS AND EQUIPMENT VENTED AS...  \n",
       "EDIBLE ARRANGEMENTS OF CHICAGO-HYDE PARK      21. * CERTIFIED FOOD MANAGER ON SITE WHEN POTE...  \n",
       "ONE NORTH                                     14. PREVIOUS SERIOUS VIOLATION CORRECTED, 7-42...  \n",
       "FRONT YARD JERK GRILLE                        33. FOOD AND NON-FOOD CONTACT EQUIPMENT UTENSI...  \n",
       "VILLA PALERMO INC                             19. OUTSIDE GARBAGE WASTE GREASE AND STORAGE A...  \n",
       "ST. BENEDICT ELEMENTARY SCHOOL                40. REFRIGERATION AND METAL STEM THERMOMETERS ...  \n",
       "BADERBRAU BREWING COMPANY                     38. VENTILATION: ROOMS AND EQUIPMENT VENTED AS...  \n",
       "ST. BENEDICT HIGH SCHOOL                      33. FOOD AND NON-FOOD CONTACT EQUIPMENT UTENSI...  \n",
       "LAGRANJA RESTAURANT INC.                      29. PREVIOUS MINOR VIOLATION(S) CORRECTED 7-42...  \n",
       "PHO NUMBER 1- VIETNAMESE CUISINE LLC          13. NO EVIDENCE OF RODENT OR INSECT INFESTATIO...  \n",
       "PARADISE SUPERMARKET INC                                                                    NaN  \n",
       "BISTRO CAMPAGNE                               16. FOOD PROTECTED DURING STORAGE, PREPARATION...  \n",
       "ILLINOIS BAR & GRILL                          38. VENTILATION: ROOMS AND EQUIPMENT VENTED AS...  \n",
       "PARADISE GROCERY INC.                         32. FOOD AND NON-FOOD CONTACT SURFACES PROPERL...  \n",
       "CHIPOTLE MEXICAN GRILL#2768                   3. POTENTIALLY HAZARDOUS FOOD MEETS TEMPERATUR...  \n",
       "CARDONA'S                                     22. DISH MACHINES: PROVIDED WITH ACCURATE THER...  \n",
       "KINGS  GYROS #2                               16. FOOD PROTECTED DURING STORAGE, PREPARATION...  \n",
       "CATALYST MARIA                                33. FOOD AND NON-FOOD CONTACT EQUIPMENT UTENSI...  \n",
       "Canter Middle                                 18. NO EVIDENCE OF RODENT OR INSECT OUTER OPEN...  \n",
       "BRU COFFEE HOUSE                              2. FACILITIES TO MAINTAIN PROPER TEMPERATURE -...  \n",
       "J J MINI STORE                                35. WALLS, CEILINGS, ATTACHED EQUIPMENT CONSTR...  \n",
       "LITTLE WOK                                    3. POTENTIALLY HAZARDOUS FOOD MEETS TEMPERATUR...  \n",
       "...                                                                                         ...  \n",
       "CHICAGO'S FISH HUT                                                                          NaN  \n",
       "Bake For Me !                                 34. FLOORS: CONSTRUCTED PER CODE, CLEANED, GOO...  \n",
       "HOLE-IN-ONE-PIZZA                                                                           NaN  \n",
       "HOLE IN ONE PIZZA                                                                           NaN  \n",
       "JUKIN '  PIZZA                                                                              NaN  \n",
       "GREENLEAF FOOD MART, INC.                     1. SOURCE SOUND CONDITION, NO SPOILAGE, FOODS ...  \n",
       "DIP & FLIP                                                                                  NaN  \n",
       "INDIAN GOURMET                                                                              NaN  \n",
       "WISHCO, INC.                                                                                NaN  \n",
       "MR K'S RESTAURANT                                                                           NaN  \n",
       "EL CUBANO WHLSE MEAT INC                      34. FLOORS: CONSTRUCTED PER CODE, CLEANED, GOO...  \n",
       "GREAT AMERICAN BAGEL, INC.                                                                  NaN  \n",
       "LOS JASMINES                                                                                NaN  \n",
       "CAGNEY'S                                      32. FOOD AND NON-FOOD CONTACT SURFACES PROPERL...  \n",
       "MANGO'S BAR &GRILL OF CHICAGO                 12. HAND WASHING FACILITIES: WITH SOAP AND SAN...  \n",
       "FOREST VIEW DELI                                                                            NaN  \n",
       "IGGY'S                                                                                      NaN  \n",
       "New Zion Child Care Academy                   32. FOOD AND NON-FOOD CONTACT SURFACES PROPERL...  \n",
       "BK'S BAR-B-Q                                                                                NaN  \n",
       "CHATO'S CHICKEN & MASHED                                                                    NaN  \n",
       "MAY MEI KITCHEN                               2. FACILITIES TO MAINTAIN PROPER TEMPERATURE -...  \n",
       "SCRUB A DUB FULLERTON                                                                       NaN  \n",
       "SCRUB A DUB                                                                                 NaN  \n",
       "GAS ON CALIFORNIA                                                                           NaN  \n",
       "SURF & TURF WHERE SEAFOOD & STEAK MEET, INC.                                                NaN  \n",
       "FRESH PANTRY                                  34. FLOORS: CONSTRUCTED PER CODE, CLEANED, GOO...  \n",
       "BUTTER                                                                                      NaN  \n",
       "SAFAH FOOD & LIQUOR INC                       18. NO EVIDENCE OF RODENT OR INSECT OUTER OPEN...  \n",
       "RAINBOW GROCERY                               18. NO EVIDENCE OF RODENT OR INSECT OUTER OPEN...  \n",
       "MAKIA FOOD                                    33. FOOD AND NON-FOOD CONTACT EQUIPMENT UTENSI...  \n",
       "\n",
       "[24063 rows x 8 columns]"
      ]
     },
     "execution_count": 25,
     "metadata": {},
     "output_type": "execute_result"
    }
   ],
   "source": [
    "## your code here\n",
    "df.set_index('DBA Name')"
   ]
  },
  {
   "cell_type": "markdown",
   "metadata": {},
   "source": [
    "### Exercise 2\n",
    "<span  style=\"color:green; font-size:16px\">Select the **`Risk`** column as a Series with [ ].</span>"
   ]
  },
  {
   "cell_type": "code",
   "execution_count": null,
   "metadata": {},
   "outputs": [],
   "source": [
    "## your code here\n"
   ]
  },
  {
   "cell_type": "markdown",
   "metadata": {},
   "source": [
    "### Exercise 3\n",
    "<span  style=\"color:green; font-size:16px\">Select the **`Risk`** and **`Results`** columns</span>"
   ]
  },
  {
   "cell_type": "code",
   "execution_count": null,
   "metadata": {
    "collapsed": true
   },
   "outputs": [],
   "source": [
    "## your code here"
   ]
  },
  {
   "cell_type": "markdown",
   "metadata": {},
   "source": [
    "### Exercise 4\n",
    "<span  style=\"color:green; font-size:16px\">Select a single column as a DataFrame</span>"
   ]
  },
  {
   "cell_type": "code",
   "execution_count": null,
   "metadata": {
    "collapsed": true
   },
   "outputs": [],
   "source": [
    "##your code here"
   ]
  },
  {
   "cell_type": "markdown",
   "metadata": {},
   "source": [
    "### Exercise 5\n",
    "<span  style=\"color:green; font-size:16px\">Select the row for the restaurant **`WILD GOOSE BAR & GRILL`**.  What object is returned?</span>"
   ]
  },
  {
   "cell_type": "code",
   "execution_count": null,
   "metadata": {
    "collapsed": true
   },
   "outputs": [],
   "source": [
    "##your code here"
   ]
  },
  {
   "cell_type": "markdown",
   "metadata": {},
   "source": [
    "### Exercise 6\n",
    "<span  style=\"color:green; font-size:16px\">Select the rows for the restaurants **`WILD GOOSE BAR & GRILL`** and **`TAQUERIA HACIENDA TAPATIA`** along with columns **`Risk`** and **`Results`**.</span>"
   ]
  },
  {
   "cell_type": "code",
   "execution_count": null,
   "metadata": {
    "collapsed": true
   },
   "outputs": [],
   "source": [
    "##your code here"
   ]
  },
  {
   "cell_type": "markdown",
   "metadata": {},
   "source": [
    "### Exercise 7\n",
    "<span  style=\"color:green; font-size:16px\">What is the risk of restaurant **`SCRUB A DUB`**?</span>"
   ]
  },
  {
   "cell_type": "code",
   "execution_count": null,
   "metadata": {
    "collapsed": true
   },
   "outputs": [],
   "source": [
    "##your code here"
   ]
  },
  {
   "cell_type": "markdown",
   "metadata": {},
   "source": [
    "### Exercise 8\n",
    "<span  style=\"color:green; font-size:16px\">Select every 3,000th restaurant from **`THRESHOLD SCHOOL`** to **`SCRUB A DUB`** and the columns from **`Inspection Type`** on to the end of the DataFrame.</span>"
   ]
  },
  {
   "cell_type": "code",
   "execution_count": null,
   "metadata": {
    "collapsed": true
   },
   "outputs": [],
   "source": [
    "##your code here"
   ]
  },
  {
   "cell_type": "markdown",
   "metadata": {},
   "source": [
    "### Exercise 9\n",
    "<span  style=\"color:green; font-size:16px\">Select all columns from the 500th restaurant to the 510th</span>"
   ]
  },
  {
   "cell_type": "code",
   "execution_count": null,
   "metadata": {
    "collapsed": true
   },
   "outputs": [],
   "source": [
    "##your code here"
   ]
  },
  {
   "cell_type": "markdown",
   "metadata": {},
   "source": [
    "### Exercise 10\n",
    "<span  style=\"color:green; font-size:16px\">Select restaurants 100, 1,000 and 10,000 along with columns 5, 3, and 1</span>"
   ]
  },
  {
   "cell_type": "code",
   "execution_count": null,
   "metadata": {
    "collapsed": true
   },
   "outputs": [],
   "source": [
    "##your code here"
   ]
  },
  {
   "cell_type": "markdown",
   "metadata": {},
   "source": [
    "### Exercise 11\n",
    "<span  style=\"color:green; font-size:16px\">Select the **`Risk`** column and save it to a Series</span>"
   ]
  },
  {
   "cell_type": "code",
   "execution_count": null,
   "metadata": {
    "collapsed": true
   },
   "outputs": [],
   "source": [
    "##your code here"
   ]
  },
  {
   "cell_type": "markdown",
   "metadata": {},
   "source": [
    "### Exercise 12\n",
    "<span  style=\"color:green; font-size:16px\">Using the risk Series, select **`ARBYS`** and **`POPEYES FAMOUS FRIED CHICKEN`**</span>"
   ]
  },
  {
   "cell_type": "code",
   "execution_count": null,
   "metadata": {
    "collapsed": true
   },
   "outputs": [],
   "source": [
    "##your code here"
   ]
  }
 ],
 "metadata": {
  "kernelspec": {
   "display_name": "Python 3",
   "language": "python",
   "name": "python3"
  },
  "language_info": {
   "codemirror_mode": {
    "name": "ipython",
    "version": 3
   },
   "file_extension": ".py",
   "mimetype": "text/x-python",
   "name": "python",
   "nbconvert_exporter": "python",
   "pygments_lexer": "ipython3",
   "version": "3.7.0"
  }
 },
 "nbformat": 4,
 "nbformat_minor": 2
}
